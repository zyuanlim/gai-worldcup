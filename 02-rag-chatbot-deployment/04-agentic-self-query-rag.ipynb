{
 "cells": [
  {
   "cell_type": "code",
   "execution_count": 0,
   "metadata": {
    "application/vnd.databricks.v1+cell": {
     "cellMetadata": {
      "byteLimit": 2048000,
      "rowLimit": 10000
     },
     "inputWidgets": {},
     "nuid": "b523fbe6-316f-4419-9f0c-4a6b728833fa",
     "showTitle": false,
     "title": ""
    }
   },
   "outputs": [
    {
     "output_type": "stream",
     "name": "stdout",
     "output_type": "stream",
     "text": [
      "\u001B[43mNote: you may need to restart the kernel using dbutils.library.restartPython() to use updated packages.\u001B[0m\nRequirement already satisfied: langchain==0.1.17 in /local_disk0/.ephemeral_nfs/envs/pythonEnv-425fdc49-4f88-4ec1-8bf9-6e7a6d0893c1/lib/python3.11/site-packages (0.1.17)\nRequirement already satisfied: langchain-openai==0.1.6 in /local_disk0/.ephemeral_nfs/envs/pythonEnv-425fdc49-4f88-4ec1-8bf9-6e7a6d0893c1/lib/python3.11/site-packages (0.1.6)\nRequirement already satisfied: langchainhub==0.1.15 in /local_disk0/.ephemeral_nfs/envs/pythonEnv-425fdc49-4f88-4ec1-8bf9-6e7a6d0893c1/lib/python3.11/site-packages (0.1.15)\nRequirement already satisfied: langgraph==0.0.40 in /local_disk0/.ephemeral_nfs/envs/pythonEnv-425fdc49-4f88-4ec1-8bf9-6e7a6d0893c1/lib/python3.11/site-packages (0.0.40)\nRequirement already satisfied: databricks-vectorsearch==0.33 in /local_disk0/.ephemeral_nfs/envs/pythonEnv-425fdc49-4f88-4ec1-8bf9-6e7a6d0893c1/lib/python3.11/site-packages (0.33)\nRequirement already satisfied: mlflow==2.12.1 in /local_disk0/.ephemeral_nfs/envs/pythonEnv-425fdc49-4f88-4ec1-8bf9-6e7a6d0893c1/lib/python3.11/site-packages (2.12.1)\nRequirement already satisfied: lark==1.1.9 in /local_disk0/.ephemeral_nfs/envs/pythonEnv-425fdc49-4f88-4ec1-8bf9-6e7a6d0893c1/lib/python3.11/site-packages (1.1.9)\nCollecting duckduckgo-search==5.3.0\n  Obtaining dependency information for duckduckgo-search==5.3.0 from https://files.pythonhosted.org/packages/01/0c/0d5bc90708f19dcc344dfa5afb3a2b612845fd9ce5d68f7a2a18a21ac46e/duckduckgo_search-5.3.0-py3-none-any.whl.metadata\n  Downloading duckduckgo_search-5.3.0-py3-none-any.whl.metadata (18 kB)\nRequirement already satisfied: PyYAML>=5.3 in /databricks/python3/lib/python3.11/site-packages (from langchain==0.1.17) (6.0)\nRequirement already satisfied: SQLAlchemy<3,>=1.4 in /local_disk0/.ephemeral_nfs/envs/pythonEnv-425fdc49-4f88-4ec1-8bf9-6e7a6d0893c1/lib/python3.11/site-packages (from langchain==0.1.17) (2.0.29)\nRequirement already satisfied: aiohttp<4.0.0,>=3.8.3 in /local_disk0/.ephemeral_nfs/envs/pythonEnv-425fdc49-4f88-4ec1-8bf9-6e7a6d0893c1/lib/python3.11/site-packages (from langchain==0.1.17) (3.9.5)\nRequirement already satisfied: dataclasses-json<0.7,>=0.5.7 in /local_disk0/.ephemeral_nfs/envs/pythonEnv-425fdc49-4f88-4ec1-8bf9-6e7a6d0893c1/lib/python3.11/site-packages (from langchain==0.1.17) (0.6.5)\nRequirement already satisfied: jsonpatch<2.0,>=1.33 in /local_disk0/.ephemeral_nfs/envs/pythonEnv-425fdc49-4f88-4ec1-8bf9-6e7a6d0893c1/lib/python3.11/site-packages (from langchain==0.1.17) (1.33)\nRequirement already satisfied: langchain-community<0.1,>=0.0.36 in /local_disk0/.ephemeral_nfs/envs/pythonEnv-425fdc49-4f88-4ec1-8bf9-6e7a6d0893c1/lib/python3.11/site-packages (from langchain==0.1.17) (0.0.36)\nRequirement already satisfied: langchain-core<0.2.0,>=0.1.48 in /local_disk0/.ephemeral_nfs/envs/pythonEnv-425fdc49-4f88-4ec1-8bf9-6e7a6d0893c1/lib/python3.11/site-packages (from langchain==0.1.17) (0.1.50)\nRequirement already satisfied: langchain-text-splitters<0.1,>=0.0.1 in /local_disk0/.ephemeral_nfs/envs/pythonEnv-425fdc49-4f88-4ec1-8bf9-6e7a6d0893c1/lib/python3.11/site-packages (from langchain==0.1.17) (0.0.1)\nRequirement already satisfied: langsmith<0.2.0,>=0.1.17 in /local_disk0/.ephemeral_nfs/envs/pythonEnv-425fdc49-4f88-4ec1-8bf9-6e7a6d0893c1/lib/python3.11/site-packages (from langchain==0.1.17) (0.1.53)\nRequirement already satisfied: numpy<2,>=1 in /databricks/python3/lib/python3.11/site-packages (from langchain==0.1.17) (1.23.5)\nRequirement already satisfied: pydantic<3,>=1 in /databricks/python3/lib/python3.11/site-packages (from langchain==0.1.17) (1.10.6)\nRequirement already satisfied: requests<3,>=2 in /databricks/python3/lib/python3.11/site-packages (from langchain==0.1.17) (2.31.0)\nRequirement already satisfied: tenacity<9.0.0,>=8.1.0 in /databricks/python3/lib/python3.11/site-packages (from langchain==0.1.17) (8.2.2)\nRequirement already satisfied: openai<2.0.0,>=1.24.0 in /local_disk0/.ephemeral_nfs/envs/pythonEnv-425fdc49-4f88-4ec1-8bf9-6e7a6d0893c1/lib/python3.11/site-packages (from langchain-openai==0.1.6) (1.25.1)\nRequirement already satisfied: tiktoken<1,>=0.5.2 in /local_disk0/.ephemeral_nfs/envs/pythonEnv-425fdc49-4f88-4ec1-8bf9-6e7a6d0893c1/lib/python3.11/site-packages (from langchain-openai==0.1.6) (0.6.0)\nRequirement already satisfied: types-requests<3.0.0.0,>=2.31.0.2 in /local_disk0/.ephemeral_nfs/envs/pythonEnv-425fdc49-4f88-4ec1-8bf9-6e7a6d0893c1/lib/python3.11/site-packages (from langchainhub==0.1.15) (2.31.0.20240406)\nRequirement already satisfied: mlflow-skinny<3,>=2.11.3 in /local_disk0/.ephemeral_nfs/envs/pythonEnv-425fdc49-4f88-4ec1-8bf9-6e7a6d0893c1/lib/python3.11/site-packages (from databricks-vectorsearch==0.33) (2.12.1)\nRequirement already satisfied: protobuf<5,>=3.12.0 in /databricks/python3/lib/python3.11/site-packages (from databricks-vectorsearch==0.33) (4.24.1)\nRequirement already satisfied: Flask<4 in /local_disk0/.ephemeral_nfs/envs/pythonEnv-425fdc49-4f88-4ec1-8bf9-6e7a6d0893c1/lib/python3.11/site-packages (from mlflow==2.12.1) (3.0.3)\nRequirement already satisfied: alembic!=1.10.0,<2 in /local_disk0/.ephemeral_nfs/envs/pythonEnv-425fdc49-4f88-4ec1-8bf9-6e7a6d0893c1/lib/python3.11/site-packages (from mlflow==2.12.1) (1.13.1)\nRequirement already satisfied: click<9,>=7.0 in /local_disk0/.ephemeral_nfs/envs/pythonEnv-425fdc49-4f88-4ec1-8bf9-6e7a6d0893c1/lib/python3.11/site-packages (from mlflow==2.12.1) (8.1.7)\nRequirement already satisfied: cloudpickle<4 in /databricks/python3/lib/python3.11/site-packages (from mlflow==2.12.1) (2.2.1)\nRequirement already satisfied: docker<8,>=4.0.0 in /local_disk0/.ephemeral_nfs/envs/pythonEnv-425fdc49-4f88-4ec1-8bf9-6e7a6d0893c1/lib/python3.11/site-packages (from mlflow==2.12.1) (7.0.0)\nRequirement already satisfied: entrypoints<1 in /databricks/python3/lib/python3.11/site-packages (from mlflow==2.12.1) (0.4)\nRequirement already satisfied: gitpython<4,>=3.1.9 in /databricks/python3/lib/python3.11/site-packages (from mlflow==2.12.1) (3.1.42)\nRequirement already satisfied: graphene<4 in /local_disk0/.ephemeral_nfs/envs/pythonEnv-425fdc49-4f88-4ec1-8bf9-6e7a6d0893c1/lib/python3.11/site-packages (from mlflow==2.12.1) (3.3)\nRequirement already satisfied: importlib-metadata!=4.7.0,<8,>=3.7.0 in /databricks/python3/lib/python3.11/site-packages (from mlflow==2.12.1) (6.0.0)\nRequirement already satisfied: markdown<4,>=3.3 in /local_disk0/.ephemeral_nfs/envs/pythonEnv-425fdc49-4f88-4ec1-8bf9-6e7a6d0893c1/lib/python3.11/site-packages (from mlflow==2.12.1) (3.6)\nRequirement already satisfied: matplotlib<4 in /databricks/python3/lib/python3.11/site-packages (from mlflow==2.12.1) (3.7.2)\nRequirement already satisfied: packaging<25 in /databricks/python3/lib/python3.11/site-packages (from mlflow==2.12.1) (23.2)\nRequirement already satisfied: pandas<3 in /databricks/python3/lib/python3.11/site-packages (from mlflow==2.12.1) (2.0.3)\nRequirement already satisfied: pyarrow<16,>=4.0.0 in /databricks/python3/lib/python3.11/site-packages (from mlflow==2.12.1) (14.0.1)\nRequirement already satisfied: pytz<2025 in /databricks/python3/lib/python3.11/site-packages (from mlflow==2.12.1) (2022.7)\nRequirement already satisfied: querystring-parser<2 in /local_disk0/.ephemeral_nfs/envs/pythonEnv-425fdc49-4f88-4ec1-8bf9-6e7a6d0893c1/lib/python3.11/site-packages (from mlflow==2.12.1) (1.2.4)\nRequirement already satisfied: scikit-learn<2 in /databricks/python3/lib/python3.11/site-packages (from mlflow==2.12.1) (1.3.0)\nRequirement already satisfied: scipy<2 in /databricks/python3/lib/python3.11/site-packages (from mlflow==2.12.1) (1.11.1)\nRequirement already satisfied: sqlparse<1,>=0.4.0 in /databricks/python3/lib/python3.11/site-packages (from mlflow==2.12.1) (0.4.4)\nRequirement already satisfied: Jinja2<4,>=2.11 in /local_disk0/.ephemeral_nfs/envs/pythonEnv-425fdc49-4f88-4ec1-8bf9-6e7a6d0893c1/lib/python3.11/site-packages (from mlflow==2.12.1) (3.1.3)\nRequirement already satisfied: gunicorn<22 in /local_disk0/.ephemeral_nfs/envs/pythonEnv-425fdc49-4f88-4ec1-8bf9-6e7a6d0893c1/lib/python3.11/site-packages (from mlflow==2.12.1) (21.2.0)\nCollecting curl-cffi>=0.6.2 (from duckduckgo-search==5.3.0)\n  Obtaining dependency information for curl-cffi>=0.6.2 from https://files.pythonhosted.org/packages/a2/94/26f49de4ddc1085c71acefa9fbc8ecabc5b949055ab53217b8400a95012c/curl_cffi-0.6.3-cp38-abi3-manylinux_2_17_x86_64.manylinux2014_x86_64.whl.metadata\n  Downloading curl_cffi-0.6.3-cp38-abi3-manylinux_2_17_x86_64.manylinux2014_x86_64.whl.metadata (12 kB)\nRequirement already satisfied: orjson>=3.10.0 in /local_disk0/.ephemeral_nfs/envs/pythonEnv-425fdc49-4f88-4ec1-8bf9-6e7a6d0893c1/lib/python3.11/site-packages (from duckduckgo-search==5.3.0) (3.10.2)\nRequirement already satisfied: aiosignal>=1.1.2 in /local_disk0/.ephemeral_nfs/envs/pythonEnv-425fdc49-4f88-4ec1-8bf9-6e7a6d0893c1/lib/python3.11/site-packages (from aiohttp<4.0.0,>=3.8.3->langchain==0.1.17) (1.3.1)\nRequirement already satisfied: attrs>=17.3.0 in /local_disk0/.ephemeral_nfs/envs/pythonEnv-425fdc49-4f88-4ec1-8bf9-6e7a6d0893c1/lib/python3.11/site-packages (from aiohttp<4.0.0,>=3.8.3->langchain==0.1.17) (23.2.0)\nRequirement already satisfied: frozenlist>=1.1.1 in /local_disk0/.ephemeral_nfs/envs/pythonEnv-425fdc49-4f88-4ec1-8bf9-6e7a6d0893c1/lib/python3.11/site-packages (from aiohttp<4.0.0,>=3.8.3->langchain==0.1.17) (1.4.1)\nRequirement already satisfied: multidict<7.0,>=4.5 in /local_disk0/.ephemeral_nfs/envs/pythonEnv-425fdc49-4f88-4ec1-8bf9-6e7a6d0893c1/lib/python3.11/site-packages (from aiohttp<4.0.0,>=3.8.3->langchain==0.1.17) (6.0.5)\nRequirement already satisfied: yarl<2.0,>=1.0 in /local_disk0/.ephemeral_nfs/envs/pythonEnv-425fdc49-4f88-4ec1-8bf9-6e7a6d0893c1/lib/python3.11/site-packages (from aiohttp<4.0.0,>=3.8.3->langchain==0.1.17) (1.9.4)\nRequirement already satisfied: Mako in /local_disk0/.ephemeral_nfs/envs/pythonEnv-425fdc49-4f88-4ec1-8bf9-6e7a6d0893c1/lib/python3.11/site-packages (from alembic!=1.10.0,<2->mlflow==2.12.1) (1.3.3)\nRequirement already satisfied: typing-extensions>=4 in /databricks/python3/lib/python3.11/site-packages (from alembic!=1.10.0,<2->mlflow==2.12.1) (4.7.1)\nRequirement already satisfied: cffi>=1.12.0 in /databricks/python3/lib/python3.11/site-packages (from curl-cffi>=0.6.2->duckduckgo-search==5.3.0) (1.15.1)\nCollecting certifi>=2024.2.2 (from curl-cffi>=0.6.2->duckduckgo-search==5.3.0)\n  Obtaining dependency information for certifi>=2024.2.2 from https://files.pythonhosted.org/packages/ba/06/a07f096c664aeb9f01624f858c3add0a4e913d6c96257acb4fce61e7de14/certifi-2024.2.2-py3-none-any.whl.metadata\n  Downloading certifi-2024.2.2-py3-none-any.whl.metadata (2.2 kB)\nRequirement already satisfied: marshmallow<4.0.0,>=3.18.0 in /local_disk0/.ephemeral_nfs/envs/pythonEnv-425fdc49-4f88-4ec1-8bf9-6e7a6d0893c1/lib/python3.11/site-packages (from dataclasses-json<0.7,>=0.5.7->langchain==0.1.17) (3.21.2)\nRequirement already satisfied: typing-inspect<1,>=0.4.0 in /local_disk0/.ephemeral_nfs/envs/pythonEnv-425fdc49-4f88-4ec1-8bf9-6e7a6d0893c1/lib/python3.11/site-packages (from dataclasses-json<0.7,>=0.5.7->langchain==0.1.17) (0.9.0)\nRequirement already satisfied: urllib3>=1.26.0 in /local_disk0/.ephemeral_nfs/envs/pythonEnv-425fdc49-4f88-4ec1-8bf9-6e7a6d0893c1/lib/python3.11/site-packages (from docker<8,>=4.0.0->mlflow==2.12.1) (2.2.1)\nRequirement already satisfied: Werkzeug>=3.0.0 in /local_disk0/.ephemeral_nfs/envs/pythonEnv-425fdc49-4f88-4ec1-8bf9-6e7a6d0893c1/lib/python3.11/site-packages (from Flask<4->mlflow==2.12.1) (3.0.2)\nRequirement already satisfied: itsdangerous>=2.1.2 in /local_disk0/.ephemeral_nfs/envs/pythonEnv-425fdc49-4f88-4ec1-8bf9-6e7a6d0893c1/lib/python3.11/site-packages (from Flask<4->mlflow==2.12.1) (2.2.0)\nRequirement already satisfied: blinker>=1.6.2 in /local_disk0/.ephemeral_nfs/envs/pythonEnv-425fdc49-4f88-4ec1-8bf9-6e7a6d0893c1/lib/python3.11/site-packages (from Flask<4->mlflow==2.12.1) (1.8.1)\nRequirement already satisfied: gitdb<5,>=4.0.1 in /databricks/python3/lib/python3.11/site-packages (from gitpython<4,>=3.1.9->mlflow==2.12.1) (4.0.11)\nRequirement already satisfied: graphql-core<3.3,>=3.1 in /local_disk0/.ephemeral_nfs/envs/pythonEnv-425fdc49-4f88-4ec1-8bf9-6e7a6d0893c1/lib/python3.11/site-packages (from graphene<4->mlflow==2.12.1) (3.2.3)\nRequirement already satisfied: graphql-relay<3.3,>=3.1 in /local_disk0/.ephemeral_nfs/envs/pythonEnv-425fdc49-4f88-4ec1-8bf9-6e7a6d0893c1/lib/python3.11/site-packages (from graphene<4->mlflow==2.12.1) (3.2.0)\nRequirement already satisfied: aniso8601<10,>=8 in /local_disk0/.ephemeral_nfs/envs/pythonEnv-425fdc49-4f88-4ec1-8bf9-6e7a6d0893c1/lib/python3.11/site-packages (from graphene<4->mlflow==2.12.1) (9.0.1)\nRequirement already satisfied: zipp>=0.5 in /databricks/python3/lib/python3.11/site-packages (from importlib-metadata!=4.7.0,<8,>=3.7.0->mlflow==2.12.1) (3.11.0)\nRequirement already satisfied: MarkupSafe>=2.0 in /local_disk0/.ephemeral_nfs/envs/pythonEnv-425fdc49-4f88-4ec1-8bf9-6e7a6d0893c1/lib/python3.11/site-packages (from Jinja2<4,>=2.11->mlflow==2.12.1) (2.1.5)\nRequirement already satisfied: jsonpointer>=1.9 in /local_disk0/.ephemeral_nfs/envs/pythonEnv-425fdc49-4f88-4ec1-8bf9-6e7a6d0893c1/lib/python3.11/site-packages (from jsonpatch<2.0,>=1.33->langchain==0.1.17) (2.4)\nRequirement already satisfied: contourpy>=1.0.1 in /databricks/python3/lib/python3.11/site-packages (from matplotlib<4->mlflow==2.12.1) (1.0.5)\nRequirement already satisfied: cycler>=0.10 in /databricks/python3/lib/python3.11/site-packages (from matplotlib<4->mlflow==2.12.1) (0.11.0)\nRequirement already satisfied: fonttools>=4.22.0 in /databricks/python3/lib/python3.11/site-packages (from matplotlib<4->mlflow==2.12.1) (4.25.0)\nRequirement already satisfied: kiwisolver>=1.0.1 in /databricks/python3/lib/python3.11/site-packages (from matplotlib<4->mlflow==2.12.1) (1.4.4)\nRequirement already satisfied: pillow>=6.2.0 in /databricks/python3/lib/python3.11/site-packages (from matplotlib<4->mlflow==2.12.1) (9.4.0)\nRequirement already satisfied: pyparsing<3.1,>=2.3.1 in /databricks/python3/lib/python3.11/site-packages (from matplotlib<4->mlflow==2.12.1) (3.0.9)\nRequirement already satisfied: python-dateutil>=2.7 in /databricks/python3/lib/python3.11/site-packages (from matplotlib<4->mlflow==2.12.1) (2.8.2)\nRequirement already satisfied: anyio<5,>=3.5.0 in /local_disk0/.ephemeral_nfs/envs/pythonEnv-425fdc49-4f88-4ec1-8bf9-6e7a6d0893c1/lib/python3.11/site-packages (from openai<2.0.0,>=1.24.0->langchain-openai==0.1.6) (4.3.0)\nRequirement already satisfied: distro<2,>=1.7.0 in /usr/lib/python3/dist-packages (from openai<2.0.0,>=1.24.0->langchain-openai==0.1.6) (1.7.0)\nRequirement already satisfied: httpx<1,>=0.23.0 in /local_disk0/.ephemeral_nfs/envs/pythonEnv-425fdc49-4f88-4ec1-8bf9-6e7a6d0893c1/lib/python3.11/site-packages (from openai<2.0.0,>=1.24.0->langchain-openai==0.1.6) (0.27.0)\nRequirement already satisfied: sniffio in /local_disk0/.ephemeral_nfs/envs/pythonEnv-425fdc49-4f88-4ec1-8bf9-6e7a6d0893c1/lib/python3.11/site-packages (from openai<2.0.0,>=1.24.0->langchain-openai==0.1.6) (1.3.1)\nRequirement already satisfied: tqdm>4 in /local_disk0/.ephemeral_nfs/envs/pythonEnv-425fdc49-4f88-4ec1-8bf9-6e7a6d0893c1/lib/python3.11/site-packages (from openai<2.0.0,>=1.24.0->langchain-openai==0.1.6) (4.66.4)\nRequirement already satisfied: tzdata>=2022.1 in /databricks/python3/lib/python3.11/site-packages (from pandas<3->mlflow==2.12.1) (2022.1)\nRequirement already satisfied: six in /usr/lib/python3/dist-packages (from querystring-parser<2->mlflow==2.12.1) (1.16.0)\nRequirement already satisfied: charset-normalizer<4,>=2 in /databricks/python3/lib/python3.11/site-packages (from requests<3,>=2->langchain==0.1.17) (2.0.4)\nRequirement already satisfied: idna<4,>=2.5 in /databricks/python3/lib/python3.11/site-packages (from requests<3,>=2->langchain==0.1.17) (3.4)\nRequirement already satisfied: joblib>=1.1.1 in /databricks/python3/lib/python3.11/site-packages (from scikit-learn<2->mlflow==2.12.1) (1.2.0)\nRequirement already satisfied: threadpoolctl>=2.0.0 in /databricks/python3/lib/python3.11/site-packages (from scikit-learn<2->mlflow==2.12.1) (2.2.0)\nRequirement already satisfied: greenlet!=0.4.17 in /local_disk0/.ephemeral_nfs/envs/pythonEnv-425fdc49-4f88-4ec1-8bf9-6e7a6d0893c1/lib/python3.11/site-packages (from SQLAlchemy<3,>=1.4->langchain==0.1.17) (3.0.3)\nRequirement already satisfied: regex>=2022.1.18 in /local_disk0/.ephemeral_nfs/envs/pythonEnv-425fdc49-4f88-4ec1-8bf9-6e7a6d0893c1/lib/python3.11/site-packages (from tiktoken<1,>=0.5.2->langchain-openai==0.1.6) (2024.4.28)\nRequirement already satisfied: pycparser in /databricks/python3/lib/python3.11/site-packages (from cffi>=1.12.0->curl-cffi>=0.6.2->duckduckgo-search==5.3.0) (2.21)\nRequirement already satisfied: smmap<6,>=3.0.1 in /databricks/python3/lib/python3.11/site-packages (from gitdb<5,>=4.0.1->gitpython<4,>=3.1.9->mlflow==2.12.1) (5.0.1)\nRequirement already satisfied: httpcore==1.* in /local_disk0/.ephemeral_nfs/envs/pythonEnv-425fdc49-4f88-4ec1-8bf9-6e7a6d0893c1/lib/python3.11/site-packages (from httpx<1,>=0.23.0->openai<2.0.0,>=1.24.0->langchain-openai==0.1.6) (1.0.5)\nRequirement already satisfied: h11<0.15,>=0.13 in /local_disk0/.ephemeral_nfs/envs/pythonEnv-425fdc49-4f88-4ec1-8bf9-6e7a6d0893c1/lib/python3.11/site-packages (from httpcore==1.*->httpx<1,>=0.23.0->openai<2.0.0,>=1.24.0->langchain-openai==0.1.6) (0.14.0)\nRequirement already satisfied: mypy-extensions>=0.3.0 in /databricks/python3/lib/python3.11/site-packages (from typing-inspect<1,>=0.4.0->dataclasses-json<0.7,>=0.5.7->langchain==0.1.17) (0.4.3)\nDownloading duckduckgo_search-5.3.0-py3-none-any.whl (21 kB)\nDownloading curl_cffi-0.6.3-cp38-abi3-manylinux_2_17_x86_64.manylinux2014_x86_64.whl (5.5 MB)\n\u001B[?25l   \u001B[90m━━━━━━━━━━━━━━━━━━━━━━━━━━━━━━━━━━━━━━━━\u001B[0m \u001B[32m0.0/5.5 MB\u001B[0m \u001B[31m?\u001B[0m eta \u001B[36m-:--:--\u001B[0m\n\u001B[2K   \u001B[91m━━━━━━━━━━━━━━━━━━━━━━━\u001B[0m\u001B[90m╺\u001B[0m\u001B[90m━━━━━━━━━━━━━━━━\u001B[0m \u001B[32m3.2/5.5 MB\u001B[0m \u001B[31m95.8 MB/s\u001B[0m eta \u001B[36m0:00:01\u001B[0m\n\u001B[2K   \u001B[91m━━━━━━━━━━━━━━━━━━━━━━━━━━━━━━━━━━━━━━━\u001B[0m\u001B[91m╸\u001B[0m \u001B[32m5.4/5.5 MB\u001B[0m \u001B[31m110.1 MB/s\u001B[0m eta \u001B[36m0:00:01\u001B[0m\n\u001B[2K   \u001B[90m━━━━━━━━━━━━━━━━━━━━━━━━━━━━━━━━━━━━━━━━\u001B[0m \u001B[32m5.5/5.5 MB\u001B[0m \u001B[31m67.6 MB/s\u001B[0m eta \u001B[36m0:00:00\u001B[0m\n\u001B[?25hDownloading certifi-2024.2.2-py3-none-any.whl (163 kB)\n\u001B[?25l   \u001B[90m━━━━━━━━━━━━━━━━━━━━━━━━━━━━━━━━━━━━━━━━\u001B[0m \u001B[32m0.0/163.8 kB\u001B[0m \u001B[31m?\u001B[0m eta \u001B[36m-:--:--\u001B[0m\n\u001B[2K   \u001B[90m━━━━━━━━━━━━━━━━━━━━━━━━━━━━━━━━━━━━━━━━\u001B[0m \u001B[32m163.8/163.8 kB\u001B[0m \u001B[31m28.2 MB/s\u001B[0m eta \u001B[36m0:00:00\u001B[0m\n\u001B[?25hInstalling collected packages: certifi, curl-cffi, duckduckgo-search\n  Attempting uninstall: certifi\n    Found existing installation: certifi 2023.7.22\n    Not uninstalling certifi at /databricks/python3/lib/python3.11/site-packages, outside environment /local_disk0/.ephemeral_nfs/envs/pythonEnv-425fdc49-4f88-4ec1-8bf9-6e7a6d0893c1\n    Can't uninstall 'certifi'. No files were found to uninstall.\nSuccessfully installed certifi-2024.2.2 curl-cffi-0.6.3 duckduckgo-search-5.3.0\n\u001B[43mNote: you may need to restart the kernel using dbutils.library.restartPython() to use updated packages.\u001B[0m\n"
     ]
    }
   ],
   "source": [
    "%pip install langchain==0.1.17 langchain-openai==0.1.6 langchainhub==0.1.15 langgraph==0.0.40 databricks-vectorsearch==0.33 mlflow==2.12.1 lark==1.1.9 duckduckgo-search==5.3.0\n",
    "dbutils.library.restartPython()"
   ]
  },
  {
   "cell_type": "code",
   "execution_count": 0,
   "metadata": {
    "application/vnd.databricks.v1+cell": {
     "cellMetadata": {
      "byteLimit": 2048000,
      "rowLimit": 10000
     },
     "inputWidgets": {},
     "nuid": "aac5d80e-2c00-486b-9f69-f1ad7d2fd77a",
     "showTitle": false,
     "title": ""
    }
   },
   "outputs": [],
   "source": [
    "import os\n",
    "from databricks.vector_search.client import VectorSearchClient\n",
    "from langchain.chains.query_constructor.base import AttributeInfo\n",
    "from langchain.retrievers.self_query.base import SelfQueryRetriever\n",
    "from langchain_core.runnables import RunnablePassthrough\n",
    "from langchain_core.output_parsers import StrOutputParser\n",
    "from langchain_core.prompts import ChatPromptTemplate\n",
    "from langchain_core.messages import FunctionMessage, HumanMessage\n",
    "from langchain_core.utils.function_calling import convert_to_openai_function, convert_to_openai_tool\n",
    "from langchain_core.pydantic_v1 import BaseModel, Field\n",
    "from langchain.output_parsers.openai_tools import PydanticToolsParser\n",
    "from langchain.tools.retriever import create_retriever_tool\n",
    "from langchain.agents import create_tool_calling_agent, AgentExecutor\n",
    "from langchain_core.utils.function_calling import convert_to_openai_function\n",
    "from langchain_openai import AzureChatOpenAI\n",
    "from langchain import hub\n",
    "from langchain_community.vectorstores import DatabricksVectorSearch\n",
    "from langchain_community.embeddings import DatabricksEmbeddings\n",
    "from langchain_community.chat_models import ChatDatabricks\n",
    "from langchain_community.tools.ddg_search import DuckDuckGoSearchRun\n",
    "from operator import itemgetter"
   ]
  },
  {
   "cell_type": "code",
   "execution_count": 0,
   "metadata": {
    "application/vnd.databricks.v1+cell": {
     "cellMetadata": {
      "byteLimit": 2048000,
      "rowLimit": 10000
     },
     "inputWidgets": {},
     "nuid": "2baaf992-1eef-447b-9447-99674a424b1c",
     "showTitle": false,
     "title": ""
    }
   },
   "outputs": [],
   "source": [
    "from langgraph.prebuilt import ToolExecutor, ToolInvocation\n",
    "from langgraph.graph import StateGraph, END\n",
    "from langchain_core.messages import BaseMessage, FunctionMessage\n",
    "from langchain.prompts import PromptTemplate\n",
    "import json\n",
    "import operator\n",
    "from typing import TypedDict, Annotated, Sequence"
   ]
  },
  {
   "cell_type": "code",
   "execution_count": 0,
   "metadata": {
    "application/vnd.databricks.v1+cell": {
     "cellMetadata": {
      "byteLimit": 2048000,
      "rowLimit": 10000
     },
     "inputWidgets": {},
     "nuid": "b9258955-101a-4a6e-9df2-b49164b44f7d",
     "showTitle": false,
     "title": ""
    }
   },
   "outputs": [
    {
     "output_type": "stream",
     "name": "stdout",
     "output_type": "stream",
     "text": [
      "[NOTICE] Using a notebook authentication token. Recommended for development only. For improved performance, please use Service Principal based authentication. To disable this message, pass disable_notice=True to VectorSearchClient().\n"
     ]
    },
    {
     "output_type": "stream",
     "name": "stderr",
     "output_type": "stream",
     "text": [
      "embedding model is not used in delta-sync index with Databricks-managed embeddings.\n"
     ]
    }
   ],
   "source": [
    "vs_endpoint_name = \"edgar_vs_endpoint\"\n",
    "vs_index_fullname = \"llm_hackathon.default.edgar_form_vs_index\"\n",
    "vsc = VectorSearchClient()\n",
    "\n",
    "embedding_model = DatabricksEmbeddings(endpoint=\"databricks-bge-large-en\")\n",
    "\n",
    "vs_index = vsc.get_index(\n",
    "    endpoint_name=vs_endpoint_name,\n",
    "    index_name=vs_index_fullname\n",
    ")\n",
    "\n",
    "vectorstore = DatabricksVectorSearch(\n",
    "    vs_index, text_column=\"content\", embedding=embedding_model,\n",
    "    columns=['name', 'tickers', 'exchanges', 'form', 'filing_date', 'industry']\n",
    ")\n",
    "\n",
    "chat_model = ChatDatabricks(endpoint=\"databricks-dbrx-instruct\", temperature=0)"
   ]
  },
  {
   "cell_type": "code",
   "execution_count": 0,
   "metadata": {
    "application/vnd.databricks.v1+cell": {
     "cellMetadata": {
      "byteLimit": 2048000,
      "rowLimit": 10000
     },
     "inputWidgets": {},
     "nuid": "40ce6f48-a0c4-44a7-8a81-51c491773def",
     "showTitle": false,
     "title": ""
    }
   },
   "outputs": [],
   "source": [
    "metadata_field_info = [\n",
    "    AttributeInfo(\n",
    "        name=\"name\",\n",
    "        description=\"The name of the company\",\n",
    "        type=\"string\",\n",
    "    ),\n",
    "    AttributeInfo(\n",
    "        name=\"tickers\",\n",
    "        description=\"The ticker symbols of the company\",\n",
    "        type=\"string\",\n",
    "    ),\n",
    "    AttributeInfo(\n",
    "        name=\"exchanges\",\n",
    "        description=\"The stock exchange where the stock is traded\",\n",
    "        type=\"string\",\n",
    "    ),\n",
    "    AttributeInfo(\n",
    "        name=\"form\",\n",
    "        description=\"The filing forms (10-K or 10-Q)\",\n",
    "        type=\"string\"\n",
    "    ),\n",
    "    AttributeInfo(\n",
    "        name=\"filing_date\",\n",
    "        description=\"The filing date of the form\",\n",
    "        type=\"date\"\n",
    "    ),\n",
    "    AttributeInfo(\n",
    "        name=\"industry\",\n",
    "        description=\"The industry of the company\",\n",
    "        type=\"string\"\n",
    "    ),\n",
    "]\n",
    "\n",
    "document_content_description = \"The sec filing of financial statements and report of the company.\"\n",
    "\n",
    "retriever = SelfQueryRetriever.from_llm(\n",
    "    chat_model, vectorstore, document_content_description, metadata_field_info, search_kwargs={\"k\" : 10},\n",
    ")"
   ]
  },
  {
   "cell_type": "code",
   "execution_count": 0,
   "metadata": {
    "application/vnd.databricks.v1+cell": {
     "cellMetadata": {
      "byteLimit": 2048000,
      "rowLimit": 10000
     },
     "inputWidgets": {},
     "nuid": "779fb02e-e8a8-4f07-8abc-3cc5904cf1ea",
     "showTitle": false,
     "title": ""
    }
   },
   "outputs": [],
   "source": [
    "RAG_TEMPLATE = \"\"\"\\\n",
    "You are an assistant for financial analyst. You are answering finance question about company's news, stock and financial reports (10-K,  10-Q forms). If the question is not related to one of these topics, kindly decline to answer. If the context is empty or you don't know the answer, just say that you don't know, don't try to make up an answer. Keep the answer as concise as possible.\n",
    "\n",
    "Use the following pieces of context to answer the question at the end:\n",
    "{context}\n",
    "\n",
    "Question: {question}\n",
    "Answer:\n",
    "\"\"\"\n",
    "\n",
    "rag_prompt = ChatPromptTemplate.from_template(RAG_TEMPLATE)\n",
    "\n",
    "self_query_retrieval_chain = (\n",
    "    {\"context\": itemgetter(\"question\") | retriever, \"question\": itemgetter(\"question\")}\n",
    "    | RunnablePassthrough.assign(context=itemgetter(\"context\"))\n",
    "    | {\"response\": rag_prompt | chat_model, \"context\": itemgetter(\"context\")}\n",
    ")"
   ]
  },
  {
   "cell_type": "code",
   "execution_count": 0,
   "metadata": {
    "application/vnd.databricks.v1+cell": {
     "cellMetadata": {
      "byteLimit": 2048000,
      "rowLimit": 10000
     },
     "inputWidgets": {},
     "nuid": "178177e4-1f5b-4c0d-830d-cd34aa0ba570",
     "showTitle": false,
     "title": ""
    }
   },
   "outputs": [],
   "source": [
    "os.environ[\"AZURE_OPENAI_ENDPOINT\"] = dbutils.secrets.get(scope=\"development\", key=\"azure_openai_endpoint\")\n",
    "os.environ[\"AZURE_OPENAI_API_KEY\"] = dbutils.secrets.get(scope=\"development\", key=\"azure_openai_api_key\")\n",
    "\n",
    "prompt = hub.pull(\"hwchase17/openai-functions-agent\")\n",
    "\n",
    "llm = AzureChatOpenAI(\n",
    "    api_version=dbutils.secrets.get(scope=\"development\", key=\"azure_openai_chat_deployment_version\"),\n",
    "    azure_deployment=dbutils.secrets.get(scope=\"development\", key=\"azure_openai_chat_deployment_name\"),\n",
    "    temperature=0,\n",
    ")"
   ]
  },
  {
   "cell_type": "code",
   "execution_count": 0,
   "metadata": {
    "application/vnd.databricks.v1+cell": {
     "cellMetadata": {
      "byteLimit": 2048000,
      "rowLimit": 10000
     },
     "inputWidgets": {},
     "nuid": "d13b6f9a-639b-4604-a77d-50a4d9d12d22",
     "showTitle": false,
     "title": ""
    }
   },
   "outputs": [],
   "source": [
    "search_tool = DuckDuckGoSearchRun()\n",
    "retriever_tool = create_retriever_tool(\n",
    "    retriever,\n",
    "    \"sec_filing_search\",\n",
    "    \"Search for sec filing forms or financial information about any company.\",\n",
    ")\n",
    "\n",
    "tools = [retriever_tool, search_tool]"
   ]
  },
  {
   "cell_type": "code",
   "execution_count": 0,
   "metadata": {
    "application/vnd.databricks.v1+cell": {
     "cellMetadata": {
      "byteLimit": 2048000,
      "rowLimit": 10000
     },
     "inputWidgets": {},
     "nuid": "c62ef85d-46b0-4de8-be1e-8b343f4dd4ac",
     "showTitle": false,
     "title": ""
    }
   },
   "outputs": [],
   "source": [
    "agent = create_tool_calling_agent(llm, tools, prompt)"
   ]
  },
  {
   "cell_type": "code",
   "execution_count": 0,
   "metadata": {
    "application/vnd.databricks.v1+cell": {
     "cellMetadata": {
      "byteLimit": 2048000,
      "rowLimit": 10000
     },
     "inputWidgets": {},
     "nuid": "dcafba26-1a7a-4ccd-8124-c76b34ca7690",
     "showTitle": false,
     "title": ""
    }
   },
   "outputs": [],
   "source": [
    "agent_executor = AgentExecutor(agent=agent, tools=tools, verbose=True)"
   ]
  },
  {
   "cell_type": "code",
   "execution_count": 0,
   "metadata": {
    "application/vnd.databricks.v1+cell": {
     "cellMetadata": {
      "byteLimit": 2048000,
      "rowLimit": 10000
     },
     "inputWidgets": {},
     "nuid": "d7ba853d-2e6e-4c38-a64d-3d6055d4262d",
     "showTitle": false,
     "title": ""
    }
   },
   "outputs": [
    {
     "output_type": "stream",
     "name": "stdout",
     "output_type": "stream",
     "text": [
      "\n\n\u001B[1m> Entering new AgentExecutor chain...\u001B[0m\n\u001B[32;1m\u001B[1;3m\nInvoking: `sec_filing_search` with `{'query': 'Alphabet revenue'}`\n\n\n\u001B[0m\u001B[36;1m\u001B[1;3m| Revenue | | | $ | 1,194,773 |  |  | | | $ | 988,608 |  |  | | |  | | |  | | |  | | |\n| Revenue as a dollar change | | |  | | |  | | | $ | 206,165 |  |  | | |  | | |  | | |  | | |\n| Revenue as a percentage change | | |  | | |  | | | 21 | | % |  | | |  | | |  | | |  | | |  \nRevenue for the three months ended March 31, 2024 increased $206.2 million compared to the same period in 2023. The increase was primarily due to a combination of growth in advertisers, optimization efficiencies, and improvement in auction-based advertising demand. The increase was also driven by higher subscription revenue due to growth in the number of subscribers. Cost of Revenue  \n|  |  |  |  |  |  |  |  |  |  |  |  |  | | |  | | |  | | |  | | |\n| --- | --- | --- | --- | --- | --- | --- | --- | --- | --- | --- | --- | --- | --- | --- | --- | --- | --- | --- | --- | --- | --- | --- | --- |\n|  | | | Three Months Ended March 31, | | | | | | | | |  | | |  | | |\n|  | | | 2024 | | |  | | | 2023 | | |  | | |  | | |  | | |  | | |\n|  | | | (dollars in thousands) | | | | | | | | |\n| Cost of Revenue | | | $ | 574,749 |  |  | | | $ | 439,986 |  |  | | |  | | |  | | |  | | |\n| Cost of Revenue as a dollar change | | |  | | |  | | | $ | 134,763 |  |  | | |  | | |  | | |  | | |\n| Cost of Revenue as a percentage change | | |  | | |  | | | 31 | | % |  | | |  | | |  | | |  | | |\n\n| Enterprise | | |  | | |  | | |  | | |  | | |  | | |  | | | 708 | |  |  | | | 682 | |  |  | | | 3.8 | | % |\n| Commercial revenue | | |  | | |  | | |  | | |  | | |  | | |  | | | 1,796 | |  |  | | | 1,773 | |  |  | | | 1.3 | | % |\n|  | | |  | | |  | | |  | | |  | | |  | | |  | | |  | | |  | | |  | | |  | | |  | | |\n| Advertising sales | | |  | | |  | | |  | | |  | | |  | | |  | | | 391 | |  |  | | | 355 | |  |  | | | 10.0 | | % |\n| Other | | |  | | |  | | |  | | |  | | |  | | |  | | | 699 | |  |  | | | 683 | |  |  | | | 2.4 | | % |\n|  | | |  | | |  | | |  | | |  | | |  | | |  | | | $ | 13,679 |  |  | | | $ | 13,653 |  |  | | | 0.2 | | % |  \nThe increase in Internet revenues from our residential customers is attributable to the following (dollars in millions):  \n|  |  |  |  | | |  | | |  |  |  |\n| --- | --- | --- | --- | --- | --- | --- | --- | --- | --- | --- | --- |\n|  | | |  | | |  | | | Three months ended March 31, 2024compared to three months ended March 31, 2023Increase / (Decrease) | | |\n| Increase related to rate and product mix changes | | |  | | |  | | | $ | 90 |  |\n| Increase in average residential Internet customers | | |  | | |  | | | 18 | |  |\n|  | | |  | | |  | | | $ | 108 |  |\n\n|  |  |  | 1,031,947 |  |  |  | 1,104,082 |  |  |  | (72,135 | ) |  |  | (6.53 | ) |  \nGeneral\nand administrative expenses decreased by $72,135 from $1,104,082 during the six months ending February 28, 2023, to $1,031,947 during\nthe six months ending February 29, 2024. This decrease represents 6.53% from six months ended February 28, 2023, to February 29, 2024.  \nSoftware\nsubscriptions decreased by $53,350, representing 11.71%, from $455,639 during the six months ended February 28, 2023, to $402,289 during\nthe six months ended February 29, 2024. This is due to the usage of more in-house developed software.  \nOffice\nand general expenses decreased to $13,151 during the six months ending February 29, 2024, from $47,305 during the six months ended February\n28, 2023. This represents a decrease of 27.80%. This decrease represents control of the expenses.  \nDues\nand subscriptions increased from $118,568 during the six months ended February 28, 2023, to $152,441 for the six months ended February\n29, 2024, representing a 28.57% increase. This increase is due to Initial Public Offering on November 03, 2023.  \n***Advertising\nand Marketing***  \n|  |  | Six months ended | | | | | |  |  |  | |  |  |  | |  |\n| --- | --- | --- | --- | --- | --- | --- | --- | --- | --- | --- | --- | --- | --- | --- | --- | --- |\n|  |  | February 29, 2024 | |  |  | February 28, 2023 | |  |  | Increase/ (Decrease) | |  |  | Increase/ (Decrease) | |  |\n| Description |  | ($) | |  |  | ($) | |  |  | ($) | |  |  | (%) | |  |\n\n| **Digital revenue** |  |  |  |  |  |  |  |  |\n| Digital advertising |  | $ | 135,376 |  |  | $ | 109,317 |  |\n| Digital subscriptions |  |  | 12,764 |  |  |  | 21,156 |  |\n| Licensing and syndication revenue |  |  | 18,482 |  |  |  | 18,173 |  |\n| Other digital revenue |  |  | 5,384 |  |  |  | 1,166 |  |\n| Total digital revenue |  |  | 172,006 |  |  |  | 149,812 |  |\n| **Print revenue** |  |  |  |  |  |  |  |  |\n| Print advertising |  |  | 9,881 |  |  |  | 10,214 |  |\n| Print subscriptions |  |  | 62,316 |  |  |  | 60,909 |  |\n| Total print revenue |  |  | 72,197 |  |  |  | 71,123 |  |\n| Total revenue |  | $ | 244,203 |  |  | $ | 220,935 |  |\n| Revenue by geographical market: |  |  |  |  |  |  |  |  |\n| United States |  | $ | 234,012 |  |  | $ | 218,110 |  |\n| Other |  |  | 10,191 |  |  |  | 2,825 |  |\n| Total revenue |  | $ | 244,203 |  |  | $ | 220,935 |  |\n| Revenue by timing of recognition: |  |  |  |  |  |  |  |  |\n| At point in time |  | $ | 231,439 |  |  | $ | 199,779 |  |\n| Over time |  |  | 12,764 |  |  |  | 21,156 |  |\n| Total revenue |  | $ | 244,203 |  |  | $ | 220,935 |  |  \n***Cost\nof Revenue***  \nCost\nof revenue represents the cost of providing the Company’s digital media channels and advertising and membership services. The cost\nof revenue that the Company has incurred in the periods presented primarily include: Publisher Partner guarantees and revenue share payments;\namortization of developed technology and platform development; royalty fees; hosting and bandwidth and software license fees; printing\n\n---  \nResults of OperationsThe following table sets forth certain consolidated financial data for each of the periods indicated:  \n|  |  |  |  |  |  |  |  |  |  |  |  |\n| --- | --- | --- | --- | --- | --- | --- | --- | --- | --- | --- | --- |\n|  | | | Year Ended December 31, | | | | | | | | |\n| (Amounts in thousands, except per share amounts) | | | 2023 | | |  | | | 2022 | | |\n| Revenues: | | |  | | |  | | |  | | |\n| Mortgage platform revenue, net(1) | | | $ | 61,328 |  |  | | | $ | 101,285 |  |\n| Cash offer program revenue | | | 304 | |  |  | | | 228,721 | |  |\n| Other platform revenue | | | 11,293 | |  |  | | | 38,362 | |  |\n| Net interest income (expense): | | |  | | |  | | |  | | |\n| Interest income | | | 15,575 | |  |  | | | 26,714 | |  |\n| Warehouse interest expense | | | (11,680) | |  |  | | | (17,059) | |  |\n| Net interest income (expense) | | | 3,895 | |  |  | | | 9,655 | |  |\n| Total net revenues | | | 76,820 | |  |  | | | 378,023 | |  |\n| Expenses: | | |  | | |  | | |  | | |\n| Mortgage platform expenses(2)(3) | | | 84,083 | |  |  | | | 321,621 | |  |\n| Cash offer program expenses | | | 397 | |  |  | | | 230,144 | |  |\n| Other platform expenses(2)(3) | | | 13,048 | |  |  | | | 59,501 | |  |\n| General and administrative expenses(2)(3) | | | 147,214 | |  |  | | | 185,876 | |  |\n\n| Revenue from external customers: |  |  | |  |  |  | |  |  |  | |  |\n| Interest income |  | $ | 3,102,101 |  |  | $ | - |  |  | $ | 3,102,101 |  |\n| Arts and collectibles technology income |  |  | - |  |  |  | 618,197 |  |  |  | 618,197 |  |\n| Total revenue, net |  |  | 3,102,101 |  |  |  | 618,197 |  |  |  | 3,720,298 |  |\n|  |  |  |  |  |  |  |  |  |  |  |  |  |\n| Cost of revenue: |  |  |  |  |  |  |  |  |  |  |  |  |\n| Interest expense |  |  | (94,843 | ) |  |  | - |  |  |  | (94,843 | ) |\n| Arts and collectibles technology expense |  |  | - |  |  |  | (386,157 | ) |  |  | (386,157 | ) |\n| Total cost of revenue |  |  | (94,843 | ) |  |  | (386,157 | ) |  |  | (481,000 | ) |\n|  |  |  |  |  |  |  |  |  |  |  |  |  |\n| Gross profit |  |  | 3,007,258 |  |  |  | 232,040 |  |  |  | 3,239,298 |  |\n|  |  |  |  |  |  |  |  |  |  |  |  |  |\n| Operating Expenses |  |  |  |  |  |  |  |  |  |  |  |  |\n| Sales and marketing |  |  | (119,377 | ) |  |  | (1,706,772 | ) |  |  | (1,826,149 | ) |\n| Corporate development |  |  | - |  |  |  | (867,193 | ) |  |  | (867,193 | ) |\n| Technology and development |  |  | - |  |  |  | (3,694,807 | ) |  |  | (3,694,807 | ) |\n| General and administrative |  |  | (5,075,640 | ) |  |  | (19,427,301 | ) |  |  | (24,502,941 | ) |\n\n|  |  |  |  |  |  |  |  |  |\n| Net loss |  | $ | (4,931,197 | ) |  | $ | (645,255 | ) |  \n*Revenues*.\nOur revenues decreased 19% to approximately $0.27 million for the fiscal year ended December 31, 2023 from approximately $0.34 million\nfor the fiscal year ended December 31, 2022. This decrease was primarily due to a decrease in revenues from Discord paying subscribers\nfor the fiscal year ended December 31, 2023, compared to such revenues for the fiscal year ended December 31, 2022. There was no material\ndifference in the Company’s subscription pricing structure between these periods.  \n*Operating Expenses*.\nOur total operating expenses increased 427% to approximately $5.2 million for the fiscal year ended December 31, 2023 from approximately\n$1.0 million for the fiscal year ended December 31, 2022. This increase was primarily due to an increase in advertising, marketing, payroll\nand other administrative expenses associated with the Company’s February 2023 initial public offering and administrative cost of\npublic filings of approximately $1.7 million and an increase in management compensation costs of approximately $2.5 million for the fiscal\nyear ended December 31, 2023 compared to such costs for the fiscal year ended December 31, 2022.  \n*Loss From Operations*.\nOur loss from operations increased 664% to approximately $5.0 million for the fiscal year ended December 31, 2023 from approximately $0.6\nmillion for the fiscal year ended December 31, 2022. This increase was primarily due to an increase in advertising, marketing, payroll\nand other administrative expenses associated with the Company’s February 2023 initial public offering and administrative cost of\npublic filings of approximately $1.7 million and an increase in management compensation costs of approximately $2.5 million for the fiscal\nyear ended December 31, 2023 compared to such costs for the fiscal year ended December 31, 2022.  \n*Net Loss*.\nOur net loss increased 664% to approximately $5.0 million for the fiscal year ended December 31, 2023 from approximately $0.6 million\nfor the fiscal year ended December 31, 2022. This change was primarily due to an increase in advertising, marketing, payroll and other\n\n| Patent licensing |  |  |  |  |  |  | 100,000 |  |\n| Total |  | $ | 13,971,729 |  |  | $ | 20,957,972 |  |  \nCost of Revenue. Our cost of revenues was $12,757,365 for the year ended December 31, 2023, compared to $15,203,140 for the same period in 2022. Cost of revenues refers to the cost of material and labor cost. The percentage of direct material was over 90% of the total cost of revenues. The decrease of cost of revenues compared to the year ended December 31, 2022 was primarily due to the corresponding decrease in revenues. We paid tariffs of $210,962 for the year ended December 31, 2023, and $628,526 for the year ended December 31, 2022. The decrease in tariff was mainly due to decrease in revenue in 2023.  Gross profit and gross margin. Our gross profit was $1,214,364 for the year ended December 31, 2023, compared with a gross profit of $5,754,832 for the same period in 2022. Gross margin decreased from 27% during 2022 to 9% during 2023 due to lower productivity caused by lower revenue.  Selling expenses. As shown below, our selling expenses consist primarily of compensation and benefits to our selling department and other expenses incurred in connection with general operations. Our selling expenses increased by $108,939 to $ 1,158,467 for year ended December 31, 2023, from $1,049,529 for the year ended December 31, 2022 mainly due to decrease in freight expense. The decrease in freight by $ 58,923 compared to 2022 was due to lower volume of sales during 2023. Salaries and social insurance increased by $26,592 compared to 2022.  \n|  |  | Year ended | | | | | |  |  | Year ended | | | | | |  |  |  | | | | | |  |\n\n|  |  |  | |  |  |  | |  |  |  | |  |  |  | |  |\n| As of and during the nine months ended February 28, 2023 |  |  | |  |  |  | |  |  |  | |  |  |  | |  |\n| Product revenues to external customers |  | $ | 356,856 |  |  | $ | 143,941 |  |  | $ | — |  |  | $ | 500,797 |  |\n| Service revenues to external customers |  |  | 20,672 |  |  |  | 59,168 |  |  |  | — |  |  |  | 79,840 |  |\n| Total revenues to external customers |  |  | 377,528 |  |  |  | 203,109 |  |  |  | - |  |  |  | 580,637 |  |\n| Operating income (loss) |  |  | 41,053 |  |  |  | 35,439 |  |  |  | (62,402 | ) |  |  | 14,090 |  |  \n(1)Includes the elimination of intersegment transactions. The following table presents the Company’s revenue disaggregated by geographic location:  \n|  |  |  |  |  |  |  |  |  |  |  |  |  |  |  |  |  |\n| --- | --- | --- | --- | --- | --- | --- | --- | --- | --- | --- | --- | --- | --- | --- | --- | --- |\n|  |  | Three Months Ended February 29/28, | | | | | |  |  | Nine Months Ended February 29/28, | | | | | |  |\n|  |  | 2024 | |  |  | 2023 | |  |  | 2024 | |  |  | 2023 | |  |\n| Domestic |  | $ | 124,226 |  |  | $ | 109,919 |  |  | $ | 348,848 |  |  | $ | 304,974 |  |\n| International |  |  | 104,586 |  |  |  | 108,336 |  |  |  | 338,580 |  |  |  | 275,663 |  |\n\n| Licensed content and merchandise revenues | ​ | $ | 51,944 | ​ | $ | 27,891 | ​ | $ | 24,053 |  | 86 | % |\n| Contribution revenues | ​ |  | 28,985 | ​ |  | 2,641 | ​ |  | 26,344 |  | 998 | % |\n| Total revenues | ​ |  | 80,929 | ​ |  | 30,532 | ​ |  | 50,397 |  | 165 | % |\n| ​ | ​ | ​ | ​ | ​ | ​ | ​ | ​ | ​ | ​ | ​ | ​ | ​ |\n| Cost of revenues | ​ |  | 22,056 | ​ |  | 7,603 | ​ |  | 14,453 |  | 190 | % |\n| Distribution and marketing | ​ |  | 21,778 | ​ |  | 5,772 | ​ |  | 16,006 |  | 277 | % |\n| Amortization of film costs | ​ |  | 13,290 | ​ |  | 5,144 | ​ |  | 8,146 |  | 158 | % |\n| Depreciation and amortization | ​ |  | 8,897 | ​ |  | 3,218 | ​ |  | 5,679 |  | 176 | % |\n| General and administrative | ​ |  | 25,330 | ​ |  | 11,611 | ​ |  | 13,719 |  | 118 | % |\n| Net operating income (loss) | ​ |  | (10,422) | ​ |  | (2,816) | ​ |  | (7,606) |  | 270 | % |\n| Interest income | ​ |  | 2,799 | ​ |  | 153 | ​ |  | 2,646 |  | 1,729 | % |\n| Interest expense | ​ |  | (3,279) | ​ |  | (178) | ​ |  | (3,101) |  | 1,742 | % |\n| Other income (expense) | ​ |  | (184) | ​ |  | — | ​ |  | (184) |  | 100 | % |\n| Net income (loss) before income taxes | ​ |  | (11,086) | ​ |  | (2,841) | ​ |  | (8,245) |  | 290 | % |\n| Benefit (provision) for income taxes | ​ |  | 2,129 | ​ |  | 246 | ​ |  | 1,883 |  | 765 | % |\u001B[0m\u001B[32;1m\u001B[1;3mAlphabet's revenue for the three months ended March 31, 2024, was approximately $1,194,773,000 (in thousands), which represents an increase of $206.2 million compared to the same period in 2023. This increase was primarily due to growth in advertisers, optimization efficiencies, improvement in auction-based advertising demand, and higher subscription revenue due to growth in the number of subscribers.\u001B[0m\n\n\u001B[1m> Finished chain.\u001B[0m\n"
     ]
    },
    {
     "output_type": "execute_result",
     "data": {
      "text/plain": [
       "{'input': \"what was alphabet's revenue?\",\n",
       " 'output': \"Alphabet's revenue for the three months ended March 31, 2024, was approximately $1,194,773,000 (in thousands), which represents an increase of $206.2 million compared to the same period in 2023. This increase was primarily due to growth in advertisers, optimization efficiencies, improvement in auction-based advertising demand, and higher subscription revenue due to growth in the number of subscribers.\"}"
      ]
     },
     "execution_count": 13,
     "metadata": {},
     "output_type": "execute_result"
    }
   ],
   "source": [
    "agent_executor.invoke({\"input\": \"what was alphabet's revenue?\"})"
   ]
  },
  {
   "cell_type": "code",
   "execution_count": 0,
   "metadata": {
    "application/vnd.databricks.v1+cell": {
     "cellMetadata": {
      "byteLimit": 2048000,
      "rowLimit": 10000
     },
     "inputWidgets": {},
     "nuid": "b5a357a0-79c9-4b42-b658-55765565984e",
     "showTitle": false,
     "title": ""
    }
   },
   "outputs": [
    {
     "output_type": "stream",
     "name": "stdout",
     "output_type": "stream",
     "text": [
      "\n\n\u001B[1m> Entering new AgentExecutor chain...\u001B[0m\n\u001B[32;1m\u001B[1;3m\nInvoking: `sec_filing_search` with `{'query': 'Alphabet management outlook'}`\n\n\n\u001B[0m\u001B[36;1m\u001B[1;3mITEM 5.OTHER INFORMATION 10b5-1 Trading PlansDuring the fiscal quarter ended March 31, 2024, no Section 16 director or officer adopted, modified, or terminated a “Rule 10b5-1 trading arrangement” (as defined in Item 408 of Regulation S-K of the Exchange Act).There were no “non-Rule 10b5-1 trading arrangements” (as defined in Item 408 of Regulation S-K of the Exchange Act) adopted, modified or terminated during the fiscal quarter ended March 31, 2024 by our directors and Section 16 officers. Compensatory Arrangements of Certain OfficersOn April 16, 2024, the Leadership Development, Inclusion and Compensation Committee of the Board of Directors of Alphabet approved the accrual of dividend equivalent units to holders of all unvested stock units, subject to the approval of a dividend declaration by the Board of Directors of the Company (which was approved and announced on April 25, 2024). This approval covers both performance stock unit awards and Google stock unit awards, and applies both to currently outstanding and future equity awards. For the avoidance of doubt, the corresponding amendments to the respective stock unit grant agreements will apply both to currently outstanding grant agreements and all future grant agreements. As stock units are not outstanding shares of stock and thus would not otherwise be entitled to participate in any dividends (including the one referenced above), the crediting of dividend equivalent units is intended to preserve the equity-based incentives intended by the Company when the stock units were granted and to treat the holders of stock units consistently with all stockholders.\n44  \n---  \nITEM 6.EXHIBITS  \n|  |  |  |  |  |  |  |  |  |  |  |  |  |  |  |  |  |  |  |  |  |  |  |  |\n| --- | --- | --- | --- | --- | --- | --- | --- | --- | --- | --- | --- | --- | --- | --- | --- | --- | --- | --- | --- | --- | --- | --- | --- |\n| ExhibitNumber | | |  | | |  | | | Description | | |  | | | Incorporated by reference herein | | | | | | | | |\n\nWe face intense and growing competition for our products and services, and we may lack sufficient financial or other resources to maintain or improve our competitive positions.  \nThe market for our products is intensely competitive and characterized by rapid changes in technology, customer requirements, industry standards, and frequent new platform and application introductions and improvements. We anticipate continued competitive challenges from current competitors who address different aspects of our offerings, and in many cases, many of these competitors are more established and enjoy greater resources than we do. We also expect competitive challenges from new entrants into the industry or existing large companies seeking to grow their current offerings. If we are unable to anticipate or effectively react to these competitive challenges, our competitive position could weaken, and we could experience a decline in our growth rate and revenue that could adversely affect our business and results of operations.  \nOur main sources of current and potential competition fall into several categories:  \n|  | • |  | AI companies focused on solutions in the conversational interface, language understanding and processing; |\n| --- | --- | --- | --- |  \n|  | • |  | organizations offering products within our current target verticals; and |\n| --- | --- | --- | --- |  \n|  | • |  | legacy providers, including large technology providers seeking to add or scale AI capabilities. |\n| --- | --- | --- | --- |  \nWe caution that many of our competitors may possess advantages such as higher brand visibility, lengthier operational track records, more developed and broader customer bases, larger sales and marketing budgets and teams, superior technological capabilities, a broader network of channel and distribution partners, broader geographical reach, concentrated expertise in specific vertical markets, reduced labor and research and development expenditures, more substantial and mature intellectual property portfolios, as well as significantly greater financial, technical, and overall resources for offering support, pursuing acquisitions, and innovating new products.  \nPotential customers may also prefer to purchase from their existing suppliers rather than a new supplier regardless of platform or application performance or features. As a result, even if the features of our products are  \n23  \n---  \n#####\n\n|  |  |  |  |  |  |  |  |  |  |  |  |  |  |  |  |  |  |  |  |  |  |  |  |  |  |  |  |  |  |  |  |  |  |  |  |\n| --- | --- | --- | --- | --- | --- | --- | --- | --- | --- | --- | --- | --- | --- | --- | --- | --- | --- | --- | --- | --- | --- | --- | --- | --- | --- | --- | --- | --- | --- | --- | --- | --- | --- | --- | --- |\n|  | | | Three Months Ended March 31, | | | | | | | | | | | | | | | | | | | | | | | | | | | | | | | | |\n|  | | | 2024 | | | | | | | | |  | | | 2023 | | | | | | | | |  | | | 2024 vs. 2023 | | | | | | | | |\n|  | | | $ | | |  | | | % ofRevenue | | |  | | | $ | | |  | | | % ofRevenue | | |  | | | $ Change | | |  | | | % Organic Growth | | |\n| Advertising & Media | | | $ | 1,906.8 |  |  | | | 52.5 | | % |  | | | $ | 1,776.5 |  |  | | | 51.6 | | % |  | | | $ | 130.3 |  |  | | | 7.0 | | % |\n| Precision Marketing | | | 438.2 | |  |  | | | 12.1 | | % |  | | | 360.0 | |  |  | | | 10.5 | | % |  | | | 78.2 | |  |  | | | 4.3 | | % |\n\n|  |  |  |  |  |  |  |  |  |  |  |  |  | | |  | | |  | | |  | | |  | | |  | | |  | | |  | | |\n| --- | --- | --- | --- | --- | --- | --- | --- | --- | --- | --- | --- | --- | --- | --- | --- | --- | --- | --- | --- | --- | --- | --- | --- | --- | --- | --- | --- | --- | --- | --- | --- | --- | --- | --- | --- |\n|  | | | Three Months EndedMarch 31, | | | | | | | | |  | | |  | | |  | | |  | | |\n|  | | | 2024 | | |  | | | 2023 | | |  | | |  | | |  | | |  | | |  | | |  | | |  | | |  | | |\n| Net Revenue: | | |  | | |  | | |  | | |  | | |  | | |  | | |  | | |  | | |  | | |  | | |  | | |\n| Financial Advisory (a) | | | $ | 453,507 |  |  | | | $ | 277,574 |  |  | | |  | | |  | | |  | | |  | | |  | | |  | | |  | | |\n|  | | |  | | |  | | |  | | |  | | |  | | |  | | |  | | |  | | |  | | |  | | |  | | |\n| Asset Management: | | |  | | |  | | |  | | |  | | |  | | |  | | |  | | |  | | |  | | |  | | |  | | |\n| Management fees and other (b) | | | $ | 286,540 |  |  | | | $ | 278,598 |  |  | | |  | | |  | | |  | | |  | | |  | | |  | | |  | | |\n\n13  \n---  \n**The implementation of our Enterprise Resource Planning (**“**ERP**”**) system could disrupt our business.**  \nWe are in the process of implementing a common ERP system across all divisions. The ERP system went live at Sunset West in December 2022 and in the legacy Hooker divisions and for consolidated reporting in early September 2023. We expect the ERP system to go live in the Home Meridian segment during fiscal 2026. Although we currently expect the ERP implementation to increase efficiencies by leveraging a common, cloud-based system throughout all divisions and standardizing processes and reporting, our ERP system implementation may not result in improvements that outweigh its costs and may disrupt our operations. Our inability to mitigate existing and future disruptions could adversely affect our sales, earnings, financial condition and liquidity. When the ERP system went live at Sunset West and legacy Hooker divisions, the conversion process significantly impacted shipping activities and negatively impacted sales and profitability in the respective periods, due to longer than expected post-implementation stabilization. The ERP system implementation subjects us to substantial costs and inherent risks associated with migrating from our legacy systems. These costs and risks could include, but are not limited to:  \n|  | ● | Significant capital and operating expenditures; |\n| --- | --- | --- |  \n|  | ● | Disruptions to our domestic and international supply chains; |\n| --- | --- | --- |  \n|  | ● | Inability to fill customer orders accurately and on a timely basis, or at all; |\n| --- | --- | --- |  \n|  | ● | Inability to process payments to suppliers, vendors and associates accurately and in a timely manner; |\n| --- | --- | --- |  \n|  | ● | Disruption to our system of internal controls; |\n| --- | --- | --- |  \n|  | ● | Inability to fulfill our SEC or other governmental reporting requirements in a timely or accurate manner; |\n| --- | --- | --- |  \n|  | ● | Inability to fulfill international, federal, state or local tax filing requirements in a timely or accurate manner; and |\n| --- | --- | --- |\n\n|  | | | 2023 | | |  | | | 2024 | | |  | | |  | | |  | | |  | | |\n| Limited partnership investments, beginning of period | | | $ | 13,879 |  |  | | | $ | 16,068 |  |  | | |  | | |  | | |  | | |\n| Capital contributions | | | 118 | |  |  | | | 34 | |  |  | | |  | | |  | | |  | | |\n| Pro-rata share in the net income (loss) of limited partnerships | | | 877 | |  |  | | | (213) | |  |  | | |  | | |  | | |  | | |\n| Distributions | | | — | |  |  | | | — | |  |  | | |  | | |  | | |  | | |\n| Limited partnership investments, end of period | | | $ | 14,874 |  |  | | | $ | 15,889 |  |  | | |  | | |  | | |  | | |  \nCloud Computing ArrangementsThe Company defers implementation costs incurred in cloud computing arrangements and amortizes these costs over the term of the arrangement. Other InvestmentsThe Company holds investments in education technology start-ups focused on transformational technologies that improve student success. These investments are accounted for at cost less impairment as they do not have readily determinable fair value. Tuition ReceivableNon-current tuition receivable, net, represents tuition that the Company expects to collect, but not within the next 12 months. OtherOther is comprised primarily of deferred financing costs associated with the Company’s credit facility, deferred contract costs related to commissions paid in the Australia/New Zealand segment to third party international recruitment agents, and refundable security deposits associated with the Company’s leased campus and office space.10.    Accounts Payable and Accrued ExpensesAccounts payable and accrued expenses consist of the following as of December 31, 2023 and March 31, 2024 (in thousands):  \n|  |  |  |  |  |  |  |  |  |  |  |  |\n| --- | --- | --- | --- | --- | --- | --- | --- | --- | --- | --- | --- |\n\n| --- | --- | --- | --- |  \n|  | • |  | competition from other companies offering artificial intelligence products that have greater resources, technology, relationships and/or expertise; |\n| --- | --- | --- | --- |  \n|  | • |  | our ability to compete effectively in a highly competitive market; |\n| --- | --- | --- | --- |  \n|  | • |  | our ability to protect and enhance our corporate reputation and brand; |\n| --- | --- | --- | --- |  \n|  | • |  | our ability to hire, retain, train and motivate qualified personnel and senior management and our ability to deploy our personnel and resources to meet customer demand; |\n| --- | --- | --- | --- |  \n|  | • |  | our ability to grow through acquisitions and successfully integrate any such acquisitions; |\n| --- | --- | --- | --- |  \n|  | • |  | the impact from future regulatory, judicial, and legislative changes in our industry; |\n| --- | --- | --- | --- |  \n|  | • |  | increases in costs, disruption of supply or shortage of materials, which could harm our business; |\n| --- | --- | --- | --- |  \n|  | • |  | our ability to successfully maintain, protect, enforce and grow our intellectual property rights; |\n| --- | --- | --- | --- |  \n|  | • |  | our future financial performance ,including the ability of future revenues to meet projected annual bookings; |\n| --- | --- | --- | --- |  \n1  \n---  \n#####  \n|  | • |  | our ability to forecast and maintain an adequate rate of revenue growth and appropriately plan our expenses; |\n| --- | --- | --- | --- |  \n|  | • |  | our ability to generate sufficient revenue from each of our revenue streams; or |\n| --- | --- | --- | --- |  \n|  | • |  | the other risks and uncertainties discussed in “Risk Factors” and elsewhere in this Report. |\n\n•View of Business combines emotion grading and call context to infer how the customer perceives your business: positive, negative, or neutral.\nThese structured data pieces are then paired with natural language explanations of why callers are reacting the way they are, enhancing the understanding of emotional dynamics during conversations. Call Summaries and Sentiment Suite are just the first in a series of AI enhancements in Marchex’s product pipeline, all designed to equip organizations with applications to proactively identify sales and growth opportunities, as well as address issues that may lead to negative experiences and reviews from dissatisfied customers.  \nBusiness Update  \nFor our fiscal year ended December 31, 2023, our revenue was $49.9 million, which decreased by $2.3 million, or 5%, compared to $52.2 million for the fiscal year ended December 31, 2022. The decrease is attributable primarily to lower conversational volumes in 2023 compared to 2022, particularly with our small business listing and solutions resellers. While we do expect to see continued lower call volumes in the near term based on the continuation of certain volume trends from late 2023, we believe that previously won dealer channel and Auto OEM relationships ramping over the course of the year, extension of existing customers to multi-year arrangements, expansion of our go-to-market initiatives resulting in new customer relationships across our verticals, continued innovation in our AI capabilities and product offerings, and completion of the necessary infrastructure to accelerate product cross selling to existing and new customers may provide an opportunity for potential revenue growth.  \nWe believe our operating expenses have prospective opportunity for further efficiencies as we continue to make advancements in our technology infrastructure and cloud initiatives, to \"OneStack\". OneStack enables our technologies and clients to be more easily managed in a less costly operating environment. It provides a streamlined product innovation and go to market approach, allowing our vertical market clients to potentially consume all our signals, data analytics and applied AI and also provides speed and scale for client onboarding while streamlining support and account management.  \nFor additional information on the effects of our technology environment restructuring efforts on our business and operations, refer to “Results of Operations” within this discussion and analysis and Item 1 of Part I, “Business.”  \nFactors Affecting our Performance\n\nNone  \n*For\nthe year ended December 31, 2022*  \nOn\nNovember 30, 2022, the Company issued 21,000 shares of its Series B Convertible Preferred Stock to Bill Edmonds in satisfaction of $21,000\nloans payable to Mr. Edmonds.  \nThe\nnumber of preferred shares authorized with a par value of $0.0001 per share at September 30, 2023 and December 31, 2022 was 5,000,000\nand 5,000,000, respectively. At September 30, 2023 and December 31, 2022, there were 52,000 and 52,000 shares of preferred stock issued\nand outstanding, respectively.  \n| **ITEM  6.** | **[RESERVED]** |\n| --- | --- |  \n| **ITEM  7.** | **MANAGEMENT’S  DISCUSSION AND ANALYSIS OF FINANCIAL CONDITION AND RESULTS OF OPERATIONS.** |\n| --- | --- |  \nThe\nfollowing discussion of our financial condition and results of operations should be read in conjunction with our financial statements\nand the related notes, and other financial information included in this report.  \nOur\nManagement’s Discussion and Analysis contains not only statements that are historical facts, but also statements that are forward-looking.\nForward-looking statements are, by their very nature, uncertain and risky. Forward-looking statements are often identified by words like:\n“believe”, “expect”, “estimate”, “anticipate”, “intend”, “project”\nand similar expressions, or words that, by their nature, refer to future events. You should not place undue certainty on these forward-looking\nstatements, which apply only as of the date of this Annual Report on Form 10-K. These forward-looking statements are subject to certain\nrisks and uncertainties that could cause actual results to differ materially from historical results or our predictions. These risks\nand uncertainties include international, national, and local general economic and market conditions; our ability to sustain, manage,\nor forecast growth; our ability to successfully make and integrate acquisitions; new product development and introduction; existing government\nregulations and changes in, or the failure to comply with, government regulations; adverse publicity; competition; the loss of significant\ncustomers or suppliers; fluctuations and difficulty in forecasting operating results; change in business strategy or development plans;\nbusiness disruptions; the ability to attract and retain qualified personnel; the ability to protect technology; the risk of foreign currency\n\n|  |\n| --- |\n| 28 |\n|  |\n|  |  \n***If we lose key personnel or are unable to recruit qualified personnel, our ability to implement our business strategies could be delayed or hindered.***  \nOur future success will depend, in part, upon the efforts of Meryl Golden, our President and Chief Executive Officer, and Barry Goldstein, our Executive Chairman. The loss of Ms. Golden or Mr. Goldstein or other key personnel could prevent us from fully implementing our business strategies and could materially and adversely affect our business, financial condition and results of operations. As we continue to grow, we will need to recruit and retain additional qualified management personnel, but we may not be able to do so. Our ability to recruit and retain such personnel will depend upon a number of factors, such as our results of operations and prospects and the level of competition prevailing in the market for qualified personnel. Ms. Golden and we are parties to an employment agreement which expires on December 31, 2024. Mr. Goldstein and we are parties to an employment agreement which expires on the earlier of December 31, 2024 or at the time of our 2024 annual meeting of stockholders if he is not re-elected Chairman of the Board at such time.  \n***Difficult conditions in the economy generally could adversely affect our business and operating results.***  \nAs with most businesses, we believe that difficult conditions in the economy could have an adverse effect on our business and operating results. General economic conditions also could adversely affect us in the form of consumer behavior, which may include decreased demand for our products. As consumers become more cost conscious, they may choose to purchase lower levels of insurance.  \n***Changes in accounting standards issued by the Financial Accounting Standards Board or other standard-setting bodies may adversely affect our reported results of operations and financial condition.***  \nOur financial statements are subject to the application of generally accepted accounting principles, which are periodically revised, interpreted and/or expanded. Accordingly, we are required to adopt new guidance or interpretations, which may have a material adverse effect on our results of operations and financial condition that is either unexpected or has a greater impact than expected.  \n***Our business could be adversely affected by a security breach or other attack involving our computer systems or those of one or more of our vendors.***\u001B[0m\u001B[32;1m\u001B[1;3mAlphabet's management outlook on the future, as derived from their SEC filings, highlights several key areas of focus and concern:\n\n1. **Competitive Landscape**: Alphabet acknowledges the intense and growing competition in the market for its products and services. The company faces challenges from current competitors who address different aspects of its offerings, as well as from new entrants and existing large companies seeking to expand their offerings. Alphabet's main sources of competition include AI companies focused on conversational interfaces, language understanding, and processing; organizations offering products within Alphabet's target verticals; and legacy providers, including large technology providers seeking to add or scale AI capabilities.\n\n2. **Competitive Advantages and Challenges**: The company is aware that many of its competitors may possess advantages such as higher brand visibility, more developed customer bases, larger sales and marketing budgets, superior technological capabilities, and significantly greater financial and technical resources. Alphabet cautions that potential customers may prefer to purchase from their existing suppliers, which could impact the company's ability to compete effectively.\n\n3. **Revenue Growth and Financial Performance**: Alphabet's financial performance, including the ability to maintain an adequate rate of revenue growth and plan expenses appropriately, is highlighted as a critical area. The company aims to generate sufficient revenue from each of its revenue streams and is mindful of the risks and uncertainties that could impact its financial condition and results of operations.\n\n4. **Operational and Technological Challenges**: The implementation of Alphabet's Enterprise Resource Planning (ERP) system is mentioned as a potential disruptor to business operations. While the ERP system is expected to increase efficiencies, its implementation may not result in improvements that outweigh its costs and could disrupt operations.\n\n5. **Business Update and Outlook**: Despite facing a decrease in revenue in the fiscal year ended December 31, 2023, Alphabet remains optimistic about potential revenue growth opportunities. The company expects to benefit from dealer channel and Auto OEM relationships, expansion of go-to-market initiatives, innovation in AI capabilities, and the completion of infrastructure to accelerate product cross-selling. Alphabet also sees opportunities for further efficiencies in operating expenses as it advances its technology infrastructure and cloud initiatives.\n\n6. **Key Personnel and Economic Conditions**: The success of Alphabet's business strategies is partly dependent on key personnel, including its President and CEO, Meryl Golden, and Executive Chairman, Barry Goldstein. The company acknowledges that difficult economic conditions could adversely affect its business and operating results.\n\nIn summary, Alphabet's management outlook reflects a cautious yet optimistic stance towards the future. The company is focused on navigating the competitive landscape, leveraging technological advancements, and exploring growth opportunities while being mindful of the challenges and uncertainties that lie ahead.\u001B[0m\n\n\u001B[1m> Finished chain.\u001B[0m\n"
     ]
    },
    {
     "output_type": "execute_result",
     "data": {
      "text/plain": [
       "{'input': \"what is alphabet's management outlook of the future?\",\n",
       " 'output': \"Alphabet's management outlook on the future, as derived from their SEC filings, highlights several key areas of focus and concern:\\n\\n1. **Competitive Landscape**: Alphabet acknowledges the intense and growing competition in the market for its products and services. The company faces challenges from current competitors who address different aspects of its offerings, as well as from new entrants and existing large companies seeking to expand their offerings. Alphabet's main sources of competition include AI companies focused on conversational interfaces, language understanding, and processing; organizations offering products within Alphabet's target verticals; and legacy providers, including large technology providers seeking to add or scale AI capabilities.\\n\\n2. **Competitive Advantages and Challenges**: The company is aware that many of its competitors may possess advantages such as higher brand visibility, more developed customer bases, larger sales and marketing budgets, superior technological capabilities, and significantly greater financial and technical resources. Alphabet cautions that potential customers may prefer to purchase from their existing suppliers, which could impact the company's ability to compete effectively.\\n\\n3. **Revenue Growth and Financial Performance**: Alphabet's financial performance, including the ability to maintain an adequate rate of revenue growth and plan expenses appropriately, is highlighted as a critical area. The company aims to generate sufficient revenue from each of its revenue streams and is mindful of the risks and uncertainties that could impact its financial condition and results of operations.\\n\\n4. **Operational and Technological Challenges**: The implementation of Alphabet's Enterprise Resource Planning (ERP) system is mentioned as a potential disruptor to business operations. While the ERP system is expected to increase efficiencies, its implementation may not result in improvements that outweigh its costs and could disrupt operations.\\n\\n5. **Business Update and Outlook**: Despite facing a decrease in revenue in the fiscal year ended December 31, 2023, Alphabet remains optimistic about potential revenue growth opportunities. The company expects to benefit from dealer channel and Auto OEM relationships, expansion of go-to-market initiatives, innovation in AI capabilities, and the completion of infrastructure to accelerate product cross-selling. Alphabet also sees opportunities for further efficiencies in operating expenses as it advances its technology infrastructure and cloud initiatives.\\n\\n6. **Key Personnel and Economic Conditions**: The success of Alphabet's business strategies is partly dependent on key personnel, including its President and CEO, Meryl Golden, and Executive Chairman, Barry Goldstein. The company acknowledges that difficult economic conditions could adversely affect its business and operating results.\\n\\nIn summary, Alphabet's management outlook reflects a cautious yet optimistic stance towards the future. The company is focused on navigating the competitive landscape, leveraging technological advancements, and exploring growth opportunities while being mindful of the challenges and uncertainties that lie ahead.\"}"
      ]
     },
     "execution_count": 14,
     "metadata": {},
     "output_type": "execute_result"
    }
   ],
   "source": [
    "agent_executor.invoke({\"input\": \"what is alphabet's management outlook of the future?\"})"
   ]
  },
  {
   "cell_type": "code",
   "execution_count": 0,
   "metadata": {
    "application/vnd.databricks.v1+cell": {
     "cellMetadata": {
      "byteLimit": 2048000,
      "rowLimit": 10000
     },
     "inputWidgets": {},
     "nuid": "ff8c917b-cfcf-4d08-9771-0bc2793d0cd0",
     "showTitle": false,
     "title": ""
    }
   },
   "outputs": [
    {
     "output_type": "stream",
     "name": "stdout",
     "output_type": "stream",
     "text": [
      "\n\n\u001B[1m> Entering new AgentExecutor chain...\u001B[0m\n\u001B[32;1m\u001B[1;3m\nInvoking: `sec_filing_search` with `{'query': 'Apple revenue'}`\n\n\n\u001B[0m\u001B[36;1m\u001B[1;3m| China |  |  | 98,000 |  |  |  | 1,984,000 |  |\n| United Arab Emirates |  |  | 570,000 |  |  |  | – |  |\n| Vietnam |  |  | 225,000 |  |  |  | 515,000 |  |\n| Other |  |  | 2,523,000 |  |  |  | 1,343,000 |  |\n| Total |  | $ | 9,445,000 |  |  | $ | 10,483,000 |  |  \nThe following table summarizes the revenues by product line and type:  \n|  |  | Year Ended December 31, 2023 | | | | | | | | | | | | | |  |\n| --- | --- | --- | --- | --- | --- | --- | --- | --- | --- | --- | --- | --- | --- | --- | --- | --- |\n|  |  | Device Revenue | |  |  | Service Revenue | |  |  | Other Revenue | |  |  | Total Revenue | |  |\n|  |  |  |  |  |  |  |  |  |  |  |  |  |  |  |  |  |\n| AXP |  | $ | 4,970,000 |  |  | $ | 232,000 |  |  | $ | – |  |  | $ | 5,202,000 |  |\n| BioArchive |  |  | 1,484,000 |  |  |  | 1,361,000 |  |  |  | – |  |  |  | 2,845,000 |  |\n| X-Series |  |  | 121,000 |  |  |  | 152,000 |  |  |  | 779,000 |  |  |  | 1,052,000 |  |\n| Other |  |  | 288,000 |  |  |  | – |  |  |  | 58,000 |  |  |  | 346,000 |  |\n| Total |  | $ | 6,863,000 |  |  | $ | 1,745,000 |  |  | $ | 837,000 |  |  | $ | 9,445,000 |  |  \n|  |  | Year Ended December 31, 2022 | | | | | | | | | | | | | |  |\n\n|  |  | Year Ended December 31, 2022 | | | | | | | | | | | | | |  |\n| --- | --- | --- | --- | --- | --- | --- | --- | --- | --- | --- | --- | --- | --- | --- | --- | --- |\n|  |  | Device Revenue | |  |  | Service Revenue | |  |  | Other Revenue | |  |  | Total Revenue | |  |\n|  |  |  |  |  |  |  |  |  |  |  |  |  |  |  |  |  |\n| AXP |  | $ | 5,911,000 |  |  | $ | 480,000 |  |  | $ | – |  |  | $ | 6,391,000 |  |\n| BioArchive |  |  | 1,247,000 |  |  |  | 968,000 |  |  |  | – |  |  |  | 2,215,000 |  |\n| X-Series |  |  | 654,000 |  |  |  | 190,000 |  |  |  | 285,000 |  |  |  | 1,129,000 |  |\n| Other |  |  | 719,000 |  |  |  | – |  |  |  | 29,000 |  |  |  | 748,000 |  |\n| Total |  | $ | 8,531,000 |  |  | $ | 1,638,000 |  |  | $ | 314,000 |  |  | $ | 10,483,000 |  |  \n51  \n---  \n*Contract Balances*  \nGenerally, all sales are contract sales (with either an underlying contract or purchase order). The Company does not have any material contract assets. When invoicing occurs prior to revenue recognition, a contract liability is recorded (as deferred revenue on the consolidated balance sheet). Revenues recognized during the year ended December 31, 2023 and 2022 that were included in the beginning balance of deferred revenue were $782,000 and $719,000, respectively. Short-term deferred revenues were $670,000 and $782,000 at December 31, 2023 and 2022, respectively. Long-term deferred revenue was $127,000 and $911,000 at December 31, 2023 and 2022, respectively*.*  \n*Exclusivity Fee*\n\n|  |  |  |  |  |  |  |  |  |  |  |  |  |  |  |  |  |  |  |  |  |  |  |  |  |\n| Operating Income |  | | | |  | | | | | | | |  |  |  |  |  |  |  |  |  |  |  |  |\n|  |  | | | |  | | | | | | | |  |  |  |  |  |  |  |  |  |  |  |  |\n| Productivity and Business Processes |  | $ | 10,143 |  |  | $ | 8,639 |  |  |  | 17% |  |  | $ | 30,397 |  |  | $ | 25,137 |  |  |  | 21% |  |\n| Intelligent Cloud |  |  | 12,513 |  |  |  | 9,476 |  |  |  | 32% |  |  |  | 36,725 |  |  |  | 27,358 |  |  |  | 34% |  |\n| More Personal Computing |  |  | 4,925 |  |  |  | 4,237 |  |  |  | 16% |  |  |  | 14,386 |  |  |  | 11,774 |  |  |  | 22% |  |\n|  | | | |  |  |  |  |  |  |  |  |  |  |  |  |  |  |  |  |  |  |  |  |  |\n|  | | | |  |  |  |  |  |  |  |  |  |  |  |  |  |  |  |  |  |  |  |  |  |\n| Total |  | $ | 27,581 |  |  | $ | 22,352 |  |  |  | 23% |  |  | $ | 81,508 |  |  | $ | 64,269 |  |  |  | 27% |  |\n|  |  |  |  |  |  |  |  |  |  |  |  |  |  |  |  |  |  |  |  |  |  |  |  |  |  \nReportable Segments  \nThree Months Ended March 31, 2024 Compared with Three Months Ended March 31, 2023  \nProductivity and Business Processes  \nRevenue increased $2.1 billion or 12%.  \n•Office Commercial products and cloud services revenue increased $1.4 billion or 13%. Office 365 Commercial revenue grew 15% with seat growth of 8%, driven by small and medium business and frontline worker offerings, as well as growth in revenue per user. Office Commercial products revenue declined 20% driven by continued customer shift to cloud offerings.\n\nRevenues from discontinued operations\nfor the years ended December 31, 2023 and 2022 were as follows:  \n|  |  | **Year Ended** **December 31,** | | | | | |  |\n| --- | --- | --- | --- | --- | --- | --- | --- | --- |\n|  |  | 2023 | |  |  | 2022 | |  |\n|  |  | (*in thousands*) | | | | | |  |\n| Revenues: |  |  |  |  |  |  |  |  |\n| Outpatient facility services |  | $ | 4,644 |  |  | $ | 14,824 |  |\n| Memberships |  |  | 443 |  |  |  | 684 |  |\n| Retail clinics |  |  | 110 |  |  |  | 678 |  |\n| Total revenues |  | $ | 5,197 |  |  | $ | 16,186 |  |  \nSee\nthe table below for more information regarding our revenue breakdown by service type for discontinued operations.  \n|  |  | Year Ended December 31, | | | | | |  |\n| --- | --- | --- | --- | --- | --- | --- | --- | --- |\n|  |  | 2023 | |  |  | 2022 | |  |\n|  |  |  | | | | | |  |\n| Revenues: |  |  |  |  |  |  |  |  |\n| Medical treatments |  |  | 65 | % |  |  | 72 | % |\n| Physical therapy |  |  | 22 | % |  |  | 22 | % |\n| Chiropractic care |  |  | 4 | % |  |  | 5 | % |\n| Memberships |  |  | 9 | % |  |  | 1 | % |\n|  |  |  | 100 | % |  |  | 100 | % |  \n| 48 |\n| --- |  \n***Consolidated\nResults***  \nTotal\nrevenues decreased $11 million due to the closure or sale of all locations.  \n***IMAC\nClinics***  \nThe\nrevenue decrease attributed to IMAC Clinics was $10.2 million due to the closure or sale of all locations.  \n***Retail\nClinics***  \nThe\n\n|  | | | Year Ended December 31, 2022 | | | | | | | | | | | | | | | | | | | | | | | | | | |\n|  | | | BrandDirect | | |  | | | Marketplace | | |  | | | Technology Solutions | | |  | | | Intercompany Eliminations | | |  | | | Total | | |\n| Net revenue: | | |  | | |  | | |  | | |  | | |  | | |  | | |  | | |  | | |  | | |\n| Customer acquisition | | | $ | 198,873 |  |  | | | $ | 216,385 |  |  | | | $ | — |  |  | | | $ | (39,284) |  |  | | | $ | 375,974 |  |\n| Managed services | | | 5,367 | |  |  | | | — | |  |  | | | 4,814 | |  |  | | | — | |  |  | | | 10,181 | |  |\n| Software services | | | — | |  |  | | | — | |  |  | | | 4,993 | |  |  | | | — | |  |  | | | 4,993 | |  |\n| Total Net revenue | | | $ | 204,240 |  |  | | | $ | 216,385 |  |  | | | $ | 9,807 |  |  | | | $ | (39,284) |  |  | | | $ | 391,148 |  |  \n69  \n---  \nThe Company generated revenue outside the United States through its 2023 ClickDealer acquisition. The following table represents these revenues by region (in thousands):  \n|  |  |  |  |  |  |  | | |  | | |  |  |  |\n| --- | --- | --- | --- | --- | --- | --- | --- | --- | --- | --- | --- | --- | --- | --- |\n|  | | |  | | |  | | |  | | | Year Ended December 31, 2023 | | |\n| Europe | | |  | | |  | | |  | | | $ | 17,376 |  |\n\nOur cost of revenue increased 3% for the year ended December 31, 2023, from the comparative period in 2022. This was mainly due to increased amortization expenses associated with internally developed application software resulting from our major growth initiative, which included investing in infrastructure, new product development, data collection, and the expansion of our global market coverage.  \nOverall, the cost of revenue decreased as a percentage of sales, as evidenced by our gross margin percentage that increased to 51% in 2023 from 49% in 2022. New contracts signed since the comparative period have higher gross margins than our existing customer contracts typically have on average, resulting in an increase in our gross margin percentage.  \n**Operating Expenses Summary**  \n|  |  | **Years ended December 31** | | | | | |  |  |  | |  |  |  | |  |\n| --- | --- | --- | --- | --- | --- | --- | --- | --- | --- | --- | --- | --- | --- | --- | --- | --- |\n|  |  | **2023** | |  |  | **2022** | |  |  | **Change ($)** | |  |  | **Change (%)** | |  |\n|  |  |  | |  |  |  | |  |  |  | |  |  |  | |  |\n| Sales and marketing |  | $ | 3,130,051 |  |  | $ | 2,952,968 |  |  | $ | 177,083 |  |  |  | 6 | % |\n| General and administrative |  |  | 3,346,157 |  |  |  | 3,015,453 |  |  |  | 330,704 |  |  |  | 11 | % |\n| Software development |  |  | 2,757,031 |  |  |  | 2,096,404 |  |  |  | 660,627 |  |  |  | 32 | % |\n| Total operating expenses |  | $ | 9,233,239 |  |  | $ | 8,064,825 |  |  | $ | 1,168,414 |  |  |  | 14 | % |  \n**Sales and Marketing**\n\n---  \nResults of OperationsThe following table sets forth certain consolidated financial data for each of the periods indicated:  \n|  |  |  |  |  |  |  |  |  |  |  |  |\n| --- | --- | --- | --- | --- | --- | --- | --- | --- | --- | --- | --- |\n|  | | | Year Ended December 31, | | | | | | | | |\n| (Amounts in thousands, except per share amounts) | | | 2023 | | |  | | | 2022 | | |\n| Revenues: | | |  | | |  | | |  | | |\n| Mortgage platform revenue, net(1) | | | $ | 61,328 |  |  | | | $ | 101,285 |  |\n| Cash offer program revenue | | | 304 | |  |  | | | 228,721 | |  |\n| Other platform revenue | | | 11,293 | |  |  | | | 38,362 | |  |\n| Net interest income (expense): | | |  | | |  | | |  | | |\n| Interest income | | | 15,575 | |  |  | | | 26,714 | |  |\n| Warehouse interest expense | | | (11,680) | |  |  | | | (17,059) | |  |\n| Net interest income (expense) | | | 3,895 | |  |  | | | 9,655 | |  |\n| Total net revenues | | | 76,820 | |  |  | | | 378,023 | |  |\n| Expenses: | | |  | | |  | | |  | | |\n| Mortgage platform expenses(2)(3) | | | 84,083 | |  |  | | | 321,621 | |  |\n| Cash offer program expenses | | | 397 | |  |  | | | 230,144 | |  |\n| Other platform expenses(2)(3) | | | 13,048 | |  |  | | | 59,501 | |  |\n| General and administrative expenses(2)(3) | | | 147,214 | |  |  | | | 185,876 | |  |\n\n|  |  |  | |  |  |  | |  |  |  | |  |  |  | |  |\n| As of and during the nine months ended February 28, 2023 |  |  | |  |  |  | |  |  |  | |  |  |  | |  |\n| Product revenues to external customers |  | $ | 356,856 |  |  | $ | 143,941 |  |  | $ | — |  |  | $ | 500,797 |  |\n| Service revenues to external customers |  |  | 20,672 |  |  |  | 59,168 |  |  |  | — |  |  |  | 79,840 |  |\n| Total revenues to external customers |  |  | 377,528 |  |  |  | 203,109 |  |  |  | - |  |  |  | 580,637 |  |\n| Operating income (loss) |  |  | 41,053 |  |  |  | 35,439 |  |  |  | (62,402 | ) |  |  | 14,090 |  |  \n(1)Includes the elimination of intersegment transactions. The following table presents the Company’s revenue disaggregated by geographic location:  \n|  |  |  |  |  |  |  |  |  |  |  |  |  |  |  |  |  |\n| --- | --- | --- | --- | --- | --- | --- | --- | --- | --- | --- | --- | --- | --- | --- | --- | --- |\n|  |  | Three Months Ended February 29/28, | | | | | |  |  | Nine Months Ended February 29/28, | | | | | |  |\n|  |  | 2024 | |  |  | 2023 | |  |  | 2024 | |  |  | 2023 | |  |\n| Domestic |  | $ | 124,226 |  |  | $ | 109,919 |  |  | $ | 348,848 |  |  | $ | 304,974 |  |\n| International |  |  | 104,586 |  |  |  | 108,336 |  |  |  | 338,580 |  |  |  | 275,663 |  |\n\nResults of Operations\nRevenue  \n|  |  |  |  |  |  |  |  |  |  |  |  |  |  |  |  |  |  |  |  |  |  |  |  |\n| --- | --- | --- | --- | --- | --- | --- | --- | --- | --- | --- | --- | --- | --- | --- | --- | --- | --- | --- | --- | --- | --- | --- | --- |\n|  | | | Three Months Ended | | | | | | | | |  | | | % Change | | | | | | | | |\n| (In thousands) | | | February 29, 2024 | | |  | | | February 28, 2023 | | |  | | | As Reported | | |  | | | Constant Currency | | |\n| Revenue | | | $ | 184,685 |  |  | | | $ | 164,226 |  |  | | | 12 | | % |  | | | 12 | | % |  \nTotal revenue increased as compared to the same period last year due to our acquisition of MarkLogic in February 2023, as well as increases in our OpenEdge product offering. MarkLogic revenue represents $26.7 million of the increase as the current period includes activity for the full quarter, whereas the prior period only included the month of February 2023. These increases were partially offset by a decrease in our DataDirect product offering as a result of the timing of renewals on multiyear subscription contracts.\nSoftware License Revenue  \n|  |  |  |  |  |  |  |  |  |  |  |  |  |  |  |  |  |  |  |  |  |  |  |  |\n| --- | --- | --- | --- | --- | --- | --- | --- | --- | --- | --- | --- | --- | --- | --- | --- | --- | --- | --- | --- | --- | --- | --- | --- |\n|  | | | Three Months Ended | | | | | | | | |  | | | % Change | | | | | | | | |\n\n| Loss before income taxes |  |  | (48.6 | ) |  |  | (44.5 | ) |  \n75  \n---  \nThe following tables set forth our revenue by region and by product type for the years indicated:  \n|  |  | **Year Ended December 31,** | | | | | |  |\n| --- | --- | --- | --- | --- | --- | --- | --- | --- |\n| **Revenues by region:** |  | **2023** | |  |  | **2022** | |  |\n| United States |  | $ | 43,454 |  |  | $ | 52,101 |  |\n| International |  |  | 32,900 |  |  |  | 47,396 |  |\n| Total revenue |  | $ | 76,354 |  |  | $ | 99,497 |  |  \n|  |  | **Year Ended December 31,** | | | | | |  |\n| --- | --- | --- | --- | --- | --- | --- | --- | --- |\n|  |  | **2023** | |  |  | **2022** | |  |\n| **Revenues by product:** |  | **(in thousands)** | | | | | |  |\n| Subscription—Systems |  | $ | 20,504 |  |  | $ | 35,267 |  |\n| Products—Systems |  |  | 41,874 |  |  |  | 47,906 |  |\n| Products—Other(1) |  |  | 10,563 |  |  |  | 13,316 |  |\n| Services (2) |  |  | 3,413 |  |  |  | 3,008 |  |\n| Total revenue |  | $ | 76,354 |  |  | $ | 99,497 |  |  \n| (1) | Products-Other include ARTAS procedure kits, Viva tips, Glide and other consumables. |\n| --- | --- |  \n| (2) | Services include extended warranty sales. |\n| --- | --- |  \n***Comparison of the Years Ended December 31, 2023 and 2022***  \n*Revenues*\u001B[0m\u001B[32;1m\u001B[1;3mApple's total revenue for the year ended December 31, 2023, was $9,445,000 (in thousands), which represents a decrease from the total revenue of $10,483,000 (in thousands) for the year ended December 31, 2022.\u001B[0m\n\n\u001B[1m> Finished chain.\u001B[0m\n"
     ]
    },
    {
     "output_type": "execute_result",
     "data": {
      "text/plain": [
       "{'input': \"what was apples's revenue?\",\n",
       " 'output': \"Apple's total revenue for the year ended December 31, 2023, was $9,445,000 (in thousands), which represents a decrease from the total revenue of $10,483,000 (in thousands) for the year ended December 31, 2022.\"}"
      ]
     },
     "execution_count": 42,
     "metadata": {},
     "output_type": "execute_result"
    }
   ],
   "source": [
    "agent_executor.invoke({\"input\": \"what was apples's revenue?\"})"
   ]
  },
  {
   "cell_type": "code",
   "execution_count": 0,
   "metadata": {
    "application/vnd.databricks.v1+cell": {
     "cellMetadata": {
      "byteLimit": 2048000,
      "rowLimit": 10000
     },
     "inputWidgets": {},
     "nuid": "19b8485e-8cce-4904-aabd-1ba6dd363f53",
     "showTitle": false,
     "title": ""
    }
   },
   "outputs": [
    {
     "output_type": "execute_result",
     "data": {
      "text/plain": [
       "{'response': AIMessage(content=\"Based on the provided documents, Alphabet Inc.'s revenues for the three months ended March 31, 2024 were $80,539 million.\", response_metadata={'prompt_tokens': 5586, 'completion_tokens': 30, 'total_tokens': 5616}, id='run-9558169b-49b9-48aa-a59f-6dd797a162e6-0'),\n",
       " 'context': [Document(page_content='|  | | | Three Months Ended | | | | | | | | |\\n|  | | | March 31, | | | | | | | | |\\n|  | | | 2023 | | |  | | | 2024 | | |\\n| Google Search & other | | | $ | 40,359 |  |  | | | $ | 46,156 |  |\\n| YouTube ads | | | 6,693 | |  |  | | | 8,090 | |  |\\n| Google Network | | | 7,496 | |  |  | | | 7,413 | |  |\\n| Google advertising | | | 54,548 | |  |  | | | 61,659 | |  |\\n| Google subscriptions, platforms, and devices | | | 7,413 | |  |  | | | 8,739 | |  |\\n| Google Services total | | | 61,961 | |  |  | | | 70,398 | |  |\\n| Google Cloud | | | 7,454 | |  |  | | | 9,574 | |  |\\n| Other Bets | | | 288 | |  |  | | | 495 | |  |\\n| Hedging gains (losses) | | | 84 | |  |  | | | 72 | |  |\\n| Total revenues | | | $ | 69,787 |  |  | | | $ | 80,539 |  |  \\nGoogle ServicesGoogle advertising revenuesGoogle Search & otherGoogle Search & other revenues increased $5.8 billion from the three months ended March 31, 2023 to the three months ended March 31, 2024. The overall growth was driven by interrelated factors including increases in search queries resulting from growth in user adoption and usage on mobile devices; growth in advertiser spending; and improvements we have made in ad formats and delivery. YouTube adsYouTube ads revenues increased $1.4 billion from the three months ended March 31, 2023 to the three months ended March 31, 2024. The growth was driven by our direct response and brand advertising products, both of which benefited from increased spending by our advertisers.33  \\n---', metadata={'name': 'Alphabet Inc.', 'tickers': 'GOOGL, GOOG', 'exchanges': 'Nasdaq', 'form': '10-Q', 'filing_date': '2024-04-26', 'industry': 'Services-Computer Programming, Data Processing, Etc.', 'id': 37188.0}),\n",
       "  Document(page_content='of\\xa0March\\xa031, 2024, we had income taxes payable of $4.2 billion, of which $2.1\\xa0billion was short-term, related to a one-time transition tax payable incurred as a result of the U.S. Tax Cuts and Jobs Act (\"Tax Act\"). As permitted by the Tax Act, we will pay the transition tax in annual interest-free installments through 2025. We also have long-term taxes payable of $7.1\\xa0billion primarily related to uncertain tax positions as of March\\xa031, 2024. Purchase Commitments and Other Contractual ObligationsAs of March 31, 2024, we had material purchase commitments and other contractual obligations of $44.0 billion, of which $29.4 billion was short-term. These amounts primarily consist of purchase orders for certain technical infrastructure as well as the non-cancelable portion or the minimum cancellation fee in certain agreements related to commitments to purchase licenses, including content licenses, inventory and network capacity. For those agreements with variable terms, we do not estimate the non-cancelable obligation beyond any minimum quantities and/or pricing as of March 31, 2024. In certain instances, the amount of our contractual obligations may change based on the expected timing of order fulfillment from our suppliers. For more information related to our content licenses, see Note 8 of the Notes to Consolidated Financial Statements included in Item I of this Quarterly Report on Form 10-Q. In addition we regularly enter into multi-year, non-cancellable agreements to purchase renewable energy and energy attributes, such as renewable energy certificates. These agreements do not include a minimum dollar commitment. The amounts to be paid under these agreements are based on the actual volumes to be generated and are not readily determinable. Critical Accounting EstimatesSee Part II, Item 7, \"Critical Accounting Estimates\" in our Annual Report on Form 10-K for the year ended December\\xa031, 2023. 41', metadata={'name': 'Alphabet Inc.', 'tickers': 'GOOGL, GOOG', 'exchanges': 'Nasdaq', 'form': '10-Q', 'filing_date': '2024-04-26', 'industry': 'Services-Computer Programming, Data Processing, Etc.', 'id': 37338.0}),\n",
       "  Document(page_content='---  \\nOther Information•On April 25, 2024, the Board of Directors of Alphabet approved the initiation of a cash dividend program, and declared a cash dividend of $0.20 per share that will be paid on June 17, 2024, to stockholders of record as of June 10, 2024, on each of the company’s Class A, Class B, and Class C shares. See Note 9 of the Notes to Consolidated Financial Statements included in Item 8 of this Annual Report on Form 10-Q for additional information.•Repurchases of Class A and Class C shares were $3.4 billion and $12.7 billion, respectively, totaling $16.1 billion for the three months ended March 31, 2024. In April 2024, the Board of Directors of Alphabet authorized the company to repurchase up to an additional $70.0 billion of its Class A and Class C shares. For additional information, see Note 9 of the Notes to Consolidated Financial Statements included in Item 1 of this Quarterly Report on Form 10-Q for additional information.•Compensation expenses included employee severance and related charges for the three months ended March 31, 2024 of $716\\xa0million, a $1.3 billion decrease in severance and related charges as compared to the three months ended March 31, 2023. For the first quarter of 2024, these charges are included within cost of revenues, research and development, sales and marketing, and general and administrative expenses in the amounts of $153 million, $247 million, $217 million, and $99 million, respectively.•Operating cash flow was $28.8 billion for the three months ended March 31, 2024.•Capital expenditures, which primarily reflected investments in technical infrastructure, were $12.0 billion for the three months ended March 31, 2024.•As of March\\xa031, 2024, we had 180,895 employees. Financial ResultsRevenuesThe following table presents revenues by type (in millions):  \\n|  |  |  |  |  |  |  |  |  |  |  |  |\\n| --- | --- | --- | --- | --- | --- | --- | --- | --- | --- | --- | --- |\\n|  | | | Three Months Ended | | | | | | | | |', metadata={'name': 'Alphabet Inc.', 'tickers': 'GOOGL, GOOG', 'exchanges': 'Nasdaq', 'form': '10-Q', 'filing_date': '2024-04-26', 'industry': 'Services-Computer Programming, Data Processing, Etc.', 'id': 37182.0}),\n",
       "  Document(page_content='| Operating lease assets | | | 14,091 | |  |  | | | 13,768 | |  |\\n| Goodwill | | | 29,198 | |  |  | | | 29,183 | |  |\\n| Other non-current assets | | | 10,051 | |  |  | | | 10,065 | |  |\\n| Total assets | | | $ | 402,392 |  |  | | | $ | 407,350 |  |\\n| Liabilities and Stockholders’ Equity | | |  | | |  | | |  | | |\\n| Current liabilities: | | |  | | |  | | |  | | |\\n| Accounts payable | | | $ | 7,493 |  |  | | | $ | 6,198 |  |\\n|  | | |  | | |  | | |  | | |\\n| Accrued compensation and benefits | | | 15,140 | |  |  | | | 9,703 | |  |\\n| Accrued expenses and other current liabilities | | | 46,168 | |  |  | | | 48,603 | |  |\\n| Accrued revenue share | | | 8,876 | |  |  | | | 8,520 | |  |\\n| Deferred revenue | | | 4,137 | |  |  | | | 3,973 | |  |\\n| Total current liabilities | | | 81,814 | |  |  | | | 76,997 | |  |\\n| Long-term debt | | | 13,253 | |  |  | | | 13,228 | |  |\\n| Deferred revenue, non-current | | | 911 | |  |  | | | 921 | |  |\\n| Income taxes payable, non-current | | | 8,474 | |  |  | | | 9,234 | |  |\\n| Deferred income taxes | | | 485 | |  |  | | | 486 | |  |\\n| Operating lease liabilities | | | 12,460 | |  |  | | | 11,957 | |  |\\n| Other long-term liabilities | | | 1,616 | |  |  | | | 1,683 | |  |\\n| Total liabilities | | | 119,013 | |  |  | | | 114,506 | |  |', metadata={'name': 'Alphabet Inc.', 'tickers': 'GOOGL, GOOG', 'exchanges': 'Nasdaq', 'form': '10-Q', 'filing_date': '2024-04-26', 'industry': 'Services-Computer Programming, Data Processing, Etc.', 'id': 36648.0}),\n",
       "  Document(page_content='securities, cash flows from operations and financing activities to continue to be sufficient to fund our operating activities and cash commitments for investing and financing activities for at least the next 12 months and thereafter for the foreseeable future. Capital Expenditures and LeasesWe make investments in land and buildings for data centers and offices and information technology assets through purchases of property and equipment and lease arrangements to provide capacity for the growth of our services and products. Capital ExpendituresOur capital investments in property and equipment consist primarily of the following major categories:•technical infrastructure, which consists of our investments in servers and network equipment for computing, storage, and networking requirements for ongoing business activities, including AI, (collectively referred to as our information technology assets) and data center land and building construction; and•office facilities, ground-up development projects, and building improvements (also referred to as \"fit-outs\").39', metadata={'name': 'Alphabet Inc.', 'tickers': 'GOOGL, GOOG', 'exchanges': 'Nasdaq', 'form': '10-Q', 'filing_date': '2024-04-26', 'industry': 'Services-Computer Programming, Data Processing, Etc.', 'id': 37308.0}),\n",
       "  Document(page_content='| United States | | | 47 | | % |  | | | 48 | | % |  | | |\\n| EMEA | | | 30 | | % |  | | | 30 | | % |  | | |\\n| APAC | | | 17 | | % |  | | | 16 | | % |  | | |\\n| Other Americas | | | 6 | | % |  | | | 6 | | % |  | | |\\n| Hedging gains (losses) | | | 0 | | % |  | | | 0 | | % |  | | |  \\nFor additional information, see Note 2 of the Notes to Consolidated Financial Statements included in Item 1 of this Quarterly Report on Form 10-Q.Use of Non-GAAP Constant Currency InformationInternational revenues, which represent a significant portion of our revenues, are generally transacted in multiple currencies and\\xa0therefore are affected by fluctuations in foreign currency exchange rates. The effect of currency exchange rates on our business is an important factor in understanding period-to-period comparisons. We use non-GAAP constant currency revenues (\"constant currency revenues\") and non-GAAP percentage change in constant currency revenues (\"percentage change in constant currency revenues\") for 34  \\n---', metadata={'name': 'Alphabet Inc.', 'tickers': 'GOOGL, GOOG', 'exchanges': 'Nasdaq', 'form': '10-Q', 'filing_date': '2024-04-26', 'industry': 'Services-Computer Programming, Data Processing, Etc.', 'id': 37206.0}),\n",
       "  Document(page_content='Paid clicks represent engagement by users and include clicks on advertisements by end-users on Google search properties and other Google owned and operated properties including Gmail, Google Maps, and Google Play. Cost-per-click is defined as click-driven revenues divided by our total number of paid clicks and represents the average amount we charge advertisers for each engagement by users. Impressions include impressions displayed to users on Google Network properties participating primarily in AdMob, AdSense, and Google Ad Manager. Cost-per-impression is defined as impression-based and click-based revenues divided by our total number of impressions, and represents the average amount we charge advertisers for each impression displayed to users. As our business evolves, we periodically review, refine, and update our methodologies for monitoring, gathering, and counting the number of paid clicks and the number of impressions, and for identifying the revenues generated by the corresponding click and impression activity. Fluctuations in our advertising revenues, as well as the change in paid clicks and cost-per-click on Google Search & other properties and the change in impressions and cost-per-impression on Google Network properties and the correlation between these items have been, and may continue to be, affected by factors in addition to the general factors described above, such as:•advertiser competition for keywords;•changes in advertising quality, formats, delivery or policy;•changes in device mix;•seasonal fluctuations in internet usage, advertising expenditures, and underlying business trends, such as traditional retail seasonality; and•traffic growth in emerging markets compared to more mature markets and across various verticals and channels. Google subscriptions, platforms, and devicesGoogle subscriptions, platforms, and devices revenues are comprised of the following:•consumer subscriptions, which primarily include revenues from YouTube services, such as YouTube TV, YouTube Music and Premium, and NFL Sunday Ticket, as well as Google One;•platforms, which primarily include revenues from Google Play from the sales of apps and in-app purchases;•devices, which primarily include sales of the Pixel family of devices; and•other products and services. Fluctuations in our Google subscriptions, platforms, and devices revenues have been, and may continue to be, affected by factors in addition to the general factors described above, such as changes in customer usage and demand, number of subscribers, and fluctuations in the timing of product', metadata={'name': 'Alphabet Inc.', 'tickers': 'GOOGL, GOOG', 'exchanges': 'Nasdaq', 'form': '10-Q', 'filing_date': '2024-04-26', 'industry': 'Services-Computer Programming, Data Processing, Etc.', 'id': 37140.0}),\n",
       "  Document(page_content='|  | | |  | | |  | | |  | | | March 31, | | | | | | | | |  | | |  | | |\\n| AOCI Components | | |  | | | Location | | |  | | | 2023 | | |  | | | 2024 | | |  | | |  | | |  | | |  | | |\\n| Unrealized gains (losses) on available-for-sale investments | | | | | | | | |  | | |  | | |  | | |  | | |  | | |  | | |  | | |  | | |\\n|  | | |  | | | Other income (expense), net | | |  | | | $ | (374) |  |  | | | $ | (399) |  |  | | |  | | |  | | |  | | |\\n|  | | |  | | | Benefit (provision) for income taxes | | |  | | | 82 | |  |  | | | 88 | |  |  | | |  | | |  | | |  | | |\\n|  | | |  | | | Net of income tax | | |  | | | (292) | |  |  | | | (311) | |  |  | | |  | | |  | | |  | | |\\n| Unrealized gains (losses) on cash flow hedges | | | | | | | | |  | | |  | | |  | | |  | | |  | | |  | | |  | | |  | | |\\n| Foreign exchange contracts | | |  | | | Revenue | | |  | | | 88 | |  |  | | | 74 | |  |  | | |  | | |  | | |  | | |\\n| Interest rate contracts | | |  | | | Other income (expense), net | | |  | | | 2 | |  |  | | | 1 | |  |  | | |  | | |  | | |  | | |\\n|  | | |  | | | Benefit (provision) for income taxes | | |  | | | (13) | |  |  | | | (4) | |  |  | | |  | | |  | | |  | | |\\n|  | | |  | | | Net of income tax | | |  | | | 77 | |  |  | | | 71 | |  |  | | |  | | |  | | |  | | |', metadata={'name': 'Alphabet Inc.', 'tickers': 'GOOGL, GOOG', 'exchanges': 'Nasdaq', 'form': '10-Q', 'filing_date': '2024-04-26', 'industry': 'Services-Computer Programming, Data Processing, Etc.', 'id': 36978.0}),\n",
       "  Document(page_content='|  | | | Gross Amounts Recognized | | |  | | | Gross Amounts Offset in the Consolidated Balance Sheets | | |  | | | Net Amounts Presented in the Consolidated Balance Sheets | | |  | | | Financial Instruments(1) | | |  | | | Cash and Non-Cash Collateral Received or Pledged | | |  | | | Net Amounts | | |\\n| Derivatives assets | | | $ | 535 |  |  | | | $ | (82) |  |  | | | $ | 453 |  |  | | | $ | (213) |  |  | | | $ | (75) |  |  | | | $ | 165 |  |\\n| Derivatives liabilities | | | $ | 527 |  |  | | | $ | (82) |  |  | | | $ | 445 |  |  | | | $ | (213) |  |  | | | $ | (16) |  |  | | | $ | 216 |  |  \\n18  \\n---  \\n|  |  |  |  |  |  |  |  |  |  |  |  |  |  |  |  |  |  |  |  |  |  |  |  |  |  |  |  |  |  |  |  |  |  |  |  |\\n| --- | --- | --- | --- | --- | --- | --- | --- | --- | --- | --- | --- | --- | --- | --- | --- | --- | --- | --- | --- | --- | --- | --- | --- | --- | --- | --- | --- | --- | --- | --- | --- | --- | --- | --- | --- |\\n|  | | | As of March 31, 2024 | | | | | | | | | | | | | | | | | | | | | | | | | | | | | | | | |\\n|  | | |  | | |  | | |  | | |  | | |  | | |  | | | Gross Amounts Not Offset in the Consolidated Balance Sheets, but Have Legal Rights to Offset | | | | | | | | |  | | |  | | |', metadata={'name': 'Alphabet Inc.', 'tickers': 'GOOGL, GOOG', 'exchanges': 'Nasdaq', 'form': '10-Q', 'filing_date': '2024-04-26', 'industry': 'Services-Computer Programming, Data Processing, Etc.', 'id': 36912.0}),\n",
       "  Document(page_content='ITEM 1A.RISK FACTORS\\xa0\\xa0\\xa0\\xa0\\xa0\\xa0\\xa0\\xa0\\xa0\\xa0\\xa0\\xa0\\xa0\\xa0\\xa0\\xa0Our operations and financial results are subject to various risks and uncertainties, including those described in Part I, Item 1A, \"Risk Factors\" in our Annual Report on Form 10-K for the year ended December 31, 2023, which could adversely affect our business, financial condition, results of operations, cash flows, and the trading price of our stock. Below are material changes to our risk factors since our Annual Report on Form 10-K for the year ended December 31, 2023.Risks Specific to our CompanyWe generate a significant portion of our revenues from advertising. Reduced spending by advertisers, a loss of partners, or new and existing technologies that block ads online and/or affect our ability to customize ads could harm our business. We generated more than 75% of total revenues from online advertising in 2023. Many of our advertisers, companies that distribute our products and services, digital publishers, and content providers can terminate their contracts with us at any time. These partners may not continue to do business with us if we do not create more value (such as increased numbers of users or customers, new sales leads, increased brand awareness, or more effective monetization) than their available alternatives. Changes to our advertising policies and data privacy practices, such as our initiatives to phase out third-party cookies (which remain subject to review, affecting the timing), as well as changes to other companies’ advertising and/or data privacy practices have in the past, and may in the future, affect the advertising that we are able to provide. In addition, technologies have been developed that make customized ads more difficult, or that block the display of ads altogether, and some providers of online services have integrated these technologies that could potentially impair the availability and functionality of third-party digital advertising. Failing to provide superior value or deliver advertisements effectively and competitively could harm our business, reputation, financial condition, and operating results. In addition, expenditures by advertisers tend to correlate with overall economic conditions. Adverse macroeconomic conditions have affected, and may in the future affect, the demand for advertising, resulting in fluctuations in the amounts our advertisers spend on advertising, which could harm our financial condition and operating results. Risks Related to Ownership of our Stock We cannot guarantee that any share repurchase program or dividend program will be continuously active or fully consummated', metadata={'name': 'Alphabet Inc.', 'tickers': 'GOOGL, GOOG', 'exchanges': 'Nasdaq', 'form': '10-Q', 'filing_date': '2024-04-26', 'industry': 'Services-Computer Programming, Data Processing, Etc.', 'id': 37356.0})]}"
      ]
     },
     "execution_count": 16,
     "metadata": {},
     "output_type": "execute_result"
    }
   ],
   "source": [
    "self_query_retrieval_chain.invoke({'question': \"what was alphabet's revenue?\"})"
   ]
  },
  {
   "cell_type": "code",
   "execution_count": 0,
   "metadata": {
    "application/vnd.databricks.v1+cell": {
     "cellMetadata": {
      "byteLimit": 2048000,
      "rowLimit": 10000
     },
     "inputWidgets": {},
     "nuid": "67c5a8e7-87b8-4d44-8b1f-4695dd217566",
     "showTitle": false,
     "title": ""
    }
   },
   "outputs": [
    {
     "output_type": "execute_result",
     "data": {
      "text/plain": [
       "{'response': AIMessage(content=\"I'm happy to help with questions about company news, stocks, and financial reports. However, I don't have real-time data access, so I can't provide the current revenue of Amazon. You can find this information in Amazon's latest financial report (10-K or 10-Q form).\", response_metadata={'prompt_tokens': 337, 'completion_tokens': 59, 'total_tokens': 396}, id='run-0c98e517-a9a2-47c4-b3ce-881bdebd4b8b-0'),\n",
       " 'context': []}"
      ]
     },
     "execution_count": 17,
     "metadata": {},
     "output_type": "execute_result"
    }
   ],
   "source": [
    "self_query_retrieval_chain.invoke({'question': \"what was amazon's revenue?\"})"
   ]
  },
  {
   "cell_type": "code",
   "execution_count": 0,
   "metadata": {
    "application/vnd.databricks.v1+cell": {
     "cellMetadata": {
      "byteLimit": 2048000,
      "rowLimit": 10000
     },
     "inputWidgets": {},
     "nuid": "83e253a1-6a16-472c-a6c1-9f2fcd88b744",
     "showTitle": false,
     "title": ""
    }
   },
   "outputs": [
    {
     "output_type": "execute_result",
     "data": {
      "text/plain": [
       "\"Amazon.com, Inc. (NASDAQ: AMZN) today announced financial results for its fourth quarter ended December 31, 2023. Fourth Quarter 2023 Net sales increased 14% to $170.0 billion in the fourth quarter, compared with $149.2 billion in fourth quarter 2022. Excluding the $1.3 billion favorable impact from year-over-year changes in foreign exchange rates throughout the quarter, net sales increased 13 ... The company had $143.3 billion in revenue in the first three months of the year, up 13 percent from a year earlier. Profit more than tripled, to $10.4 billion. The results beat analysts ... From 2004 to 2023, the net revenue of Amazon e-commerce and service sales has increased tremendously. In the last reported year, the multinational e-commerce company's net revenue was almost 576 ... The steadily increasing sales figures speak for themselves — Amazon hit nearly 575 billion U.S. dollars in net sales revenue worldwide in 2023. Due to its global scope and reach, Amazon is ... Amazon Revenue. Amazon had revenue of $590.74B in the twelve months ending March 31, 2024, with 12.54% growth year-over-year. Revenue in the quarter ending March 31, 2024 was $143.31B with 12.53% year-over-year growth. In the year 2023, Amazon had annual revenue of $574.79B with 11.83% growth. Revenue (ttm)\""
      ]
     },
     "execution_count": 10,
     "metadata": {},
     "output_type": "execute_result"
    }
   ],
   "source": [
    "search_tool.run(\"what was amazon's revenue?\")"
   ]
  },
  {
   "cell_type": "code",
   "execution_count": 0,
   "metadata": {
    "application/vnd.databricks.v1+cell": {
     "cellMetadata": {
      "byteLimit": 2048000,
      "rowLimit": 10000
     },
     "inputWidgets": {},
     "nuid": "1b504495-c0d6-48e8-b7fe-1b7c134de059",
     "showTitle": false,
     "title": ""
    }
   },
   "outputs": [],
   "source": [
    "tools = [search_tool]\n",
    "tool_executor = ToolExecutor(tools)\n",
    "functions = [convert_to_openai_function(t) for t in tools]\n",
    "\n",
    "model = AzureChatOpenAI(\n",
    "    api_version=dbutils.secrets.get(scope=\"development\", key=\"azure_openai_chat_deployment_version\"),\n",
    "    azure_deployment=dbutils.secrets.get(scope=\"development\", key=\"azure_openai_chat_deployment_name\"),\n",
    "    temperature=0,\n",
    "    streaming=True\n",
    ")\n",
    "model = model.bind_functions(functions)"
   ]
  },
  {
   "cell_type": "code",
   "execution_count": 0,
   "metadata": {
    "application/vnd.databricks.v1+cell": {
     "cellMetadata": {
      "byteLimit": 2048000,
      "rowLimit": 10000
     },
     "inputWidgets": {},
     "nuid": "7efd7431-8aaa-46eb-87aa-efa0a31be747",
     "showTitle": false,
     "title": ""
    }
   },
   "outputs": [],
   "source": [
    "class AgentState(TypedDict):\n",
    "  messages: Annotated[Sequence[BaseMessage], operator.add]\n",
    "\n",
    "def call_model(state):\n",
    "  messages = state[\"messages\"]\n",
    "  response = model.invoke(messages)\n",
    "  return {\"messages\" : [response]}\n",
    "\n",
    "def call_tool(state):\n",
    "  last_message = state[\"messages\"][-1]\n",
    "\n",
    "  action = ToolInvocation(\n",
    "      tool=last_message.additional_kwargs[\"function_call\"][\"name\"],\n",
    "      tool_input=json.loads(\n",
    "          last_message.additional_kwargs[\"function_call\"][\"arguments\"]\n",
    "      )\n",
    "  )\n",
    "\n",
    "  response = tool_executor.invoke(action)\n",
    "\n",
    "  function_message = FunctionMessage(content=str(response), name=action.tool)\n",
    "\n",
    "  return {\"messages\" : [function_message]}\n",
    "\n",
    "def should_continue(state):\n",
    "  last_message = state[\"messages\"][-1]\n",
    "\n",
    "  if \"function_call\" not in last_message.additional_kwargs:\n",
    "    return \"end\"\n",
    "\n",
    "  return \"continue\""
   ]
  },
  {
   "cell_type": "code",
   "execution_count": 0,
   "metadata": {
    "application/vnd.databricks.v1+cell": {
     "cellMetadata": {
      "byteLimit": 2048000,
      "rowLimit": 10000
     },
     "inputWidgets": {},
     "nuid": "04b26e7f-dde2-4005-a073-bf151d73267a",
     "showTitle": false,
     "title": ""
    }
   },
   "outputs": [],
   "source": [
    "workflow = StateGraph(AgentState)\n",
    "\n",
    "workflow.add_node(\"agent\", call_model)\n",
    "workflow.add_node(\"action\", call_tool)\n",
    "workflow.set_entry_point(\"agent\")\n",
    "\n",
    "workflow.add_conditional_edges(\n",
    "    \"agent\",\n",
    "    should_continue,\n",
    "    {\n",
    "        \"continue\" : \"action\",\n",
    "        \"end\" : END\n",
    "    }\n",
    ")\n",
    "\n",
    "workflow.add_edge(\"action\", \"agent\")"
   ]
  },
  {
   "cell_type": "code",
   "execution_count": 0,
   "metadata": {
    "application/vnd.databricks.v1+cell": {
     "cellMetadata": {
      "byteLimit": 2048000,
      "rowLimit": 10000
     },
     "inputWidgets": {},
     "nuid": "bf61d688-0782-4096-90e6-338c7f58f279",
     "showTitle": false,
     "title": ""
    }
   },
   "outputs": [],
   "source": [
    "app = workflow.compile()"
   ]
  },
  {
   "cell_type": "code",
   "execution_count": 0,
   "metadata": {
    "application/vnd.databricks.v1+cell": {
     "cellMetadata": {
      "byteLimit": 2048000,
      "rowLimit": 10000
     },
     "inputWidgets": {},
     "nuid": "ba405027-0fbd-4738-adb7-41a3e42efc02",
     "showTitle": false,
     "title": ""
    }
   },
   "outputs": [
    {
     "output_type": "execute_result",
     "data": {
      "text/plain": [
       "{'messages': [HumanMessage(content=\"what was apples's revenue in the most recent quarter?\"),\n",
       "  AIMessage(content=\"As of my last update in April 2023, I can't provide real-time data or updates. To find Apple's most recent quarterly revenue, I recommend checking the latest financial reports on Apple's investor relations page or using financial news websites like Bloomberg, Reuters, or CNBC. These sources frequently update with the latest earnings reports from major companies like Apple.\", response_metadata={'finish_reason': 'stop'}, id='run-b7b057e1-000a-472f-96e7-d4c240479465-0')]}"
      ]
     },
     "execution_count": 66,
     "metadata": {},
     "output_type": "execute_result"
    }
   ],
   "source": [
    "question = \"what was apples's revenue in the most recent quarter?\"\n",
    "\n",
    "inputs = {\"messages\" : [HumanMessage(content=question)]}\n",
    "\n",
    "app.invoke(inputs)"
   ]
  },
  {
   "cell_type": "code",
   "execution_count": 0,
   "metadata": {
    "application/vnd.databricks.v1+cell": {
     "cellMetadata": {
      "byteLimit": 2048000,
      "rowLimit": 10000
     },
     "inputWidgets": {},
     "nuid": "928af684-b4bf-47aa-9e61-2aaddbe80d66",
     "showTitle": false,
     "title": ""
    }
   },
   "outputs": [],
   "source": [
    "def convert_state_to_query(state_object):\n",
    "  return {\"question\" : state_object[\"messages\"][-1].content}\n",
    "\n",
    "def convert_response_to_state(response):\n",
    "  return {\"messages\" : [response[\"response\"]]}\n",
    "\n",
    "langgraph_node_rag_chain = convert_state_to_query | self_query_retrieval_chain | convert_response_to_state"
   ]
  },
  {
   "cell_type": "code",
   "execution_count": 0,
   "metadata": {
    "application/vnd.databricks.v1+cell": {
     "cellMetadata": {
      "byteLimit": 2048000,
      "rowLimit": 10000
     },
     "inputWidgets": {},
     "nuid": "c22e75a8-fbdf-42c5-a83e-994784bb7a4f",
     "showTitle": false,
     "title": ""
    }
   },
   "outputs": [],
   "source": [
    "rag_agent = StateGraph(AgentState)\n",
    "\n",
    "rag_agent.add_node(\"agent\", call_model)\n",
    "rag_agent.add_node(\"action\", call_tool)\n",
    "rag_agent.add_node(\"first_action\", langgraph_node_rag_chain)\n",
    "rag_agent.set_entry_point(\"first_action\")"
   ]
  },
  {
   "cell_type": "code",
   "execution_count": 0,
   "metadata": {
    "application/vnd.databricks.v1+cell": {
     "cellMetadata": {
      "byteLimit": 2048000,
      "rowLimit": 10000
     },
     "inputWidgets": {},
     "nuid": "db92bba2-ecac-436e-bb00-28f253bb72b4",
     "showTitle": false,
     "title": ""
    }
   },
   "outputs": [],
   "source": [
    "def is_fully_answered(state):\n",
    "\n",
    "    ### Extract the question and response from our RAG pipeline\n",
    "    question = state[\"messages\"][0].content\n",
    "    answer = state[\"messages\"][-1].content\n",
    "\n",
    "    ### Create a Pydantic model to capture our LLMs response\n",
    "    class answered(BaseModel):\n",
    "        binary_score: str = Field(description=\"Fully answered: 'yes' or 'no'\")\n",
    "\n",
    "    ### Create and bind our tool to our model\n",
    "    answered_tool = convert_to_openai_tool(answered)\n",
    "    model = AzureChatOpenAI(\n",
    "        api_version=dbutils.secrets.get(scope=\"development\", key=\"azure_openai_chat_deployment_version\"),\n",
    "        azure_deployment=dbutils.secrets.get(scope=\"development\", key=\"azure_openai_chat_deployment_name\"),\n",
    "        temperature=0,\n",
    "    )\n",
    "    model = model.bind(\n",
    "        tools=[answered_tool],\n",
    "        tool_choice={\"type\" : \"function\", \"function\" : {\"name\" : \"answered\"}}\n",
    "    )\n",
    "\n",
    "    ### We'll want to parse the output into a usable format\n",
    "    parser_tool = PydanticToolsParser(tools=[answered])\n",
    "\n",
    "    prompt = PromptTemplate(\n",
    "        template=\"\"\"You will determine if the question is fully answered by the response.\\n\n",
    "        Question:\n",
    "        {question}\n",
    "\n",
    "        Response:\n",
    "        {answer}\n",
    "\n",
    "        You will respond with either 'yes' or 'no'.\"\"\",\n",
    "        input_variables=[\"question\", \"answer\"])\n",
    "\n",
    "    ### Classic LCEL chain!\n",
    "    fully_answered_chain = prompt | model | parser_tool\n",
    "\n",
    "    response = fully_answered_chain.invoke({\"question\" : question, \"answer\" : answer})\n",
    "\n",
    "    if response[0].binary_score == \"no\":\n",
    "        return \"continue\"\n",
    "\n",
    "    return \"end\""
   ]
  },
  {
   "cell_type": "code",
   "execution_count": 0,
   "metadata": {
    "application/vnd.databricks.v1+cell": {
     "cellMetadata": {
      "byteLimit": 2048000,
      "rowLimit": 10000
     },
     "inputWidgets": {},
     "nuid": "56172693-dd04-4c98-8491-5dd64f7c8edb",
     "showTitle": false,
     "title": ""
    }
   },
   "outputs": [],
   "source": [
    "rag_agent.add_conditional_edges(\n",
    "    \"first_action\",\n",
    "    is_fully_answered,\n",
    "    {\n",
    "        \"continue\" : \"agent\",\n",
    "        \"end\" : END\n",
    "    }\n",
    ")\n",
    "\n",
    "rag_agent.add_conditional_edges(\n",
    "    \"agent\",\n",
    "    should_continue,\n",
    "    {\n",
    "        \"continue\" : \"action\",\n",
    "        \"end\" : END\n",
    "    }\n",
    ")\n",
    "\n",
    "rag_agent.add_edge(\"action\", \"agent\")\n",
    "rag_agent_app = rag_agent.compile()"
   ]
  },
  {
   "cell_type": "code",
   "execution_count": 0,
   "metadata": {
    "application/vnd.databricks.v1+cell": {
     "cellMetadata": {
      "byteLimit": 2048000,
      "rowLimit": 10000
     },
     "inputWidgets": {},
     "nuid": "fe8720a9-d689-4688-88bd-cc29449195e2",
     "showTitle": false,
     "title": ""
    }
   },
   "outputs": [
    {
     "output_type": "execute_result",
     "data": {
      "text/plain": [
       "{'messages': [HumanMessage(content=\"what was amazon's revenue?\"),\n",
       "  AIMessage(content=\"I'm happy to help with questions about company news, stocks, and financial reports. However, I don't have real-time data access, so I can't provide the current revenue of Amazon. You can find this information in Amazon's latest financial report (10-K or 10-Q form).\", response_metadata={'prompt_tokens': 337, 'completion_tokens': 59, 'total_tokens': 396}, id='run-2b4b44a0-8e4d-4c96-b738-721f5b99518f-0'),\n",
       "  AIMessage(content='', additional_kwargs={'function_call': {'arguments': '{\"query\":\"Amazon revenue 2022\"}', 'name': 'duckduckgo_search'}}, response_metadata={'finish_reason': 'function_call'}, id='run-a2904fb1-8820-4313-838c-8fec77068cdb-0'),\n",
       "  FunctionMessage(content=\"In 2022, Amazon's annual revenue peaked with nearly 514 billion U.S. dollars, up from 470 billion U.S. dollars in 2021. On February 1, 2024, Amazon.com Inc ( NASDAQ:AMZN) released its impressive fourth-quarter earnings, showcasing significant growth and financial strength. The company's 8-K filing revealed a 14% ... Amazon.com, Inc. (NASDAQ: AMZN) today announced financial results for its fourth quarter ended December 31, 2023. Fourth Quarter 2023 Net sales increased 14% to $170.0 billion in the fourth quarter, compared with $149.2 billion in fourth quarter 2022. Excluding the $1.3 billion favorable impact from year-over-year changes in foreign exchange rates throughout the quarter, net sales increased 13 ... Annual net sales revenue of Amazon from 2004 to 2023 (in billion U.S. dollars) ... Sales distribution of selected product categories on Amazon in 2022 and 2027. Amazon Revenue. Amazon had revenue of $590.74B in the twelve months ending March 31, 2024, with 12.54% growth year-over-year. Revenue in the quarter ending March 31, 2024 was $143.31B with 12.53% year-over-year growth. In the year 2023, Amazon had annual revenue of $574.79B with 11.83% growth. Revenue (ttm)\", name='duckduckgo_search'),\n",
       "  AIMessage(content=\"In 2022, Amazon's annual revenue was nearly $514 billion, up from $470 billion in 2021. For the year 2023, Amazon reported an annual revenue of $574.79 billion, marking an 11.83% growth. Additionally, in the twelve months ending March 31, 2024, Amazon had revenue of $590.74 billion, with a 12.54% growth year-over-year.\", response_metadata={'finish_reason': 'stop'}, id='run-91f1ef48-4442-4171-b021-b73d14f494ea-0')]}"
      ]
     },
     "execution_count": 15,
     "metadata": {},
     "output_type": "execute_result"
    }
   ],
   "source": [
    "question = \"what was amazon's revenue?\"\n",
    "\n",
    "inputs = {\"messages\" : [HumanMessage(content=question)]}\n",
    "\n",
    "rag_agent_app.invoke(inputs)"
   ]
  }
 ],
 "metadata": {
  "application/vnd.databricks.v1+notebook": {
   "dashboards": [],
   "language": "python",
   "notebookMetadata": {
    "pythonIndentUnit": 4
   },
   "notebookName": "04-agentic-self-query-rag",
   "widgets": {}
  }
 },
 "nbformat": 4,
 "nbformat_minor": 0
}
