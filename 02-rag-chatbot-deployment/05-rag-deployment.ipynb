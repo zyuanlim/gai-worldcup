{
 "cells": [
  {
   "cell_type": "code",
   "execution_count": 0,
   "metadata": {
    "application/vnd.databricks.v1+cell": {
     "cellMetadata": {
      "byteLimit": 2048000,
      "rowLimit": 10000
     },
     "inputWidgets": {},
     "nuid": "2dabba2e-9c2a-43d8-817c-574a1ff4efdd",
     "showTitle": false,
     "title": ""
    }
   },
   "outputs": [
    {
     "output_type": "stream",
     "name": "stdout",
     "output_type": "stream",
     "text": [
      "\u001B[43mNote: you may need to restart the kernel using dbutils.library.restartPython() to use updated packages.\u001B[0m\nRequirement already satisfied: langchain==0.1.17 in /local_disk0/.ephemeral_nfs/envs/pythonEnv-379dfd55-fa3a-4e4b-8d6d-abb8762e3c4f/lib/python3.11/site-packages (0.1.17)\nRequirement already satisfied: langchain-openai==0.1.6 in /local_disk0/.ephemeral_nfs/envs/pythonEnv-379dfd55-fa3a-4e4b-8d6d-abb8762e3c4f/lib/python3.11/site-packages (0.1.6)\nRequirement already satisfied: langgraph==0.0.40 in /local_disk0/.ephemeral_nfs/envs/pythonEnv-379dfd55-fa3a-4e4b-8d6d-abb8762e3c4f/lib/python3.11/site-packages (0.0.40)\nRequirement already satisfied: databricks-vectorsearch==0.33 in /local_disk0/.ephemeral_nfs/envs/pythonEnv-379dfd55-fa3a-4e4b-8d6d-abb8762e3c4f/lib/python3.11/site-packages (0.33)\nRequirement already satisfied: lark==1.1.9 in /local_disk0/.ephemeral_nfs/envs/pythonEnv-379dfd55-fa3a-4e4b-8d6d-abb8762e3c4f/lib/python3.11/site-packages (1.1.9)\nRequirement already satisfied: duckduckgo-search==5.3.0 in /local_disk0/.ephemeral_nfs/envs/pythonEnv-379dfd55-fa3a-4e4b-8d6d-abb8762e3c4f/lib/python3.11/site-packages (5.3.0)\nRequirement already satisfied: gradio==4.29.0 in /local_disk0/.ephemeral_nfs/envs/pythonEnv-379dfd55-fa3a-4e4b-8d6d-abb8762e3c4f/lib/python3.11/site-packages (4.29.0)\nRequirement already satisfied: PyYAML>=5.3 in /databricks/python3/lib/python3.11/site-packages (from langchain==0.1.17) (6.0)\nRequirement already satisfied: SQLAlchemy<3,>=1.4 in /local_disk0/.ephemeral_nfs/envs/pythonEnv-379dfd55-fa3a-4e4b-8d6d-abb8762e3c4f/lib/python3.11/site-packages (from langchain==0.1.17) (2.0.30)\nRequirement already satisfied: aiohttp<4.0.0,>=3.8.3 in /local_disk0/.ephemeral_nfs/envs/pythonEnv-379dfd55-fa3a-4e4b-8d6d-abb8762e3c4f/lib/python3.11/site-packages (from langchain==0.1.17) (3.9.5)\nRequirement already satisfied: dataclasses-json<0.7,>=0.5.7 in /local_disk0/.ephemeral_nfs/envs/pythonEnv-379dfd55-fa3a-4e4b-8d6d-abb8762e3c4f/lib/python3.11/site-packages (from langchain==0.1.17) (0.6.5)\nRequirement already satisfied: jsonpatch<2.0,>=1.33 in /local_disk0/.ephemeral_nfs/envs/pythonEnv-379dfd55-fa3a-4e4b-8d6d-abb8762e3c4f/lib/python3.11/site-packages (from langchain==0.1.17) (1.33)\nRequirement already satisfied: langchain-community<0.1,>=0.0.36 in /local_disk0/.ephemeral_nfs/envs/pythonEnv-379dfd55-fa3a-4e4b-8d6d-abb8762e3c4f/lib/python3.11/site-packages (from langchain==0.1.17) (0.0.36)\nRequirement already satisfied: langchain-core<0.2.0,>=0.1.48 in /local_disk0/.ephemeral_nfs/envs/pythonEnv-379dfd55-fa3a-4e4b-8d6d-abb8762e3c4f/lib/python3.11/site-packages (from langchain==0.1.17) (0.1.50)\nRequirement already satisfied: langchain-text-splitters<0.1,>=0.0.1 in /local_disk0/.ephemeral_nfs/envs/pythonEnv-379dfd55-fa3a-4e4b-8d6d-abb8762e3c4f/lib/python3.11/site-packages (from langchain==0.1.17) (0.0.1)\nRequirement already satisfied: langsmith<0.2.0,>=0.1.17 in /local_disk0/.ephemeral_nfs/envs/pythonEnv-379dfd55-fa3a-4e4b-8d6d-abb8762e3c4f/lib/python3.11/site-packages (from langchain==0.1.17) (0.1.54)\nRequirement already satisfied: numpy<2,>=1 in /databricks/python3/lib/python3.11/site-packages (from langchain==0.1.17) (1.23.5)\nRequirement already satisfied: pydantic<3,>=1 in /local_disk0/.ephemeral_nfs/envs/pythonEnv-379dfd55-fa3a-4e4b-8d6d-abb8762e3c4f/lib/python3.11/site-packages (from langchain==0.1.17) (2.7.1)\nRequirement already satisfied: requests<3,>=2 in /databricks/python3/lib/python3.11/site-packages (from langchain==0.1.17) (2.31.0)\nRequirement already satisfied: tenacity<9.0.0,>=8.1.0 in /databricks/python3/lib/python3.11/site-packages (from langchain==0.1.17) (8.2.2)\nRequirement already satisfied: openai<2.0.0,>=1.24.0 in /local_disk0/.ephemeral_nfs/envs/pythonEnv-379dfd55-fa3a-4e4b-8d6d-abb8762e3c4f/lib/python3.11/site-packages (from langchain-openai==0.1.6) (1.25.2)\nRequirement already satisfied: tiktoken<1,>=0.5.2 in /local_disk0/.ephemeral_nfs/envs/pythonEnv-379dfd55-fa3a-4e4b-8d6d-abb8762e3c4f/lib/python3.11/site-packages (from langchain-openai==0.1.6) (0.6.0)\nRequirement already satisfied: mlflow-skinny<3,>=2.11.3 in /local_disk0/.ephemeral_nfs/envs/pythonEnv-379dfd55-fa3a-4e4b-8d6d-abb8762e3c4f/lib/python3.11/site-packages (from databricks-vectorsearch==0.33) (2.12.1)\nRequirement already satisfied: protobuf<5,>=3.12.0 in /databricks/python3/lib/python3.11/site-packages (from databricks-vectorsearch==0.33) (4.24.1)\nRequirement already satisfied: click>=8.1.7 in /local_disk0/.ephemeral_nfs/envs/pythonEnv-379dfd55-fa3a-4e4b-8d6d-abb8762e3c4f/lib/python3.11/site-packages (from duckduckgo-search==5.3.0) (8.1.7)\nRequirement already satisfied: curl-cffi>=0.6.2 in /local_disk0/.ephemeral_nfs/envs/pythonEnv-379dfd55-fa3a-4e4b-8d6d-abb8762e3c4f/lib/python3.11/site-packages (from duckduckgo-search==5.3.0) (0.6.3)\nRequirement already satisfied: orjson>=3.10.0 in /local_disk0/.ephemeral_nfs/envs/pythonEnv-379dfd55-fa3a-4e4b-8d6d-abb8762e3c4f/lib/python3.11/site-packages (from duckduckgo-search==5.3.0) (3.10.3)\nRequirement already satisfied: aiofiles<24.0,>=22.0 in /local_disk0/.ephemeral_nfs/envs/pythonEnv-379dfd55-fa3a-4e4b-8d6d-abb8762e3c4f/lib/python3.11/site-packages (from gradio==4.29.0) (23.2.1)\nRequirement already satisfied: altair<6.0,>=4.2.0 in /local_disk0/.ephemeral_nfs/envs/pythonEnv-379dfd55-fa3a-4e4b-8d6d-abb8762e3c4f/lib/python3.11/site-packages (from gradio==4.29.0) (5.3.0)\nRequirement already satisfied: fastapi in /local_disk0/.ephemeral_nfs/envs/pythonEnv-379dfd55-fa3a-4e4b-8d6d-abb8762e3c4f/lib/python3.11/site-packages (from gradio==4.29.0) (0.111.0)\nRequirement already satisfied: ffmpy in /local_disk0/.ephemeral_nfs/envs/pythonEnv-379dfd55-fa3a-4e4b-8d6d-abb8762e3c4f/lib/python3.11/site-packages (from gradio==4.29.0) (0.3.2)\nRequirement already satisfied: gradio-client==0.16.1 in /local_disk0/.ephemeral_nfs/envs/pythonEnv-379dfd55-fa3a-4e4b-8d6d-abb8762e3c4f/lib/python3.11/site-packages (from gradio==4.29.0) (0.16.1)\nRequirement already satisfied: httpx>=0.24.1 in /local_disk0/.ephemeral_nfs/envs/pythonEnv-379dfd55-fa3a-4e4b-8d6d-abb8762e3c4f/lib/python3.11/site-packages (from gradio==4.29.0) (0.27.0)\nRequirement already satisfied: huggingface-hub>=0.19.3 in /local_disk0/.ephemeral_nfs/envs/pythonEnv-379dfd55-fa3a-4e4b-8d6d-abb8762e3c4f/lib/python3.11/site-packages (from gradio==4.29.0) (0.23.0)\nRequirement already satisfied: importlib-resources<7.0,>=1.3 in /local_disk0/.ephemeral_nfs/envs/pythonEnv-379dfd55-fa3a-4e4b-8d6d-abb8762e3c4f/lib/python3.11/site-packages (from gradio==4.29.0) (6.4.0)\nRequirement already satisfied: jinja2<4.0 in /local_disk0/.ephemeral_nfs/envs/pythonEnv-379dfd55-fa3a-4e4b-8d6d-abb8762e3c4f/lib/python3.11/site-packages (from gradio==4.29.0) (3.1.4)\nRequirement already satisfied: markupsafe~=2.0 in /local_disk0/.ephemeral_nfs/envs/pythonEnv-379dfd55-fa3a-4e4b-8d6d-abb8762e3c4f/lib/python3.11/site-packages (from gradio==4.29.0) (2.1.5)\nRequirement already satisfied: matplotlib~=3.0 in /databricks/python3/lib/python3.11/site-packages (from gradio==4.29.0) (3.7.2)\nRequirement already satisfied: packaging in /databricks/python3/lib/python3.11/site-packages (from gradio==4.29.0) (23.2)\nRequirement already satisfied: pandas<3.0,>=1.0 in /databricks/python3/lib/python3.11/site-packages (from gradio==4.29.0) (2.0.3)\nRequirement already satisfied: pillow<11.0,>=8.0 in /databricks/python3/lib/python3.11/site-packages (from gradio==4.29.0) (9.4.0)\nRequirement already satisfied: pydub in /local_disk0/.ephemeral_nfs/envs/pythonEnv-379dfd55-fa3a-4e4b-8d6d-abb8762e3c4f/lib/python3.11/site-packages (from gradio==4.29.0) (0.25.1)\nRequirement already satisfied: python-multipart>=0.0.9 in /local_disk0/.ephemeral_nfs/envs/pythonEnv-379dfd55-fa3a-4e4b-8d6d-abb8762e3c4f/lib/python3.11/site-packages (from gradio==4.29.0) (0.0.9)\nRequirement already satisfied: ruff>=0.2.2 in /local_disk0/.ephemeral_nfs/envs/pythonEnv-379dfd55-fa3a-4e4b-8d6d-abb8762e3c4f/lib/python3.11/site-packages (from gradio==4.29.0) (0.4.3)\nRequirement already satisfied: semantic-version~=2.0 in /local_disk0/.ephemeral_nfs/envs/pythonEnv-379dfd55-fa3a-4e4b-8d6d-abb8762e3c4f/lib/python3.11/site-packages (from gradio==4.29.0) (2.10.0)\nRequirement already satisfied: tomlkit==0.12.0 in /local_disk0/.ephemeral_nfs/envs/pythonEnv-379dfd55-fa3a-4e4b-8d6d-abb8762e3c4f/lib/python3.11/site-packages (from gradio==4.29.0) (0.12.0)\nRequirement already satisfied: typer<1.0,>=0.12 in /local_disk0/.ephemeral_nfs/envs/pythonEnv-379dfd55-fa3a-4e4b-8d6d-abb8762e3c4f/lib/python3.11/site-packages (from gradio==4.29.0) (0.12.3)\nRequirement already satisfied: typing-extensions~=4.0 in /local_disk0/.ephemeral_nfs/envs/pythonEnv-379dfd55-fa3a-4e4b-8d6d-abb8762e3c4f/lib/python3.11/site-packages (from gradio==4.29.0) (4.11.0)\nRequirement already satisfied: urllib3~=2.0 in /local_disk0/.ephemeral_nfs/envs/pythonEnv-379dfd55-fa3a-4e4b-8d6d-abb8762e3c4f/lib/python3.11/site-packages (from gradio==4.29.0) (2.2.1)\nRequirement already satisfied: uvicorn>=0.14.0 in /local_disk0/.ephemeral_nfs/envs/pythonEnv-379dfd55-fa3a-4e4b-8d6d-abb8762e3c4f/lib/python3.11/site-packages (from gradio==4.29.0) (0.29.0)\nRequirement already satisfied: fsspec in /local_disk0/.ephemeral_nfs/envs/pythonEnv-379dfd55-fa3a-4e4b-8d6d-abb8762e3c4f/lib/python3.11/site-packages (from gradio-client==0.16.1->gradio==4.29.0) (2024.3.1)\nRequirement already satisfied: websockets<12.0,>=10.0 in /local_disk0/.ephemeral_nfs/envs/pythonEnv-379dfd55-fa3a-4e4b-8d6d-abb8762e3c4f/lib/python3.11/site-packages (from gradio-client==0.16.1->gradio==4.29.0) (11.0.3)\nRequirement already satisfied: aiosignal>=1.1.2 in /local_disk0/.ephemeral_nfs/envs/pythonEnv-379dfd55-fa3a-4e4b-8d6d-abb8762e3c4f/lib/python3.11/site-packages (from aiohttp<4.0.0,>=3.8.3->langchain==0.1.17) (1.3.1)\nRequirement already satisfied: attrs>=17.3.0 in /local_disk0/.ephemeral_nfs/envs/pythonEnv-379dfd55-fa3a-4e4b-8d6d-abb8762e3c4f/lib/python3.11/site-packages (from aiohttp<4.0.0,>=3.8.3->langchain==0.1.17) (23.2.0)\nRequirement already satisfied: frozenlist>=1.1.1 in /local_disk0/.ephemeral_nfs/envs/pythonEnv-379dfd55-fa3a-4e4b-8d6d-abb8762e3c4f/lib/python3.11/site-packages (from aiohttp<4.0.0,>=3.8.3->langchain==0.1.17) (1.4.1)\nRequirement already satisfied: multidict<7.0,>=4.5 in /local_disk0/.ephemeral_nfs/envs/pythonEnv-379dfd55-fa3a-4e4b-8d6d-abb8762e3c4f/lib/python3.11/site-packages (from aiohttp<4.0.0,>=3.8.3->langchain==0.1.17) (6.0.5)\nRequirement already satisfied: yarl<2.0,>=1.0 in /local_disk0/.ephemeral_nfs/envs/pythonEnv-379dfd55-fa3a-4e4b-8d6d-abb8762e3c4f/lib/python3.11/site-packages (from aiohttp<4.0.0,>=3.8.3->langchain==0.1.17) (1.9.4)\nRequirement already satisfied: jsonschema>=3.0 in /local_disk0/.ephemeral_nfs/envs/pythonEnv-379dfd55-fa3a-4e4b-8d6d-abb8762e3c4f/lib/python3.11/site-packages (from altair<6.0,>=4.2.0->gradio==4.29.0) (4.22.0)\nRequirement already satisfied: toolz in /local_disk0/.ephemeral_nfs/envs/pythonEnv-379dfd55-fa3a-4e4b-8d6d-abb8762e3c4f/lib/python3.11/site-packages (from altair<6.0,>=4.2.0->gradio==4.29.0) (0.12.1)\nRequirement already satisfied: cffi>=1.12.0 in /databricks/python3/lib/python3.11/site-packages (from curl-cffi>=0.6.2->duckduckgo-search==5.3.0) (1.15.1)\nRequirement already satisfied: certifi>=2024.2.2 in /local_disk0/.ephemeral_nfs/envs/pythonEnv-379dfd55-fa3a-4e4b-8d6d-abb8762e3c4f/lib/python3.11/site-packages (from curl-cffi>=0.6.2->duckduckgo-search==5.3.0) (2024.2.2)\nRequirement already satisfied: marshmallow<4.0.0,>=3.18.0 in /local_disk0/.ephemeral_nfs/envs/pythonEnv-379dfd55-fa3a-4e4b-8d6d-abb8762e3c4f/lib/python3.11/site-packages (from dataclasses-json<0.7,>=0.5.7->langchain==0.1.17) (3.21.2)\nRequirement already satisfied: typing-inspect<1,>=0.4.0 in /local_disk0/.ephemeral_nfs/envs/pythonEnv-379dfd55-fa3a-4e4b-8d6d-abb8762e3c4f/lib/python3.11/site-packages (from dataclasses-json<0.7,>=0.5.7->langchain==0.1.17) (0.9.0)\nRequirement already satisfied: anyio in /local_disk0/.ephemeral_nfs/envs/pythonEnv-379dfd55-fa3a-4e4b-8d6d-abb8762e3c4f/lib/python3.11/site-packages (from httpx>=0.24.1->gradio==4.29.0) (4.3.0)\nRequirement already satisfied: httpcore==1.* in /local_disk0/.ephemeral_nfs/envs/pythonEnv-379dfd55-fa3a-4e4b-8d6d-abb8762e3c4f/lib/python3.11/site-packages (from httpx>=0.24.1->gradio==4.29.0) (1.0.5)\nRequirement already satisfied: idna in /databricks/python3/lib/python3.11/site-packages (from httpx>=0.24.1->gradio==4.29.0) (3.4)\nRequirement already satisfied: sniffio in /local_disk0/.ephemeral_nfs/envs/pythonEnv-379dfd55-fa3a-4e4b-8d6d-abb8762e3c4f/lib/python3.11/site-packages (from httpx>=0.24.1->gradio==4.29.0) (1.3.1)\nRequirement already satisfied: h11<0.15,>=0.13 in /local_disk0/.ephemeral_nfs/envs/pythonEnv-379dfd55-fa3a-4e4b-8d6d-abb8762e3c4f/lib/python3.11/site-packages (from httpcore==1.*->httpx>=0.24.1->gradio==4.29.0) (0.14.0)\nRequirement already satisfied: filelock in /usr/local/lib/python3.11/dist-packages (from huggingface-hub>=0.19.3->gradio==4.29.0) (3.13.1)\nRequirement already satisfied: tqdm>=4.42.1 in /local_disk0/.ephemeral_nfs/envs/pythonEnv-379dfd55-fa3a-4e4b-8d6d-abb8762e3c4f/lib/python3.11/site-packages (from huggingface-hub>=0.19.3->gradio==4.29.0) (4.66.4)\nRequirement already satisfied: jsonpointer>=1.9 in /local_disk0/.ephemeral_nfs/envs/pythonEnv-379dfd55-fa3a-4e4b-8d6d-abb8762e3c4f/lib/python3.11/site-packages (from jsonpatch<2.0,>=1.33->langchain==0.1.17) (2.4)\nRequirement already satisfied: contourpy>=1.0.1 in /databricks/python3/lib/python3.11/site-packages (from matplotlib~=3.0->gradio==4.29.0) (1.0.5)\nRequirement already satisfied: cycler>=0.10 in /databricks/python3/lib/python3.11/site-packages (from matplotlib~=3.0->gradio==4.29.0) (0.11.0)\nRequirement already satisfied: fonttools>=4.22.0 in /databricks/python3/lib/python3.11/site-packages (from matplotlib~=3.0->gradio==4.29.0) (4.25.0)\nRequirement already satisfied: kiwisolver>=1.0.1 in /databricks/python3/lib/python3.11/site-packages (from matplotlib~=3.0->gradio==4.29.0) (1.4.4)\nRequirement already satisfied: pyparsing<3.1,>=2.3.1 in /databricks/python3/lib/python3.11/site-packages (from matplotlib~=3.0->gradio==4.29.0) (3.0.9)\nRequirement already satisfied: python-dateutil>=2.7 in /databricks/python3/lib/python3.11/site-packages (from matplotlib~=3.0->gradio==4.29.0) (2.8.2)\nRequirement already satisfied: cloudpickle<4 in /databricks/python3/lib/python3.11/site-packages (from mlflow-skinny<3,>=2.11.3->databricks-vectorsearch==0.33) (2.2.1)\nRequirement already satisfied: entrypoints<1 in /databricks/python3/lib/python3.11/site-packages (from mlflow-skinny<3,>=2.11.3->databricks-vectorsearch==0.33) (0.4)\nRequirement already satisfied: gitpython<4,>=3.1.9 in /databricks/python3/lib/python3.11/site-packages (from mlflow-skinny<3,>=2.11.3->databricks-vectorsearch==0.33) (3.1.42)\nRequirement already satisfied: importlib-metadata!=4.7.0,<8,>=3.7.0 in /databricks/python3/lib/python3.11/site-packages (from mlflow-skinny<3,>=2.11.3->databricks-vectorsearch==0.33) (6.0.0)\nRequirement already satisfied: pytz<2025 in /databricks/python3/lib/python3.11/site-packages (from mlflow-skinny<3,>=2.11.3->databricks-vectorsearch==0.33) (2022.7)\nRequirement already satisfied: sqlparse<1,>=0.4.0 in /databricks/python3/lib/python3.11/site-packages (from mlflow-skinny<3,>=2.11.3->databricks-vectorsearch==0.33) (0.4.4)\nRequirement already satisfied: distro<2,>=1.7.0 in /usr/lib/python3/dist-packages (from openai<2.0.0,>=1.24.0->langchain-openai==0.1.6) (1.7.0)\nRequirement already satisfied: tzdata>=2022.1 in /databricks/python3/lib/python3.11/site-packages (from pandas<3.0,>=1.0->gradio==4.29.0) (2022.1)\nRequirement already satisfied: annotated-types>=0.4.0 in /local_disk0/.ephemeral_nfs/envs/pythonEnv-379dfd55-fa3a-4e4b-8d6d-abb8762e3c4f/lib/python3.11/site-packages (from pydantic<3,>=1->langchain==0.1.17) (0.6.0)\nRequirement already satisfied: pydantic-core==2.18.2 in /local_disk0/.ephemeral_nfs/envs/pythonEnv-379dfd55-fa3a-4e4b-8d6d-abb8762e3c4f/lib/python3.11/site-packages (from pydantic<3,>=1->langchain==0.1.17) (2.18.2)\nRequirement already satisfied: charset-normalizer<4,>=2 in /databricks/python3/lib/python3.11/site-packages (from requests<3,>=2->langchain==0.1.17) (2.0.4)\nRequirement already satisfied: greenlet!=0.4.17 in /local_disk0/.ephemeral_nfs/envs/pythonEnv-379dfd55-fa3a-4e4b-8d6d-abb8762e3c4f/lib/python3.11/site-packages (from SQLAlchemy<3,>=1.4->langchain==0.1.17) (3.0.3)\nRequirement already satisfied: regex>=2022.1.18 in /local_disk0/.ephemeral_nfs/envs/pythonEnv-379dfd55-fa3a-4e4b-8d6d-abb8762e3c4f/lib/python3.11/site-packages (from tiktoken<1,>=0.5.2->langchain-openai==0.1.6) (2024.4.28)\nRequirement already satisfied: shellingham>=1.3.0 in /local_disk0/.ephemeral_nfs/envs/pythonEnv-379dfd55-fa3a-4e4b-8d6d-abb8762e3c4f/lib/python3.11/site-packages (from typer<1.0,>=0.12->gradio==4.29.0) (1.5.4)\nRequirement already satisfied: rich>=10.11.0 in /local_disk0/.ephemeral_nfs/envs/pythonEnv-379dfd55-fa3a-4e4b-8d6d-abb8762e3c4f/lib/python3.11/site-packages (from typer<1.0,>=0.12->gradio==4.29.0) (13.7.1)\nRequirement already satisfied: starlette<0.38.0,>=0.37.2 in /local_disk0/.ephemeral_nfs/envs/pythonEnv-379dfd55-fa3a-4e4b-8d6d-abb8762e3c4f/lib/python3.11/site-packages (from fastapi->gradio==4.29.0) (0.37.2)\nRequirement already satisfied: fastapi-cli>=0.0.2 in /local_disk0/.ephemeral_nfs/envs/pythonEnv-379dfd55-fa3a-4e4b-8d6d-abb8762e3c4f/lib/python3.11/site-packages (from fastapi->gradio==4.29.0) (0.0.2)\nRequirement already satisfied: ujson!=4.0.2,!=4.1.0,!=4.2.0,!=4.3.0,!=5.0.0,!=5.1.0,>=4.0.1 in /databricks/python3/lib/python3.11/site-packages (from fastapi->gradio==4.29.0) (5.4.0)\nRequirement already satisfied: email_validator>=2.0.0 in /local_disk0/.ephemeral_nfs/envs/pythonEnv-379dfd55-fa3a-4e4b-8d6d-abb8762e3c4f/lib/python3.11/site-packages (from fastapi->gradio==4.29.0) (2.1.1)\nRequirement already satisfied: pycparser in /databricks/python3/lib/python3.11/site-packages (from cffi>=1.12.0->curl-cffi>=0.6.2->duckduckgo-search==5.3.0) (2.21)\nRequirement already satisfied: dnspython>=2.0.0 in /local_disk0/.ephemeral_nfs/envs/pythonEnv-379dfd55-fa3a-4e4b-8d6d-abb8762e3c4f/lib/python3.11/site-packages (from email_validator>=2.0.0->fastapi->gradio==4.29.0) (2.6.1)\nRequirement already satisfied: gitdb<5,>=4.0.1 in /databricks/python3/lib/python3.11/site-packages (from gitpython<4,>=3.1.9->mlflow-skinny<3,>=2.11.3->databricks-vectorsearch==0.33) (4.0.11)\nRequirement already satisfied: zipp>=0.5 in /databricks/python3/lib/python3.11/site-packages (from importlib-metadata!=4.7.0,<8,>=3.7.0->mlflow-skinny<3,>=2.11.3->databricks-vectorsearch==0.33) (3.11.0)\nRequirement already satisfied: jsonschema-specifications>=2023.03.6 in /local_disk0/.ephemeral_nfs/envs/pythonEnv-379dfd55-fa3a-4e4b-8d6d-abb8762e3c4f/lib/python3.11/site-packages (from jsonschema>=3.0->altair<6.0,>=4.2.0->gradio==4.29.0) (2023.12.1)\nRequirement already satisfied: referencing>=0.28.4 in /local_disk0/.ephemeral_nfs/envs/pythonEnv-379dfd55-fa3a-4e4b-8d6d-abb8762e3c4f/lib/python3.11/site-packages (from jsonschema>=3.0->altair<6.0,>=4.2.0->gradio==4.29.0) (0.35.1)\nRequirement already satisfied: rpds-py>=0.7.1 in /local_disk0/.ephemeral_nfs/envs/pythonEnv-379dfd55-fa3a-4e4b-8d6d-abb8762e3c4f/lib/python3.11/site-packages (from jsonschema>=3.0->altair<6.0,>=4.2.0->gradio==4.29.0) (0.18.1)\nRequirement already satisfied: six>=1.5 in /usr/lib/python3/dist-packages (from python-dateutil>=2.7->matplotlib~=3.0->gradio==4.29.0) (1.16.0)\nRequirement already satisfied: markdown-it-py>=2.2.0 in /local_disk0/.ephemeral_nfs/envs/pythonEnv-379dfd55-fa3a-4e4b-8d6d-abb8762e3c4f/lib/python3.11/site-packages (from rich>=10.11.0->typer<1.0,>=0.12->gradio==4.29.0) (3.0.0)\nRequirement already satisfied: pygments<3.0.0,>=2.13.0 in /databricks/python3/lib/python3.11/site-packages (from rich>=10.11.0->typer<1.0,>=0.12->gradio==4.29.0) (2.15.1)\nRequirement already satisfied: mypy-extensions>=0.3.0 in /databricks/python3/lib/python3.11/site-packages (from typing-inspect<1,>=0.4.0->dataclasses-json<0.7,>=0.5.7->langchain==0.1.17) (0.4.3)\nRequirement already satisfied: httptools>=0.5.0 in /local_disk0/.ephemeral_nfs/envs/pythonEnv-379dfd55-fa3a-4e4b-8d6d-abb8762e3c4f/lib/python3.11/site-packages (from uvicorn>=0.14.0->gradio==4.29.0) (0.6.1)\nRequirement already satisfied: python-dotenv>=0.13 in /local_disk0/.ephemeral_nfs/envs/pythonEnv-379dfd55-fa3a-4e4b-8d6d-abb8762e3c4f/lib/python3.11/site-packages (from uvicorn>=0.14.0->gradio==4.29.0) (1.0.1)\nRequirement already satisfied: uvloop!=0.15.0,!=0.15.1,>=0.14.0 in /local_disk0/.ephemeral_nfs/envs/pythonEnv-379dfd55-fa3a-4e4b-8d6d-abb8762e3c4f/lib/python3.11/site-packages (from uvicorn>=0.14.0->gradio==4.29.0) (0.19.0)\nRequirement already satisfied: watchfiles>=0.13 in /local_disk0/.ephemeral_nfs/envs/pythonEnv-379dfd55-fa3a-4e4b-8d6d-abb8762e3c4f/lib/python3.11/site-packages (from uvicorn>=0.14.0->gradio==4.29.0) (0.21.0)\nRequirement already satisfied: smmap<6,>=3.0.1 in /databricks/python3/lib/python3.11/site-packages (from gitdb<5,>=4.0.1->gitpython<4,>=3.1.9->mlflow-skinny<3,>=2.11.3->databricks-vectorsearch==0.33) (5.0.1)\nRequirement already satisfied: mdurl~=0.1 in /local_disk0/.ephemeral_nfs/envs/pythonEnv-379dfd55-fa3a-4e4b-8d6d-abb8762e3c4f/lib/python3.11/site-packages (from markdown-it-py>=2.2.0->rich>=10.11.0->typer<1.0,>=0.12->gradio==4.29.0) (0.1.2)\n\u001B[43mNote: you may need to restart the kernel using dbutils.library.restartPython() to use updated packages.\u001B[0m\n"
     ]
    }
   ],
   "source": [
    "%pip install langchain==0.1.17 langchain-openai==0.1.6 langgraph==0.0.40 databricks-vectorsearch==0.33 lark==1.1.9 duckduckgo-search==5.3.0 gradio==4.29.0\n",
    "dbutils.library.restartPython()"
   ]
  },
  {
   "cell_type": "code",
   "execution_count": 0,
   "metadata": {
    "application/vnd.databricks.v1+cell": {
     "cellMetadata": {
      "byteLimit": 2048000,
      "rowLimit": 10000
     },
     "inputWidgets": {},
     "nuid": "88ccb339-dd20-46f2-bdf6-7dc930e9d18a",
     "showTitle": false,
     "title": ""
    }
   },
   "outputs": [],
   "source": [
    "import json\n",
    "import os\n",
    "import operator\n",
    "from operator import itemgetter\n",
    "from typing import TypedDict, Annotated, Sequence\n",
    "from databricks.vector_search.client import VectorSearchClient\n",
    "import gradio as gr\n",
    "from gradio.themes.utils import sizes\n",
    "\n",
    "from langchain.chains.query_constructor.base import AttributeInfo\n",
    "from langchain.retrievers.self_query.base import SelfQueryRetriever\n",
    "from langchain_core.runnables import RunnablePassthrough\n",
    "from langchain_core.output_parsers import StrOutputParser\n",
    "from langchain_core.prompts import ChatPromptTemplate, PromptTemplate\n",
    "from langchain_core.messages import BaseMessage, FunctionMessage, HumanMessage, AIMessage\n",
    "from langchain_core.utils.function_calling import convert_to_openai_function, convert_to_openai_tool\n",
    "from langchain_core.pydantic_v1 import BaseModel, Field\n",
    "from langchain.output_parsers.openai_tools import PydanticToolsParser\n",
    "from langchain_openai import AzureChatOpenAI\n",
    "from langchain_community.vectorstores import DatabricksVectorSearch\n",
    "from langchain_community.embeddings import DatabricksEmbeddings\n",
    "from langchain_community.chat_models import ChatDatabricks\n",
    "from langchain_community.tools.ddg_search import DuckDuckGoSearchRun\n",
    "from langgraph.prebuilt import ToolExecutor, ToolInvocation\n",
    "from langgraph.graph import StateGraph, END"
   ]
  },
  {
   "cell_type": "code",
   "execution_count": 0,
   "metadata": {
    "application/vnd.databricks.v1+cell": {
     "cellMetadata": {
      "byteLimit": 2048000,
      "rowLimit": 10000
     },
     "inputWidgets": {},
     "nuid": "2cef4831-5781-47fd-91cc-44c9d4802b93",
     "showTitle": false,
     "title": ""
    }
   },
   "outputs": [
    {
     "output_type": "stream",
     "name": "stdout",
     "output_type": "stream",
     "text": [
      "[NOTICE] Using a notebook authentication token. Recommended for development only. For improved performance, please use Service Principal based authentication. To disable this message, pass disable_notice=True to VectorSearchClient().\n"
     ]
    },
    {
     "output_type": "stream",
     "name": "stderr",
     "output_type": "stream",
     "text": [
      "/local_disk0/.ephemeral_nfs/envs/pythonEnv-379dfd55-fa3a-4e4b-8d6d-abb8762e3c4f/lib/python3.11/site-packages/pydantic/_internal/_config.py:334: UserWarning: Valid config keys have changed in V2:\n* 'schema_extra' has been renamed to 'json_schema_extra'\n  warnings.warn(message, UserWarning)\nembedding model is not used in delta-sync index with Databricks-managed embeddings.\n"
     ]
    }
   ],
   "source": [
    "vs_endpoint_name = \"edgar_vs_endpoint\"\n",
    "vs_index_fullname = \"llm_hackathon.default.edgar_form_vs_index\"\n",
    "vsc = VectorSearchClient()\n",
    "\n",
    "embedding_model = DatabricksEmbeddings(endpoint=\"databricks-bge-large-en\")\n",
    "\n",
    "vs_index = vsc.get_index(\n",
    "    endpoint_name=vs_endpoint_name,\n",
    "    index_name=vs_index_fullname\n",
    ")\n",
    "\n",
    "vectorstore = DatabricksVectorSearch(\n",
    "    vs_index, text_column=\"content\", embedding=embedding_model,\n",
    "    columns=['name', 'tickers', 'exchanges', 'form', 'filing_date', 'industry']\n",
    ")\n",
    "\n",
    "chat_model = ChatDatabricks(endpoint=\"databricks-dbrx-instruct\", temperature=0)\n",
    "\n",
    "metadata_field_info = [\n",
    "    AttributeInfo(\n",
    "        name=\"name\",\n",
    "        description=\"The name of the company\",\n",
    "        type=\"string\",\n",
    "    ),\n",
    "    AttributeInfo(\n",
    "        name=\"tickers\",\n",
    "        description=\"The ticker symbols of the company\",\n",
    "        type=\"string\",\n",
    "    ),\n",
    "    AttributeInfo(\n",
    "        name=\"exchanges\",\n",
    "        description=\"The stock exchange where the stock is traded\",\n",
    "        type=\"string\",\n",
    "    ),\n",
    "]\n",
    "\n",
    "document_content_description = \"The sec filing of financial and management report of the company.\"\n",
    "\n",
    "retriever = SelfQueryRetriever.from_llm(\n",
    "    chat_model, vectorstore, document_content_description, metadata_field_info, search_kwargs={\"k\": 10},\n",
    ")\n",
    "\n",
    "RAG_TEMPLATE = \"\"\"\\\n",
    "You are an assistant for financial analyst. You are answering finance question about company's news, stock, financial reports and statements from management (10-K,  10-Q forms) based on the given context. If the question is not related to one of these topics, kindly decline to answer. If the context is empty or you don't know the answer, just say that you don't know, don't try to make up an answer. Keep the answer as concise as possible.\n",
    "\n",
    "Question:\n",
    "{question}\n",
    "\n",
    "Context:\n",
    "{context}\n",
    "\n",
    "Answer:\n",
    "\"\"\"\n",
    "\n",
    "rag_prompt = ChatPromptTemplate.from_template(RAG_TEMPLATE)\n",
    "\n",
    "self_query_retrieval_chain = (\n",
    "    {\"context\": itemgetter(\"question\") | retriever, \"question\": itemgetter(\"question\")}\n",
    "    | RunnablePassthrough.assign(context=itemgetter(\"context\"))\n",
    "    | rag_prompt\n",
    "    | chat_model\n",
    ")"
   ]
  },
  {
   "cell_type": "code",
   "execution_count": 0,
   "metadata": {
    "application/vnd.databricks.v1+cell": {
     "cellMetadata": {
      "byteLimit": 2048000,
      "rowLimit": 10000
     },
     "inputWidgets": {},
     "nuid": "20183883-5cbf-47c0-a8bb-21ce6ef4bdd0",
     "showTitle": false,
     "title": ""
    }
   },
   "outputs": [],
   "source": [
    "os.environ[\"AZURE_OPENAI_ENDPOINT\"] = dbutils.secrets.get(scope=\"development\", key=\"azure_openai_endpoint\")\n",
    "os.environ[\"AZURE_OPENAI_API_KEY\"] = dbutils.secrets.get(scope=\"development\", key=\"azure_openai_api_key\")\n",
    "\n",
    "search_tool = DuckDuckGoSearchRun()\n",
    "tools = [search_tool]\n",
    "tool_executor = ToolExecutor(tools)\n",
    "functions = [convert_to_openai_function(t) for t in tools]\n",
    "\n",
    "model = AzureChatOpenAI(\n",
    "    api_version=dbutils.secrets.get(scope=\"development\", key=\"azure_openai_chat_deployment_version\"),\n",
    "    azure_deployment=dbutils.secrets.get(scope=\"development\", key=\"azure_openai_chat_deployment_name\"),\n",
    "    temperature=0,\n",
    ")\n",
    "model = model.bind_functions(functions)\n",
    "\n",
    "class AgentState(TypedDict):\n",
    "  messages: Annotated[Sequence[BaseMessage], operator.add]\n",
    "\n",
    "def call_model(state):\n",
    "  messages = state[\"messages\"]\n",
    "  response = model.invoke(messages)\n",
    "  return {\"messages\" : [response]}\n",
    "\n",
    "def call_tool(state):\n",
    "  last_message = state[\"messages\"][-1]\n",
    "\n",
    "  action = ToolInvocation(\n",
    "      tool=last_message.additional_kwargs[\"function_call\"][\"name\"],\n",
    "      tool_input=json.loads(\n",
    "          last_message.additional_kwargs[\"function_call\"][\"arguments\"]\n",
    "      )\n",
    "  )\n",
    "\n",
    "  response = tool_executor.invoke(action)\n",
    "\n",
    "  function_message = FunctionMessage(content=str(response), name=action.tool)\n",
    "\n",
    "  return {\"messages\" : [function_message]}\n",
    "\n",
    "def should_continue(state):\n",
    "  last_message = state[\"messages\"][-1]\n",
    "\n",
    "  if \"function_call\" not in last_message.additional_kwargs:\n",
    "    return \"end\"\n",
    "\n",
    "  return \"continue\"\n",
    "\n",
    "def convert_state_to_query(state_object):\n",
    "  return {\"question\" : state_object[\"messages\"][-1].content}\n",
    "\n",
    "def convert_response_to_state(response):\n",
    "  return {\"messages\" : [response]}\n",
    "\n",
    "langgraph_node_rag_chain = convert_state_to_query | self_query_retrieval_chain | convert_response_to_state"
   ]
  },
  {
   "cell_type": "code",
   "execution_count": 0,
   "metadata": {
    "application/vnd.databricks.v1+cell": {
     "cellMetadata": {
      "byteLimit": 2048000,
      "rowLimit": 10000
     },
     "inputWidgets": {},
     "nuid": "624f1f54-3c48-4dbc-8a82-93ffeada3420",
     "showTitle": false,
     "title": ""
    }
   },
   "outputs": [],
   "source": [
    "rag_agent = StateGraph(AgentState)\n",
    "\n",
    "rag_agent.add_node(\"agent\", call_model)\n",
    "rag_agent.add_node(\"action\", call_tool)\n",
    "rag_agent.add_node(\"first_action\", langgraph_node_rag_chain)\n",
    "rag_agent.set_entry_point(\"first_action\")\n",
    "\n",
    "def is_fully_answered(state):\n",
    "\n",
    "    ### Extract the question and response from our RAG pipeline\n",
    "    question = state[\"messages\"][0].content\n",
    "    answer = state[\"messages\"][-1].content\n",
    "\n",
    "    ### Create a Pydantic model to capture our LLMs response\n",
    "    class answered(BaseModel):\n",
    "        binary_score: str = Field(description=\"Fully answered: 'yes' or 'no'\")\n",
    "\n",
    "    ### Create and bind our tool to our model\n",
    "    answered_tool = convert_to_openai_tool(answered)\n",
    "    model = AzureChatOpenAI(\n",
    "        api_version=dbutils.secrets.get(scope=\"development\", key=\"azure_openai_chat_deployment_version\"),\n",
    "        azure_deployment=dbutils.secrets.get(scope=\"development\", key=\"azure_openai_chat_deployment_name\"),\n",
    "        temperature=0,\n",
    "    )\n",
    "    model = model.bind(\n",
    "        tools=[answered_tool],\n",
    "        tool_choice={\"type\" : \"function\", \"function\" : {\"name\" : \"answered\"}}\n",
    "    )\n",
    "\n",
    "    ### We'll want to parse the output into a usable format\n",
    "    parser_tool = PydanticToolsParser(tools=[answered])\n",
    "\n",
    "    prompt = PromptTemplate(\n",
    "        template=\"\"\"You will determine if the question is fully answered by the response.\\n\n",
    "        Question:\n",
    "        {question}\n",
    "\n",
    "        Response:\n",
    "        {answer}\n",
    "\n",
    "        You will respond with either 'yes' or 'no'.\"\"\",\n",
    "        input_variables=[\"question\", \"answer\"])\n",
    "\n",
    "    ### Classic LCEL chain!\n",
    "    fully_answered_chain = prompt | model | parser_tool\n",
    "\n",
    "    response = fully_answered_chain.invoke({\"question\" : question, \"answer\" : answer})\n",
    "\n",
    "    if response[0].binary_score == \"no\":\n",
    "        return \"continue\"\n",
    "\n",
    "    return \"end\"\n",
    "\n",
    "rag_agent.add_conditional_edges(\n",
    "    \"first_action\",\n",
    "    is_fully_answered,\n",
    "    {\n",
    "        \"continue\" : \"agent\",\n",
    "        \"end\" : END\n",
    "    }\n",
    ")\n",
    "\n",
    "rag_agent.add_conditional_edges(\n",
    "    \"agent\",\n",
    "    should_continue,\n",
    "    {\n",
    "        \"continue\" : \"action\",\n",
    "        \"end\" : END\n",
    "    }\n",
    ")\n",
    "\n",
    "rag_agent.add_edge(\"action\", \"agent\")\n",
    "rag_agent_app = rag_agent.compile()"
   ]
  },
  {
   "cell_type": "code",
   "execution_count": 0,
   "metadata": {
    "application/vnd.databricks.v1+cell": {
     "cellMetadata": {
      "byteLimit": 2048000,
      "rowLimit": 10000
     },
     "inputWidgets": {},
     "nuid": "ccfb388d-5084-48f2-83b3-1c67603ef0b6",
     "showTitle": false,
     "title": ""
    }
   },
   "outputs": [],
   "source": [
    "theme = gr.themes.Soft(\n",
    "    text_size=sizes.text_sm,radius_size=sizes.radius_sm, spacing_size=sizes.spacing_sm,\n",
    ")\n",
    "\n",
    "def respond(message, history):\n",
    "    history_messages = []\n",
    "    for human, ai in history:\n",
    "        history_messages.append(HumanMessage(content=human))\n",
    "        history_messages.append(AIMessage(content=ai))\n",
    "    response = rag_agent_app.invoke({'messages': [HumanMessage(content=message)], 'chat_history': history_messages})\n",
    "    return response[\"messages\"][-1].content\n",
    "\n",
    "demo = gr.ChatInterface(\n",
    "    respond,\n",
    "    chatbot=gr.Chatbot(show_label=False, container=False, show_copy_button=True, bubble_full_width=True),\n",
    "    textbox=gr.Textbox(placeholder=\"Ask me a question\",\n",
    "                       container=False, scale=7),\n",
    "    title=\"Financial Agentic RAG Demo\",\n",
    "    description=\"This chatbot is a demo example for the financial agentic self-query rag chatbot.\",\n",
    "    examples=[[\"What was alphabet's revenue?\"],\n",
    "              [\"What was amazon's revenue?\"],\n",
    "              [\"Which challenges is meta facing?\"],\n",
    "              [\"How are microsoft's financial numbers?\"],],\n",
    "    cache_examples=False,\n",
    "    theme=theme,\n",
    "    retry_btn=None,\n",
    "    undo_btn=None,\n",
    "    clear_btn=\"Clear\",\n",
    ")\n",
    "\n",
    "demo.launch(share=True)"
   ]
  }
 ],
 "metadata": {
  "application/vnd.databricks.v1+notebook": {
   "dashboards": [],
   "language": "python",
   "notebookMetadata": {
    "pythonIndentUnit": 4
   },
   "notebookName": "05-rag-deployment",
   "widgets": {}
  }
 },
 "nbformat": 4,
 "nbformat_minor": 0
}
