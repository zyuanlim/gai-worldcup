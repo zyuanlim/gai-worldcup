{
 "cells": [
  {
   "cell_type": "code",
   "execution_count": 1,
   "metadata": {},
   "outputs": [],
   "source": [
    "from edgar import *"
   ]
  },
  {
   "cell_type": "code",
   "execution_count": 2,
   "metadata": {},
   "outputs": [
    {
     "data": {
      "text/html": [
       "<pre style=\"white-space:pre;overflow-x:auto;line-height:normal;font-family:Menlo,'DejaVu Sans Mono',consolas,'Courier New',monospace\"><span style=\"color: #7fbfbf; text-decoration-color: #7fbfbf\">[17:47:14] </span><span style=\"color: #000080; text-decoration-color: #000080\">INFO    </span> Identity of the Edgar REST client set to <span style=\"font-weight: bold\">[</span>Zane Lim zyuanlim@gmail.com<span style=\"font-weight: bold\">]</span>              <a href=\"file:///Users/zanelim/Projects/generativeai-worldcup/venv/lib/python3.11/site-packages/edgar/core.py\" target=\"_blank\"><span style=\"color: #7f7f7f; text-decoration-color: #7f7f7f\">core.py</span></a><span style=\"color: #7f7f7f; text-decoration-color: #7f7f7f\">:</span><a href=\"file:///Users/zanelim/Projects/generativeai-worldcup/venv/lib/python3.11/site-packages/edgar/core.py#154\" target=\"_blank\"><span style=\"color: #7f7f7f; text-decoration-color: #7f7f7f\">154</span></a>\n",
       "</pre>\n"
      ],
      "text/plain": [
       "\u001b[2;36m[17:47:14]\u001b[0m\u001b[2;36m \u001b[0m\u001b[34mINFO    \u001b[0m Identity of the Edgar REST client set to \u001b[1m[\u001b[0mZane Lim zyuanlim@gmail.com\u001b[1m]\u001b[0m              \u001b]8;id=46156;file:///Users/zanelim/Projects/generativeai-worldcup/venv/lib/python3.11/site-packages/edgar/core.py\u001b\\\u001b[2mcore.py\u001b[0m\u001b]8;;\u001b\\\u001b[2m:\u001b[0m\u001b]8;id=276214;file:///Users/zanelim/Projects/generativeai-worldcup/venv/lib/python3.11/site-packages/edgar/core.py#154\u001b\\\u001b[2m154\u001b[0m\u001b]8;;\u001b\\\n"
      ]
     },
     "metadata": {},
     "output_type": "display_data"
    }
   ],
   "source": [
    "set_identity(\"Zane Lim zyuanlim@gmail.com\")"
   ]
  },
  {
   "cell_type": "code",
   "execution_count": 3,
   "metadata": {},
   "outputs": [],
   "source": [
    "filings = get_filings(form=[\"10-K\", \"10-Q\"])"
   ]
  },
  {
   "cell_type": "code",
   "execution_count": 4,
   "metadata": {},
   "outputs": [
    {
     "data": {
      "text/html": [
       "<pre style=\"white-space:pre;overflow-x:auto;line-height:normal;font-family:Menlo,'DejaVu Sans Mono',consolas,'Courier New',monospace\"></pre>\n"
      ],
      "text/plain": []
     },
     "metadata": {},
     "output_type": "display_data"
    },
    {
     "data": {
      "text/plain": [
       "╭──────────────────────────────────────────────────── Filings ────────────────────────────────────────────────────╮\n",
       "│                                                                                                                 │\n",
       "│  \u001b[1m \u001b[0m\u001b[1m  \u001b[0m\u001b[1m \u001b[0m \u001b[1;38;5;71m \u001b[0m\u001b[1;38;5;71mform  \u001b[0m\u001b[1;38;5;71m \u001b[0m \u001b[1m \u001b[0m\u001b[1mcompany                                \u001b[0m\u001b[1m \u001b[0m \u001b[1m \u001b[0m\u001b[1mcik    \u001b[0m\u001b[1m \u001b[0m \u001b[1;38;5;39m \u001b[0m\u001b[1;38;5;39mfiling_date\u001b[0m\u001b[1;38;5;39m \u001b[0m \u001b[1m \u001b[0m\u001b[1maccession_number    \u001b[0m\u001b[1m \u001b[0m         │\n",
       "│  ──────────────────────────────────────────────────────────────────────────────────────────────────────         │\n",
       "│  \u001b[1m \u001b[0m\u001b[1m0 \u001b[0m\u001b[1m \u001b[0m \u001b[1;38;5;71m \u001b[0m\u001b[1;38;5;71m10-K  \u001b[0m\u001b[1;38;5;71m \u001b[0m \u001b[1m \u001b[0m\u001b[1mAERWINS Technologies Inc.              \u001b[0m\u001b[1m \u001b[0m \u001b[1m \u001b[0m\u001b[1m1855631\u001b[0m\u001b[1m \u001b[0m \u001b[1;38;5;39m \u001b[0m\u001b[1;38;5;39m2024-04-30 \u001b[0m\u001b[1;38;5;39m \u001b[0m \u001b[1m \u001b[0m\u001b[1m0001493152-24-017204\u001b[0m\u001b[1m \u001b[0m         │\n",
       "│   1   \u001b[38;5;71m \u001b[0m\u001b[38;5;71m10-K  \u001b[0m\u001b[38;5;71m \u001b[0m  Acreage Holdings, Inc.                    1762359  \u001b[38;5;39m \u001b[0m\u001b[38;5;39m2024-04-30 \u001b[0m\u001b[38;5;39m \u001b[0m  0001762359-24-000023          │\n",
       "│  \u001b[1m \u001b[0m\u001b[1m2 \u001b[0m\u001b[1m \u001b[0m \u001b[1;38;5;71m \u001b[0m\u001b[1;38;5;71m10-K  \u001b[0m\u001b[1;38;5;71m \u001b[0m \u001b[1m \u001b[0m\u001b[1mGaucho Group Holdings, Inc.            \u001b[0m\u001b[1m \u001b[0m \u001b[1m \u001b[0m\u001b[1m1559998\u001b[0m\u001b[1m \u001b[0m \u001b[1;38;5;39m \u001b[0m\u001b[1;38;5;39m2024-04-30 \u001b[0m\u001b[1;38;5;39m \u001b[0m \u001b[1m \u001b[0m\u001b[1m0001493152-24-017110\u001b[0m\u001b[1m \u001b[0m         │\n",
       "│   3   \u001b[38;5;71m \u001b[0m\u001b[38;5;71m10-K  \u001b[0m\u001b[38;5;71m \u001b[0m  MIND TECHNOLOGY, INC                      926423   \u001b[38;5;39m \u001b[0m\u001b[38;5;39m2024-04-30 \u001b[0m\u001b[38;5;39m \u001b[0m  0001437749-24-013973          │\n",
       "│  \u001b[1m \u001b[0m\u001b[1m4 \u001b[0m\u001b[1m \u001b[0m \u001b[1;38;5;71m \u001b[0m\u001b[1;38;5;71m10-K  \u001b[0m\u001b[1;38;5;71m \u001b[0m \u001b[1m \u001b[0m\u001b[1mSTREAMLINE HEALTH SOLUTIONS INC.       \u001b[0m\u001b[1m \u001b[0m \u001b[1m \u001b[0m\u001b[1m1008586\u001b[0m\u001b[1m \u001b[0m \u001b[1;38;5;39m \u001b[0m\u001b[1;38;5;39m2024-04-30 \u001b[0m\u001b[1;38;5;39m \u001b[0m \u001b[1m \u001b[0m\u001b[1m0001493152-24-017297\u001b[0m\u001b[1m \u001b[0m         │\n",
       "│   5   \u001b[38;5;71m \u001b[0m\u001b[38;5;71m10-K/A\u001b[0m\u001b[38;5;71m \u001b[0m  Acreage Holdings, Inc.                    1762359  \u001b[38;5;39m \u001b[0m\u001b[38;5;39m2024-04-30 \u001b[0m\u001b[38;5;39m \u001b[0m  0001762359-24-000041          │\n",
       "│  \u001b[1m \u001b[0m\u001b[1m6 \u001b[0m\u001b[1m \u001b[0m \u001b[1;38;5;71m \u001b[0m\u001b[1;38;5;71m10-K/A\u001b[0m\u001b[1;38;5;71m \u001b[0m \u001b[1m \u001b[0m\u001b[1mEastside Distilling, Inc.              \u001b[0m\u001b[1m \u001b[0m \u001b[1m \u001b[0m\u001b[1m1534708\u001b[0m\u001b[1m \u001b[0m \u001b[1;38;5;39m \u001b[0m\u001b[1;38;5;39m2024-04-30 \u001b[0m\u001b[1;38;5;39m \u001b[0m \u001b[1m \u001b[0m\u001b[1m0001493152-24-017182\u001b[0m\u001b[1m \u001b[0m         │\n",
       "│   7   \u001b[38;5;71m \u001b[0m\u001b[38;5;71m10-K/A\u001b[0m\u001b[38;5;71m \u001b[0m  Edgemode, Inc.                            1652958  \u001b[38;5;39m \u001b[0m\u001b[38;5;39m2024-04-30 \u001b[0m\u001b[38;5;39m \u001b[0m  0001683168-24-002840          │\n",
       "│  \u001b[1m \u001b[0m\u001b[1m8 \u001b[0m\u001b[1m \u001b[0m \u001b[1;38;5;71m \u001b[0m\u001b[1;38;5;71m10-K/A\u001b[0m\u001b[1;38;5;71m \u001b[0m \u001b[1m \u001b[0m\u001b[1mFreshpet, Inc.                         \u001b[0m\u001b[1m \u001b[0m \u001b[1m \u001b[0m\u001b[1m1611647\u001b[0m\u001b[1m \u001b[0m \u001b[1;38;5;39m \u001b[0m\u001b[1;38;5;39m2024-04-30 \u001b[0m\u001b[1;38;5;39m \u001b[0m \u001b[1m \u001b[0m\u001b[1m0001437749-24-013821\u001b[0m\u001b[1m \u001b[0m         │\n",
       "│   9   \u001b[38;5;71m \u001b[0m\u001b[38;5;71m10-K/A\u001b[0m\u001b[38;5;71m \u001b[0m  GameSquare Holdings, Inc.                 1714562  \u001b[38;5;39m \u001b[0m\u001b[38;5;39m2024-04-30 \u001b[0m\u001b[38;5;39m \u001b[0m  0001493152-24-017285          │\n",
       "│  \u001b[1m \u001b[0m\u001b[1m10\u001b[0m\u001b[1m \u001b[0m \u001b[1;38;5;71m \u001b[0m\u001b[1;38;5;71m10-K/A\u001b[0m\u001b[1;38;5;71m \u001b[0m \u001b[1m \u001b[0m\u001b[1mGoLogiq, Inc.                          \u001b[0m\u001b[1m \u001b[0m \u001b[1m \u001b[0m\u001b[1m1746278\u001b[0m\u001b[1m \u001b[0m \u001b[1;38;5;39m \u001b[0m\u001b[1;38;5;39m2024-04-30 \u001b[0m\u001b[1;38;5;39m \u001b[0m \u001b[1m \u001b[0m\u001b[1m0001575872-24-000446\u001b[0m\u001b[1m \u001b[0m         │\n",
       "│   11  \u001b[38;5;71m \u001b[0m\u001b[38;5;71m10-K/A\u001b[0m\u001b[38;5;71m \u001b[0m  INSEEGO CORP.                             1022652  \u001b[38;5;39m \u001b[0m\u001b[38;5;39m2024-04-30 \u001b[0m\u001b[38;5;39m \u001b[0m  0001683168-24-002854          │\n",
       "│  \u001b[1m \u001b[0m\u001b[1m12\u001b[0m\u001b[1m \u001b[0m \u001b[1;38;5;71m \u001b[0m\u001b[1;38;5;71m10-K/A\u001b[0m\u001b[1;38;5;71m \u001b[0m \u001b[1m \u001b[0m\u001b[1mKORE Group Holdings, Inc.              \u001b[0m\u001b[1m \u001b[0m \u001b[1m \u001b[0m\u001b[1m1855457\u001b[0m\u001b[1m \u001b[0m \u001b[1;38;5;39m \u001b[0m\u001b[1;38;5;39m2024-04-30 \u001b[0m\u001b[1;38;5;39m \u001b[0m \u001b[1m \u001b[0m\u001b[1m0001855457-24-000028\u001b[0m\u001b[1m \u001b[0m         │\n",
       "│   13  \u001b[38;5;71m \u001b[0m\u001b[38;5;71m10-K/A\u001b[0m\u001b[38;5;71m \u001b[0m  LIQTECH INTERNATIONAL INC                 1307579  \u001b[38;5;39m \u001b[0m\u001b[38;5;39m2024-04-30 \u001b[0m\u001b[38;5;39m \u001b[0m  0001437749-24-013778          │\n",
       "│  \u001b[1m \u001b[0m\u001b[1m14\u001b[0m\u001b[1m \u001b[0m \u001b[1;38;5;71m \u001b[0m\u001b[1;38;5;71m10-K/A\u001b[0m\u001b[1;38;5;71m \u001b[0m \u001b[1m \u001b[0m\u001b[1mNutex Health, Inc.                     \u001b[0m\u001b[1m \u001b[0m \u001b[1m \u001b[0m\u001b[1m1479681\u001b[0m\u001b[1m \u001b[0m \u001b[1;38;5;39m \u001b[0m\u001b[1;38;5;39m2024-04-30 \u001b[0m\u001b[1;38;5;39m \u001b[0m \u001b[1m \u001b[0m\u001b[1m0001558370-24-006236\u001b[0m\u001b[1m \u001b[0m         │\n",
       "│   15  \u001b[38;5;71m \u001b[0m\u001b[38;5;71m10-K/A\u001b[0m\u001b[38;5;71m \u001b[0m  Regional Management Corp.                 1519401  \u001b[38;5;39m \u001b[0m\u001b[38;5;39m2024-04-30 \u001b[0m\u001b[38;5;39m \u001b[0m  0000950170-24-050639          │\n",
       "│  \u001b[1m \u001b[0m\u001b[1m16\u001b[0m\u001b[1m \u001b[0m \u001b[1;38;5;71m \u001b[0m\u001b[1;38;5;71m10-K/A\u001b[0m\u001b[1;38;5;71m \u001b[0m \u001b[1m \u001b[0m\u001b[1mSANDRIDGE ENERGY INC                   \u001b[0m\u001b[1m \u001b[0m \u001b[1m \u001b[0m\u001b[1m1349436\u001b[0m\u001b[1m \u001b[0m \u001b[1;38;5;39m \u001b[0m\u001b[1;38;5;39m2024-04-30 \u001b[0m\u001b[1;38;5;39m \u001b[0m \u001b[1m \u001b[0m\u001b[1m0001193125-24-122938\u001b[0m\u001b[1m \u001b[0m         │\n",
       "│   17  \u001b[38;5;71m \u001b[0m\u001b[38;5;71m10-K/A\u001b[0m\u001b[38;5;71m \u001b[0m  SPAR Group, Inc.                          1004989  \u001b[38;5;39m \u001b[0m\u001b[38;5;39m2024-04-30 \u001b[0m\u001b[38;5;39m \u001b[0m  0001437749-24-013963          │\n",
       "│  \u001b[1m \u001b[0m\u001b[1m18\u001b[0m\u001b[1m \u001b[0m \u001b[1;38;5;71m \u001b[0m\u001b[1;38;5;71m10-Q  \u001b[0m\u001b[1;38;5;71m \u001b[0m \u001b[1m \u001b[0m\u001b[1m10x Genomics, Inc.                     \u001b[0m\u001b[1m \u001b[0m \u001b[1m \u001b[0m\u001b[1m1770787\u001b[0m\u001b[1m \u001b[0m \u001b[1;38;5;39m \u001b[0m\u001b[1;38;5;39m2024-04-30 \u001b[0m\u001b[1;38;5;39m \u001b[0m \u001b[1m \u001b[0m\u001b[1m0001770787-24-000036\u001b[0m\u001b[1m \u001b[0m         │\n",
       "│   19  \u001b[38;5;71m \u001b[0m\u001b[38;5;71m10-Q  \u001b[0m\u001b[38;5;71m \u001b[0m  3M CO                                     66740    \u001b[38;5;39m \u001b[0m\u001b[38;5;39m2024-04-30 \u001b[0m\u001b[38;5;39m \u001b[0m  0000066740-24-000053          │\n",
       "│  \u001b[1m \u001b[0m\u001b[1m20\u001b[0m\u001b[1m \u001b[0m \u001b[1;38;5;71m \u001b[0m\u001b[1;38;5;71m10-Q  \u001b[0m\u001b[1;38;5;71m \u001b[0m \u001b[1m \u001b[0m\u001b[1mACADIA REALTY TRUST                    \u001b[0m\u001b[1m \u001b[0m \u001b[1m \u001b[0m\u001b[1m899629 \u001b[0m\u001b[1m \u001b[0m \u001b[1;38;5;39m \u001b[0m\u001b[1;38;5;39m2024-04-30 \u001b[0m\u001b[1;38;5;39m \u001b[0m \u001b[1m \u001b[0m\u001b[1m0000950170-24-050536\u001b[0m\u001b[1m \u001b[0m         │\n",
       "│   21  \u001b[38;5;71m \u001b[0m\u001b[38;5;71m10-Q  \u001b[0m\u001b[38;5;71m \u001b[0m  ACI WORLDWIDE, INC.                       935036   \u001b[38;5;39m \u001b[0m\u001b[38;5;39m2024-04-30 \u001b[0m\u001b[38;5;39m \u001b[0m  0000935036-24-000018          │\n",
       "│  \u001b[1m \u001b[0m\u001b[1m22\u001b[0m\u001b[1m \u001b[0m \u001b[1;38;5;71m \u001b[0m\u001b[1;38;5;71m10-Q  \u001b[0m\u001b[1;38;5;71m \u001b[0m \u001b[1m \u001b[0m\u001b[1mAEP Texas Inc.                         \u001b[0m\u001b[1m \u001b[0m \u001b[1m \u001b[0m\u001b[1m1721781\u001b[0m\u001b[1m \u001b[0m \u001b[1;38;5;39m \u001b[0m\u001b[1;38;5;39m2024-04-30 \u001b[0m\u001b[1;38;5;39m \u001b[0m \u001b[1m \u001b[0m\u001b[1m0000004904-24-000046\u001b[0m\u001b[1m \u001b[0m         │\n",
       "│   23  \u001b[38;5;71m \u001b[0m\u001b[38;5;71m10-Q  \u001b[0m\u001b[38;5;71m \u001b[0m  AEP Transmission Company, LLC             1702494  \u001b[38;5;39m \u001b[0m\u001b[38;5;39m2024-04-30 \u001b[0m\u001b[38;5;39m \u001b[0m  0000004904-24-000046          │\n",
       "│  \u001b[1m \u001b[0m\u001b[1m24\u001b[0m\u001b[1m \u001b[0m \u001b[1;38;5;71m \u001b[0m\u001b[1;38;5;71m10-Q  \u001b[0m\u001b[1;38;5;71m \u001b[0m \u001b[1m \u001b[0m\u001b[1mAMERICAN ELECTRIC POWER CO INC         \u001b[0m\u001b[1m \u001b[0m \u001b[1m \u001b[0m\u001b[1m4904   \u001b[0m\u001b[1m \u001b[0m \u001b[1;38;5;39m \u001b[0m\u001b[1;38;5;39m2024-04-30 \u001b[0m\u001b[1;38;5;39m \u001b[0m \u001b[1m \u001b[0m\u001b[1m0000004904-24-000046\u001b[0m\u001b[1m \u001b[0m         │\n",
       "│   25  \u001b[38;5;71m \u001b[0m\u001b[38;5;71m10-Q  \u001b[0m\u001b[38;5;71m \u001b[0m  AMERICAN TOWER CORP /MA/                  1053507  \u001b[38;5;39m \u001b[0m\u001b[38;5;39m2024-04-30 \u001b[0m\u001b[38;5;39m \u001b[0m  0001053507-24-000084          │\n",
       "│  \u001b[1m \u001b[0m\u001b[1m26\u001b[0m\u001b[1m \u001b[0m \u001b[1;38;5;71m \u001b[0m\u001b[1;38;5;71m10-Q  \u001b[0m\u001b[1;38;5;71m \u001b[0m \u001b[1m \u001b[0m\u001b[1mAPPALACHIAN POWER CO                   \u001b[0m\u001b[1m \u001b[0m \u001b[1m \u001b[0m\u001b[1m6879   \u001b[0m\u001b[1m \u001b[0m \u001b[1;38;5;39m \u001b[0m\u001b[1;38;5;39m2024-04-30 \u001b[0m\u001b[1;38;5;39m \u001b[0m \u001b[1m \u001b[0m\u001b[1m0000004904-24-000046\u001b[0m\u001b[1m \u001b[0m         │\n",
       "│   27  \u001b[38;5;71m \u001b[0m\u001b[38;5;71m10-Q  \u001b[0m\u001b[38;5;71m \u001b[0m  ARMSTRONG WORLD INDUSTRIES INC            7431     \u001b[38;5;39m \u001b[0m\u001b[38;5;39m2024-04-30 \u001b[0m\u001b[38;5;39m \u001b[0m  0000950170-24-050195          │\n",
       "│  \u001b[1m \u001b[0m\u001b[1m28\u001b[0m\u001b[1m \u001b[0m \u001b[1;38;5;71m \u001b[0m\u001b[1;38;5;71m10-Q  \u001b[0m\u001b[1;38;5;71m \u001b[0m \u001b[1m \u001b[0m\u001b[1mASSOCIATED BANC-CORP                   \u001b[0m\u001b[1m \u001b[0m \u001b[1m \u001b[0m\u001b[1m7789   \u001b[0m\u001b[1m \u001b[0m \u001b[1;38;5;39m \u001b[0m\u001b[1;38;5;39m2024-04-30 \u001b[0m\u001b[1;38;5;39m \u001b[0m \u001b[1m \u001b[0m\u001b[1m0000007789-24-000043\u001b[0m\u001b[1m \u001b[0m         │\n",
       "│   29  \u001b[38;5;71m \u001b[0m\u001b[38;5;71m10-Q  \u001b[0m\u001b[38;5;71m \u001b[0m  ATI INC                                   1018963  \u001b[38;5;39m \u001b[0m\u001b[38;5;39m2024-04-30 \u001b[0m\u001b[38;5;39m \u001b[0m  0001628280-24-019285          │\n",
       "│  \u001b[1m \u001b[0m\u001b[1m30\u001b[0m\u001b[1m \u001b[0m \u001b[1;38;5;71m \u001b[0m\u001b[1;38;5;71m10-Q  \u001b[0m\u001b[1;38;5;71m \u001b[0m \u001b[1m \u001b[0m\u001b[1mAUDIOEYE INC                           \u001b[0m\u001b[1m \u001b[0m \u001b[1m \u001b[0m\u001b[1m1362190\u001b[0m\u001b[1m \u001b[0m \u001b[1;38;5;39m \u001b[0m\u001b[1;38;5;39m2024-04-30 \u001b[0m\u001b[1;38;5;39m \u001b[0m \u001b[1m \u001b[0m\u001b[1m0001410578-24-000574\u001b[0m\u001b[1m \u001b[0m         │\n",
       "│   31  \u001b[38;5;71m \u001b[0m\u001b[38;5;71m10-Q  \u001b[0m\u001b[38;5;71m \u001b[0m  Air Products & Chemicals, Inc.            2969     \u001b[38;5;39m \u001b[0m\u001b[38;5;39m2024-04-30 \u001b[0m\u001b[38;5;39m \u001b[0m  0000002969-24-000026          │\n",
       "│  \u001b[1m \u001b[0m\u001b[1m32\u001b[0m\u001b[1m \u001b[0m \u001b[1;38;5;71m \u001b[0m\u001b[1;38;5;71m10-Q  \u001b[0m\u001b[1;38;5;71m \u001b[0m \u001b[1m \u001b[0m\u001b[1mArcher-Daniels-Midland Co              \u001b[0m\u001b[1m \u001b[0m \u001b[1m \u001b[0m\u001b[1m7084   \u001b[0m\u001b[1m \u001b[0m \u001b[1;38;5;39m \u001b[0m\u001b[1;38;5;39m2024-04-30 \u001b[0m\u001b[1;38;5;39m \u001b[0m \u001b[1m \u001b[0m\u001b[1m0000007084-24-000017\u001b[0m\u001b[1m \u001b[0m         │\n",
       "│   33  \u001b[38;5;71m \u001b[0m\u001b[38;5;71m10-Q  \u001b[0m\u001b[38;5;71m \u001b[0m  Atomera Inc                               1420520  \u001b[38;5;39m \u001b[0m\u001b[38;5;39m2024-04-30 \u001b[0m\u001b[38;5;39m \u001b[0m  0001683168-24-002847          │\n",
       "│  \u001b[1m \u001b[0m\u001b[1m34\u001b[0m\u001b[1m \u001b[0m \u001b[1;38;5;71m \u001b[0m\u001b[1;38;5;71m10-Q  \u001b[0m\u001b[1;38;5;71m \u001b[0m \u001b[1m \u001b[0m\u001b[1mAvery Dennison Corp                    \u001b[0m\u001b[1m \u001b[0m \u001b[1m \u001b[0m\u001b[1m8818   \u001b[0m\u001b[1m \u001b[0m \u001b[1;38;5;39m \u001b[0m\u001b[1;38;5;39m2024-04-30 \u001b[0m\u001b[1;38;5;39m \u001b[0m \u001b[1m \u001b[0m\u001b[1m0000008818-24-000009\u001b[0m\u001b[1m \u001b[0m         │\n",
       "│   35  \u001b[38;5;71m \u001b[0m\u001b[38;5;71m10-Q  \u001b[0m\u001b[38;5;71m \u001b[0m  Axonics, Inc.                             1603756  \u001b[38;5;39m \u001b[0m\u001b[38;5;39m2024-04-30 \u001b[0m\u001b[38;5;39m \u001b[0m  0001603756-24-000062          │\n",
       "│  \u001b[1m \u001b[0m\u001b[1m36\u001b[0m\u001b[1m \u001b[0m \u001b[1;38;5;71m \u001b[0m\u001b[1;38;5;71m10-Q  \u001b[0m\u001b[1;38;5;71m \u001b[0m \u001b[1m \u001b[0m\u001b[1mAxos Financial, Inc.                   \u001b[0m\u001b[1m \u001b[0m \u001b[1m \u001b[0m\u001b[1m1299709\u001b[0m\u001b[1m \u001b[0m \u001b[1;38;5;39m \u001b[0m\u001b[1;38;5;39m2024-04-30 \u001b[0m\u001b[1;38;5;39m \u001b[0m \u001b[1m \u001b[0m\u001b[1m0001299709-24-000093\u001b[0m\u001b[1m \u001b[0m         │\n",
       "│   37  \u001b[38;5;71m \u001b[0m\u001b[38;5;71m10-Q  \u001b[0m\u001b[38;5;71m \u001b[0m  BANK OF AMERICA CORP /DE/                 70858    \u001b[38;5;39m \u001b[0m\u001b[38;5;39m2024-04-30 \u001b[0m\u001b[38;5;39m \u001b[0m  0000070858-24-000156          │\n",
       "│  \u001b[1m \u001b[0m\u001b[1m38\u001b[0m\u001b[1m \u001b[0m \u001b[1;38;5;71m \u001b[0m\u001b[1;38;5;71m10-Q  \u001b[0m\u001b[1;38;5;71m \u001b[0m \u001b[1m \u001b[0m\u001b[1mBEL FUSE INC /NJ                       \u001b[0m\u001b[1m \u001b[0m \u001b[1m \u001b[0m\u001b[1m729580 \u001b[0m\u001b[1m \u001b[0m \u001b[1;38;5;39m \u001b[0m\u001b[1;38;5;39m2024-04-30 \u001b[0m\u001b[1;38;5;39m \u001b[0m \u001b[1m \u001b[0m\u001b[1m0001437749-24-013891\u001b[0m\u001b[1m \u001b[0m         │\n",
       "│   39  \u001b[38;5;71m \u001b[0m\u001b[38;5;71m10-Q  \u001b[0m\u001b[38;5;71m \u001b[0m  BRINKER INTERNATIONAL, INC                703351   \u001b[38;5;39m \u001b[0m\u001b[38;5;39m2024-04-30 \u001b[0m\u001b[38;5;39m \u001b[0m  0000703351-24-000015          │\n",
       "│  \u001b[1m \u001b[0m\u001b[1m40\u001b[0m\u001b[1m \u001b[0m \u001b[1;38;5;71m \u001b[0m\u001b[1;38;5;71m10-Q  \u001b[0m\u001b[1;38;5;71m \u001b[0m \u001b[1m \u001b[0m\u001b[1mBlueLinx Holdings Inc.                 \u001b[0m\u001b[1m \u001b[0m \u001b[1m \u001b[0m\u001b[1m1301787\u001b[0m\u001b[1m \u001b[0m \u001b[1;38;5;39m \u001b[0m\u001b[1;38;5;39m2024-04-30 \u001b[0m\u001b[1;38;5;39m \u001b[0m \u001b[1m \u001b[0m\u001b[1m0001301787-24-000017\u001b[0m\u001b[1m \u001b[0m         │\n",
       "│   41  \u001b[38;5;71m \u001b[0m\u001b[38;5;71m10-Q  \u001b[0m\u001b[38;5;71m \u001b[0m  CCC Intelligent Solutions Holdings Inc.   1818201  \u001b[38;5;39m \u001b[0m\u001b[38;5;39m2024-04-30 \u001b[0m\u001b[38;5;39m \u001b[0m  0000950170-24-050638          │\n",
       "│  \u001b[1m \u001b[0m\u001b[1m42\u001b[0m\u001b[1m \u001b[0m \u001b[1;38;5;71m \u001b[0m\u001b[1;38;5;71m10-Q  \u001b[0m\u001b[1;38;5;71m \u001b[0m \u001b[1m \u001b[0m\u001b[1mCECO ENVIRONMENTAL CORP                \u001b[0m\u001b[1m \u001b[0m \u001b[1m \u001b[0m\u001b[1m3197   \u001b[0m\u001b[1m \u001b[0m \u001b[1;38;5;39m \u001b[0m\u001b[1;38;5;39m2024-04-30 \u001b[0m\u001b[1;38;5;39m \u001b[0m \u001b[1m \u001b[0m\u001b[1m0000950170-24-050199\u001b[0m\u001b[1m \u001b[0m         │\n",
       "│   43  \u001b[38;5;71m \u001b[0m\u001b[38;5;71m10-Q  \u001b[0m\u001b[38;5;71m \u001b[0m  CENTERPOINT ENERGY HOUSTON ELECTRIC LLC   48732    \u001b[38;5;39m \u001b[0m\u001b[38;5;39m2024-04-30 \u001b[0m\u001b[38;5;39m \u001b[0m  0001130310-24-000066          │\n",
       "│  \u001b[1m \u001b[0m\u001b[1m44\u001b[0m\u001b[1m \u001b[0m \u001b[1;38;5;71m \u001b[0m\u001b[1;38;5;71m10-Q  \u001b[0m\u001b[1;38;5;71m \u001b[0m \u001b[1m \u001b[0m\u001b[1mCENTERPOINT ENERGY INC                 \u001b[0m\u001b[1m \u001b[0m \u001b[1m \u001b[0m\u001b[1m1130310\u001b[0m\u001b[1m \u001b[0m \u001b[1;38;5;39m \u001b[0m\u001b[1;38;5;39m2024-04-30 \u001b[0m\u001b[1;38;5;39m \u001b[0m \u001b[1m \u001b[0m\u001b[1m0001130310-24-000066\u001b[0m\u001b[1m \u001b[0m         │\n",
       "│   45  \u001b[38;5;71m \u001b[0m\u001b[38;5;71m10-Q  \u001b[0m\u001b[38;5;71m \u001b[0m  CENTERPOINT ENERGY RESOURCES CORP         1042773  \u001b[38;5;39m \u001b[0m\u001b[38;5;39m2024-04-30 \u001b[0m\u001b[38;5;39m \u001b[0m  0001130310-24-000066          │\n",
       "│  \u001b[1m \u001b[0m\u001b[1m46\u001b[0m\u001b[1m \u001b[0m \u001b[1;38;5;71m \u001b[0m\u001b[1;38;5;71m10-Q  \u001b[0m\u001b[1;38;5;71m \u001b[0m \u001b[1m \u001b[0m\u001b[1mCHESAPEAKE ENERGY CORP                 \u001b[0m\u001b[1m \u001b[0m \u001b[1m \u001b[0m\u001b[1m895126 \u001b[0m\u001b[1m \u001b[0m \u001b[1;38;5;39m \u001b[0m\u001b[1;38;5;39m2024-04-30 \u001b[0m\u001b[1;38;5;39m \u001b[0m \u001b[1m \u001b[0m\u001b[1m0000895126-24-000055\u001b[0m\u001b[1m \u001b[0m         │\n",
       "│   47  \u001b[38;5;71m \u001b[0m\u001b[38;5;71m10-Q  \u001b[0m\u001b[38;5;71m \u001b[0m  CLOROX CO /DE/                            21076    \u001b[38;5;39m \u001b[0m\u001b[38;5;39m2024-04-30 \u001b[0m\u001b[38;5;39m \u001b[0m  0000021076-24-000016          │\n",
       "│  \u001b[1m \u001b[0m\u001b[1m48\u001b[0m\u001b[1m \u001b[0m \u001b[1;38;5;71m \u001b[0m\u001b[1;38;5;71m10-Q  \u001b[0m\u001b[1;38;5;71m \u001b[0m \u001b[1m \u001b[0m\u001b[1mCRAWFORD UNITED Corp                   \u001b[0m\u001b[1m \u001b[0m \u001b[1m \u001b[0m\u001b[1m47307  \u001b[0m\u001b[1m \u001b[0m \u001b[1;38;5;39m \u001b[0m\u001b[1;38;5;39m2024-04-30 \u001b[0m\u001b[1;38;5;39m \u001b[0m \u001b[1m \u001b[0m\u001b[1m0001437749-24-013831\u001b[0m\u001b[1m \u001b[0m         │\n",
       "│   49  \u001b[38;5;71m \u001b[0m\u001b[38;5;71m10-Q  \u001b[0m\u001b[38;5;71m \u001b[0m  CREDIT ACCEPTANCE CORP                    885550   \u001b[38;5;39m \u001b[0m\u001b[38;5;39m2024-04-30 \u001b[0m\u001b[38;5;39m \u001b[0m  0000885550-24-000069          │\n",
       "│                                                                                                                 │\n",
       "│ Showing 50 of 1,857 filings                                                                                     │\n",
       "╰─────────────────────────────────────────────────────────────────────────────────────────────────────────────────╯"
      ]
     },
     "execution_count": 4,
     "metadata": {},
     "output_type": "execute_result"
    }
   ],
   "source": [
    "filings"
   ]
  },
  {
   "cell_type": "code",
   "execution_count": 5,
   "metadata": {},
   "outputs": [],
   "source": [
    "filing_metadata = []\n",
    "for filing in filings:\n",
    "    filing_info = filing.to_dict()\n",
    "    metadata = {k: v for k, v in filing_info.items() if k in ['accession_no', 'form', 'filing_date']}\n",
    "    filing_entity = filing.get_entity().to_dict()\n",
    "    for k, v in filing_entity.items():\n",
    "        if k in ['cik', 'name', 'display_name', 'tickers', 'exchanges', 'industry',' category']:\n",
    "            metadata[k] = v\n",
    "    filing_metadata.append(metadata)\n",
    "    with open(f\"../data/mds/{metadata['accession_no']}.md\", \"w\") as f:\n",
    "        f.write(filing.markdown())"
   ]
  },
  {
   "cell_type": "code",
   "execution_count": 6,
   "metadata": {},
   "outputs": [],
   "source": [
    "import pandas as pd\n",
    "import os"
   ]
  },
  {
   "cell_type": "code",
   "execution_count": 7,
   "metadata": {},
   "outputs": [],
   "source": [
    "df_metadata = pd.DataFrame(filing_metadata)"
   ]
  },
  {
   "cell_type": "code",
   "execution_count": 8,
   "metadata": {},
   "outputs": [
    {
     "data": {
      "text/plain": [
       "(1857, 9)"
      ]
     },
     "execution_count": 8,
     "metadata": {},
     "output_type": "execute_result"
    }
   ],
   "source": [
    "df_metadata.shape"
   ]
  },
  {
   "cell_type": "code",
   "execution_count": 9,
   "metadata": {},
   "outputs": [
    {
     "data": {
      "text/plain": [
       "37"
      ]
     },
     "execution_count": 9,
     "metadata": {},
     "output_type": "execute_result"
    }
   ],
   "source": [
    "df_metadata.duplicated(subset='accession_no').sum()"
   ]
  },
  {
   "cell_type": "code",
   "execution_count": 10,
   "metadata": {},
   "outputs": [],
   "source": [
    "df_metadata.drop_duplicates(subset='accession_no', inplace=True)"
   ]
  },
  {
   "cell_type": "code",
   "execution_count": 11,
   "metadata": {},
   "outputs": [
    {
     "data": {
      "text/plain": [
       "(1820, 9)"
      ]
     },
     "execution_count": 11,
     "metadata": {},
     "output_type": "execute_result"
    }
   ],
   "source": [
    "df_metadata.shape"
   ]
  },
  {
   "cell_type": "code",
   "execution_count": 35,
   "metadata": {},
   "outputs": [],
   "source": [
    "df_metadata.to_parquet('../data/metadata.parquet', index=False)"
   ]
  },
  {
   "cell_type": "code",
   "execution_count": 15,
   "metadata": {},
   "outputs": [],
   "source": [
    "from databricks.sdk import WorkspaceClient"
   ]
  },
  {
   "cell_type": "code",
   "execution_count": 18,
   "metadata": {},
   "outputs": [],
   "source": [
    "os.environ[\"DATABRICKS_CONFIG_PROFILE\"] = \"DEFAULT\""
   ]
  },
  {
   "cell_type": "code",
   "execution_count": 19,
   "metadata": {},
   "outputs": [
    {
     "data": {
      "text/html": [
       "<pre style=\"white-space:pre;overflow-x:auto;line-height:normal;font-family:Menlo,'DejaVu Sans Mono',consolas,'Courier New',monospace\"><span style=\"color: #7fbfbf; text-decoration-color: #7fbfbf\">[21:45:31] </span><span style=\"color: #000080; text-decoration-color: #000080\">INFO    </span> loading DEFAULT profile from ~<span style=\"color: #800080; text-decoration-color: #800080\">/</span><span style=\"color: #ff00ff; text-decoration-color: #ff00ff\">.databrickscfg</span>: host, token                        <a href=\"file:///Users/zanelim/Projects/generativeai-worldcup/venv/lib/python3.11/site-packages/databricks/sdk/config.py\" target=\"_blank\"><span style=\"color: #7f7f7f; text-decoration-color: #7f7f7f\">config.py</span></a><span style=\"color: #7f7f7f; text-decoration-color: #7f7f7f\">:</span><a href=\"file:///Users/zanelim/Projects/generativeai-worldcup/venv/lib/python3.11/site-packages/databricks/sdk/config.py#417\" target=\"_blank\"><span style=\"color: #7f7f7f; text-decoration-color: #7f7f7f\">417</span></a>\n",
       "</pre>\n"
      ],
      "text/plain": [
       "\u001b[2;36m[21:45:31]\u001b[0m\u001b[2;36m \u001b[0m\u001b[34mINFO    \u001b[0m loading DEFAULT profile from ~\u001b[35m/\u001b[0m\u001b[95m.databrickscfg\u001b[0m: host, token                        \u001b]8;id=660951;file:///Users/zanelim/Projects/generativeai-worldcup/venv/lib/python3.11/site-packages/databricks/sdk/config.py\u001b\\\u001b[2mconfig.py\u001b[0m\u001b]8;;\u001b\\\u001b[2m:\u001b[0m\u001b]8;id=753968;file:///Users/zanelim/Projects/generativeai-worldcup/venv/lib/python3.11/site-packages/databricks/sdk/config.py#417\u001b\\\u001b[2m417\u001b[0m\u001b]8;;\u001b\\\n"
      ]
     },
     "metadata": {},
     "output_type": "display_data"
    }
   ],
   "source": [
    "w = WorkspaceClient()"
   ]
  },
  {
   "cell_type": "code",
   "execution_count": 26,
   "metadata": {},
   "outputs": [],
   "source": [
    "from pathlib import Path"
   ]
  },
  {
   "cell_type": "code",
   "execution_count": 27,
   "metadata": {},
   "outputs": [],
   "source": [
    "data_folder = Path(\"../data/mds\")"
   ]
  },
  {
   "cell_type": "code",
   "execution_count": 31,
   "metadata": {},
   "outputs": [],
   "source": [
    "volume_path = \"/Volumes/llm_hackathon/default/edgar\""
   ]
  },
  {
   "cell_type": "code",
   "execution_count": 34,
   "metadata": {},
   "outputs": [],
   "source": [
    "for md_file in data_folder.iterdir():\n",
    "    with open(md_file, \"rb\") as f:\n",
    "        w.files.upload(f\"{volume_path}/mds/{md_file.name}\", f, overwrite=True)"
   ]
  }
 ],
 "metadata": {
  "kernelspec": {
   "display_name": "venv",
   "language": "python",
   "name": "python3"
  },
  "language_info": {
   "codemirror_mode": {
    "name": "ipython",
    "version": 3
   },
   "file_extension": ".py",
   "mimetype": "text/x-python",
   "name": "python",
   "nbconvert_exporter": "python",
   "pygments_lexer": "ipython3",
   "version": "3.11.9"
  }
 },
 "nbformat": 4,
 "nbformat_minor": 2
}
