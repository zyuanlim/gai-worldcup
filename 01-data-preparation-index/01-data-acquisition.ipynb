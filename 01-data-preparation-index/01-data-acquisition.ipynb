{
 "cells": [
  {
   "cell_type": "code",
   "execution_count": 1,
   "metadata": {},
   "outputs": [],
   "source": [
    "from edgar import *"
   ]
  },
  {
   "cell_type": "code",
   "execution_count": 2,
   "metadata": {},
   "outputs": [
    {
     "data": {
      "text/html": [
       "<pre style=\"white-space:pre;overflow-x:auto;line-height:normal;font-family:Menlo,'DejaVu Sans Mono',consolas,'Courier New',monospace\"><span style=\"color: #7fbfbf; text-decoration-color: #7fbfbf\">[22:29:29] </span><span style=\"color: #000080; text-decoration-color: #000080\">INFO    </span> Identity of the Edgar REST client set to <span style=\"font-weight: bold\">[</span>Zane Lim zyuanlim@gmail.com<span style=\"font-weight: bold\">]</span>              <a href=\"file:///Users/zanelim/Projects/generativeai-worldcup/venv/lib/python3.11/site-packages/edgar/core.py\" target=\"_blank\"><span style=\"color: #7f7f7f; text-decoration-color: #7f7f7f\">core.py</span></a><span style=\"color: #7f7f7f; text-decoration-color: #7f7f7f\">:</span><a href=\"file:///Users/zanelim/Projects/generativeai-worldcup/venv/lib/python3.11/site-packages/edgar/core.py#154\" target=\"_blank\"><span style=\"color: #7f7f7f; text-decoration-color: #7f7f7f\">154</span></a>\n",
       "</pre>\n"
      ],
      "text/plain": [
       "\u001b[2;36m[22:29:29]\u001b[0m\u001b[2;36m \u001b[0m\u001b[34mINFO    \u001b[0m Identity of the Edgar REST client set to \u001b[1m[\u001b[0mZane Lim zyuanlim@gmail.com\u001b[1m]\u001b[0m              \u001b]8;id=57558;file:///Users/zanelim/Projects/generativeai-worldcup/venv/lib/python3.11/site-packages/edgar/core.py\u001b\\\u001b[2mcore.py\u001b[0m\u001b]8;;\u001b\\\u001b[2m:\u001b[0m\u001b]8;id=900859;file:///Users/zanelim/Projects/generativeai-worldcup/venv/lib/python3.11/site-packages/edgar/core.py#154\u001b\\\u001b[2m154\u001b[0m\u001b]8;;\u001b\\\n"
      ]
     },
     "metadata": {},
     "output_type": "display_data"
    }
   ],
   "source": [
    "set_identity(\"Zane Lim zyuanlim@gmail.com\")"
   ]
  },
  {
   "cell_type": "code",
   "execution_count": 3,
   "metadata": {},
   "outputs": [],
   "source": [
    "filings = get_filings(form=[\"10-K\", \"10-Q\"])"
   ]
  },
  {
   "cell_type": "code",
   "execution_count": 4,
   "metadata": {},
   "outputs": [
    {
     "data": {
      "text/html": [
       "<pre style=\"white-space:pre;overflow-x:auto;line-height:normal;font-family:Menlo,'DejaVu Sans Mono',consolas,'Courier New',monospace\"></pre>\n"
      ],
      "text/plain": []
     },
     "metadata": {},
     "output_type": "display_data"
    },
    {
     "data": {
      "text/plain": [
       "╭──────────────────────────────────────────────────── Filings ────────────────────────────────────────────────────╮\n",
       "│                                                                                                                 │\n",
       "│  \u001b[1m \u001b[0m\u001b[1m  \u001b[0m\u001b[1m \u001b[0m \u001b[1;38;5;71m \u001b[0m\u001b[1;38;5;71mform  \u001b[0m\u001b[1;38;5;71m \u001b[0m \u001b[1m \u001b[0m\u001b[1mcompany                                      \u001b[0m\u001b[1m \u001b[0m \u001b[1m \u001b[0m\u001b[1mcik    \u001b[0m\u001b[1m \u001b[0m \u001b[1;38;5;39m \u001b[0m\u001b[1;38;5;39mfiling_date\u001b[0m\u001b[1;38;5;39m \u001b[0m \u001b[1m \u001b[0m\u001b[1maccession_number    \u001b[0m\u001b[1m \u001b[0m   │\n",
       "│  ────────────────────────────────────────────────────────────────────────────────────────────────────────────   │\n",
       "│  \u001b[1m \u001b[0m\u001b[1m0 \u001b[0m\u001b[1m \u001b[0m \u001b[1;38;5;71m \u001b[0m\u001b[1;38;5;71m10-K  \u001b[0m\u001b[1;38;5;71m \u001b[0m \u001b[1m \u001b[0m\u001b[1mDIH HOLDING US, INC.                         \u001b[0m\u001b[1m \u001b[0m \u001b[1m \u001b[0m\u001b[1m1883788\u001b[0m\u001b[1m \u001b[0m \u001b[1;38;5;39m \u001b[0m\u001b[1;38;5;39m2024-04-29 \u001b[0m\u001b[1;38;5;39m \u001b[0m \u001b[1m \u001b[0m\u001b[1m0001493152-24-017073\u001b[0m\u001b[1m \u001b[0m   │\n",
       "│   1   \u001b[38;5;71m \u001b[0m\u001b[38;5;71m10-K  \u001b[0m\u001b[38;5;71m \u001b[0m  E2open Parent Holdings, Inc.                    1800347  \u001b[38;5;39m \u001b[0m\u001b[38;5;39m2024-04-29 \u001b[0m\u001b[38;5;39m \u001b[0m  0000950170-24-049948    │\n",
       "│  \u001b[1m \u001b[0m\u001b[1m2 \u001b[0m\u001b[1m \u001b[0m \u001b[1;38;5;71m \u001b[0m\u001b[1;38;5;71m10-K  \u001b[0m\u001b[1;38;5;71m \u001b[0m \u001b[1m \u001b[0m\u001b[1mFalcon's Beyond Global, Inc.                 \u001b[0m\u001b[1m \u001b[0m \u001b[1m \u001b[0m\u001b[1m1937987\u001b[0m\u001b[1m \u001b[0m \u001b[1;38;5;39m \u001b[0m\u001b[1;38;5;39m2024-04-29 \u001b[0m\u001b[1;38;5;39m \u001b[0m \u001b[1m \u001b[0m\u001b[1m0001213900-24-036854\u001b[0m\u001b[1m \u001b[0m   │\n",
       "│   3   \u001b[38;5;71m \u001b[0m\u001b[38;5;71m10-K  \u001b[0m\u001b[38;5;71m \u001b[0m  MULTI SOFT II, INC                              766404   \u001b[38;5;39m \u001b[0m\u001b[38;5;39m2024-04-29 \u001b[0m\u001b[38;5;39m \u001b[0m  0000766404-24-000004    │\n",
       "│  \u001b[1m \u001b[0m\u001b[1m4 \u001b[0m\u001b[1m \u001b[0m \u001b[1;38;5;71m \u001b[0m\u001b[1;38;5;71m10-K  \u001b[0m\u001b[1;38;5;71m \u001b[0m \u001b[1m \u001b[0m\u001b[1mMULTI SOLUTIONS II, INC                      \u001b[0m\u001b[1m \u001b[0m \u001b[1m \u001b[0m\u001b[1m723733 \u001b[0m\u001b[1m \u001b[0m \u001b[1;38;5;39m \u001b[0m\u001b[1;38;5;39m2024-04-29 \u001b[0m\u001b[1;38;5;39m \u001b[0m \u001b[1m \u001b[0m\u001b[1m0000723733-24-000004\u001b[0m\u001b[1m \u001b[0m   │\n",
       "│   5   \u001b[38;5;71m \u001b[0m\u001b[38;5;71m10-K  \u001b[0m\u001b[38;5;71m \u001b[0m  Namliong SkyCosmos, Inc.                        1342219  \u001b[38;5;39m \u001b[0m\u001b[38;5;39m2024-04-29 \u001b[0m\u001b[38;5;39m \u001b[0m  0001683168-24-002763    │\n",
       "│  \u001b[1m \u001b[0m\u001b[1m6 \u001b[0m\u001b[1m \u001b[0m \u001b[1;38;5;71m \u001b[0m\u001b[1;38;5;71m10-K  \u001b[0m\u001b[1;38;5;71m \u001b[0m \u001b[1m \u001b[0m\u001b[1mTevogen Bio Holdings Inc.                    \u001b[0m\u001b[1m \u001b[0m \u001b[1m \u001b[0m\u001b[1m1860871\u001b[0m\u001b[1m \u001b[0m \u001b[1;38;5;39m \u001b[0m\u001b[1;38;5;39m2024-04-29 \u001b[0m\u001b[1;38;5;39m \u001b[0m \u001b[1m \u001b[0m\u001b[1m0001493152-24-016796\u001b[0m\u001b[1m \u001b[0m   │\n",
       "│   7   \u001b[38;5;71m \u001b[0m\u001b[38;5;71m10-K/A\u001b[0m\u001b[38;5;71m \u001b[0m  180 Life Sciences Corp.                         1690080  \u001b[38;5;39m \u001b[0m\u001b[38;5;39m2024-04-29 \u001b[0m\u001b[38;5;39m \u001b[0m  0001213900-24-037176    │\n",
       "│  \u001b[1m \u001b[0m\u001b[1m8 \u001b[0m\u001b[1m \u001b[0m \u001b[1;38;5;71m \u001b[0m\u001b[1;38;5;71m10-K/A\u001b[0m\u001b[1;38;5;71m \u001b[0m \u001b[1m \u001b[0m\u001b[1mAGILE THERAPEUTICS INC                       \u001b[0m\u001b[1m \u001b[0m \u001b[1m \u001b[0m\u001b[1m1261249\u001b[0m\u001b[1m \u001b[0m \u001b[1;38;5;39m \u001b[0m\u001b[1;38;5;39m2024-04-29 \u001b[0m\u001b[1;38;5;39m \u001b[0m \u001b[1m \u001b[0m\u001b[1m0001558370-24-006125\u001b[0m\u001b[1m \u001b[0m   │\n",
       "│   9   \u001b[38;5;71m \u001b[0m\u001b[38;5;71m10-K/A\u001b[0m\u001b[38;5;71m \u001b[0m  AIR INDUSTRIES GROUP                            1009891  \u001b[38;5;39m \u001b[0m\u001b[38;5;39m2024-04-29 \u001b[0m\u001b[38;5;39m \u001b[0m  0001213900-24-037146    │\n",
       "│  \u001b[1m \u001b[0m\u001b[1m10\u001b[0m\u001b[1m \u001b[0m \u001b[1;38;5;71m \u001b[0m\u001b[1;38;5;71m10-K/A\u001b[0m\u001b[1;38;5;71m \u001b[0m \u001b[1m \u001b[0m\u001b[1mALIMERA SCIENCES INC                         \u001b[0m\u001b[1m \u001b[0m \u001b[1m \u001b[0m\u001b[1m1267602\u001b[0m\u001b[1m \u001b[0m \u001b[1;38;5;39m \u001b[0m\u001b[1;38;5;39m2024-04-29 \u001b[0m\u001b[1;38;5;39m \u001b[0m \u001b[1m \u001b[0m\u001b[1m0001267602-24-000027\u001b[0m\u001b[1m \u001b[0m   │\n",
       "│   11  \u001b[38;5;71m \u001b[0m\u001b[38;5;71m10-K/A\u001b[0m\u001b[38;5;71m \u001b[0m  ALLURION TECHNOLOGIES, INC.                     1964979  \u001b[38;5;39m \u001b[0m\u001b[38;5;39m2024-04-29 \u001b[0m\u001b[38;5;39m \u001b[0m  0000950170-24-050047    │\n",
       "│  \u001b[1m \u001b[0m\u001b[1m12\u001b[0m\u001b[1m \u001b[0m \u001b[1;38;5;71m \u001b[0m\u001b[1;38;5;71m10-K/A\u001b[0m\u001b[1;38;5;71m \u001b[0m \u001b[1m \u001b[0m\u001b[1mAMERICAN EQUITY INVESTMENT LIFE HOLDING CO   \u001b[0m\u001b[1m \u001b[0m \u001b[1m \u001b[0m\u001b[1m1039828\u001b[0m\u001b[1m \u001b[0m \u001b[1;38;5;39m \u001b[0m\u001b[1;38;5;39m2024-04-29 \u001b[0m\u001b[1;38;5;39m \u001b[0m \u001b[1m \u001b[0m\u001b[1m0001039828-24-000033\u001b[0m\u001b[1m \u001b[0m   │\n",
       "│   13  \u001b[38;5;71m \u001b[0m\u001b[38;5;71m10-K/A\u001b[0m\u001b[38;5;71m \u001b[0m  ASENSUS SURGICAL, INC.                          876378   \u001b[38;5;39m \u001b[0m\u001b[38;5;39m2024-04-29 \u001b[0m\u001b[38;5;39m \u001b[0m  0001437749-24-013720    │\n",
       "│  \u001b[1m \u001b[0m\u001b[1m14\u001b[0m\u001b[1m \u001b[0m \u001b[1;38;5;71m \u001b[0m\u001b[1;38;5;71m10-K/A\u001b[0m\u001b[1;38;5;71m \u001b[0m \u001b[1m \u001b[0m\u001b[1mASP Isotopes Inc.                            \u001b[0m\u001b[1m \u001b[0m \u001b[1m \u001b[0m\u001b[1m1921865\u001b[0m\u001b[1m \u001b[0m \u001b[1;38;5;39m \u001b[0m\u001b[1;38;5;39m2024-04-29 \u001b[0m\u001b[1;38;5;39m \u001b[0m \u001b[1m \u001b[0m\u001b[1m0001477932-24-002389\u001b[0m\u001b[1m \u001b[0m   │\n",
       "│   15  \u001b[38;5;71m \u001b[0m\u001b[38;5;71m10-K/A\u001b[0m\u001b[38;5;71m \u001b[0m  AUDACY, INC.                                    1067837  \u001b[38;5;39m \u001b[0m\u001b[38;5;39m2024-04-29 \u001b[0m\u001b[38;5;39m \u001b[0m  0001628280-24-019022    │\n",
       "│  \u001b[1m \u001b[0m\u001b[1m16\u001b[0m\u001b[1m \u001b[0m \u001b[1;38;5;71m \u001b[0m\u001b[1;38;5;71m10-K/A\u001b[0m\u001b[1;38;5;71m \u001b[0m \u001b[1m \u001b[0m\u001b[1mAcorda Therapeutics, Inc.                    \u001b[0m\u001b[1m \u001b[0m \u001b[1m \u001b[0m\u001b[1m1008848\u001b[0m\u001b[1m \u001b[0m \u001b[1;38;5;39m \u001b[0m\u001b[1;38;5;39m2024-04-29 \u001b[0m\u001b[1;38;5;39m \u001b[0m \u001b[1m \u001b[0m\u001b[1m0000950170-24-049448\u001b[0m\u001b[1m \u001b[0m   │\n",
       "│   17  \u001b[38;5;71m \u001b[0m\u001b[38;5;71m10-K/A\u001b[0m\u001b[38;5;71m \u001b[0m  African Agriculture Holdings Inc.               1848898  \u001b[38;5;39m \u001b[0m\u001b[38;5;39m2024-04-29 \u001b[0m\u001b[38;5;39m \u001b[0m  0001213900-24-037171    │\n",
       "│  \u001b[1m \u001b[0m\u001b[1m18\u001b[0m\u001b[1m \u001b[0m \u001b[1;38;5;71m \u001b[0m\u001b[1;38;5;71m10-K/A\u001b[0m\u001b[1;38;5;71m \u001b[0m \u001b[1m \u001b[0m\u001b[1mAgrify Corp                                  \u001b[0m\u001b[1m \u001b[0m \u001b[1m \u001b[0m\u001b[1m1800637\u001b[0m\u001b[1m \u001b[0m \u001b[1;38;5;39m \u001b[0m\u001b[1;38;5;39m2024-04-29 \u001b[0m\u001b[1;38;5;39m \u001b[0m \u001b[1m \u001b[0m\u001b[1m0001213900-24-037183\u001b[0m\u001b[1m \u001b[0m   │\n",
       "│   19  \u001b[38;5;71m \u001b[0m\u001b[38;5;71m10-K/A\u001b[0m\u001b[38;5;71m \u001b[0m  Aileron Therapeutics, Inc.                      1420565  \u001b[38;5;39m \u001b[0m\u001b[38;5;39m2024-04-29 \u001b[0m\u001b[38;5;39m \u001b[0m  0001193125-24-120235    │\n",
       "│  \u001b[1m \u001b[0m\u001b[1m20\u001b[0m\u001b[1m \u001b[0m \u001b[1;38;5;71m \u001b[0m\u001b[1;38;5;71m10-K/A\u001b[0m\u001b[1;38;5;71m \u001b[0m \u001b[1m \u001b[0m\u001b[1mAlight, Inc. / Delaware                      \u001b[0m\u001b[1m \u001b[0m \u001b[1m \u001b[0m\u001b[1m1809104\u001b[0m\u001b[1m \u001b[0m \u001b[1;38;5;39m \u001b[0m\u001b[1;38;5;39m2024-04-29 \u001b[0m\u001b[1;38;5;39m \u001b[0m \u001b[1m \u001b[0m\u001b[1m0001193125-24-119673\u001b[0m\u001b[1m \u001b[0m   │\n",
       "│   21  \u001b[38;5;71m \u001b[0m\u001b[38;5;71m10-K/A\u001b[0m\u001b[38;5;71m \u001b[0m  Allarity Therapeutics, Inc.                     1860657  \u001b[38;5;39m \u001b[0m\u001b[38;5;39m2024-04-29 \u001b[0m\u001b[38;5;39m \u001b[0m  0001213900-24-037156    │\n",
       "│  \u001b[1m \u001b[0m\u001b[1m22\u001b[0m\u001b[1m \u001b[0m \u001b[1;38;5;71m \u001b[0m\u001b[1;38;5;71m10-K/A\u001b[0m\u001b[1;38;5;71m \u001b[0m \u001b[1m \u001b[0m\u001b[1mAllied Gaming & Entertainment Inc.           \u001b[0m\u001b[1m \u001b[0m \u001b[1m \u001b[0m\u001b[1m1708341\u001b[0m\u001b[1m \u001b[0m \u001b[1;38;5;39m \u001b[0m\u001b[1;38;5;39m2024-04-29 \u001b[0m\u001b[1;38;5;39m \u001b[0m \u001b[1m \u001b[0m\u001b[1m0000929638-24-001652\u001b[0m\u001b[1m \u001b[0m   │\n",
       "│   23  \u001b[38;5;71m \u001b[0m\u001b[38;5;71m10-K/A\u001b[0m\u001b[38;5;71m \u001b[0m  Altisource Asset Management Corp                1555074  \u001b[38;5;39m \u001b[0m\u001b[38;5;39m2024-04-29 \u001b[0m\u001b[38;5;39m \u001b[0m  0001555074-24-000017    │\n",
       "│  \u001b[1m \u001b[0m\u001b[1m24\u001b[0m\u001b[1m \u001b[0m \u001b[1;38;5;71m \u001b[0m\u001b[1;38;5;71m10-K/A\u001b[0m\u001b[1;38;5;71m \u001b[0m \u001b[1m \u001b[0m\u001b[1mAmerican Oncology Network, Inc.              \u001b[0m\u001b[1m \u001b[0m \u001b[1m \u001b[0m\u001b[1m1839998\u001b[0m\u001b[1m \u001b[0m \u001b[1;38;5;39m \u001b[0m\u001b[1;38;5;39m2024-04-29 \u001b[0m\u001b[1;38;5;39m \u001b[0m \u001b[1m \u001b[0m\u001b[1m0001839998-24-000028\u001b[0m\u001b[1m \u001b[0m   │\n",
       "│   25  \u001b[38;5;71m \u001b[0m\u001b[38;5;71m10-K/A\u001b[0m\u001b[38;5;71m \u001b[0m  Apartment Income REIT Corp.                     1820877  \u001b[38;5;39m \u001b[0m\u001b[38;5;39m2024-04-29 \u001b[0m\u001b[38;5;39m \u001b[0m  0001628280-24-019024    │\n",
       "│  \u001b[1m \u001b[0m\u001b[1m26\u001b[0m\u001b[1m \u001b[0m \u001b[1;38;5;71m \u001b[0m\u001b[1;38;5;71m10-K/A\u001b[0m\u001b[1;38;5;71m \u001b[0m \u001b[1m \u001b[0m\u001b[1mApartment Income REIT, L.P.                  \u001b[0m\u001b[1m \u001b[0m \u001b[1m \u001b[0m\u001b[1m926660 \u001b[0m\u001b[1m \u001b[0m \u001b[1;38;5;39m \u001b[0m\u001b[1;38;5;39m2024-04-29 \u001b[0m\u001b[1;38;5;39m \u001b[0m \u001b[1m \u001b[0m\u001b[1m0001628280-24-019024\u001b[0m\u001b[1m \u001b[0m   │\n",
       "│   27  \u001b[38;5;71m \u001b[0m\u001b[38;5;71m10-K/A\u001b[0m\u001b[38;5;71m \u001b[0m  Aptose Biosciences Inc.                         882361   \u001b[38;5;39m \u001b[0m\u001b[38;5;39m2024-04-29 \u001b[0m\u001b[38;5;39m \u001b[0m  0000950170-24-050057    │\n",
       "│  \u001b[1m \u001b[0m\u001b[1m28\u001b[0m\u001b[1m \u001b[0m \u001b[1;38;5;71m \u001b[0m\u001b[1;38;5;71m10-K/A\u001b[0m\u001b[1;38;5;71m \u001b[0m \u001b[1m \u001b[0m\u001b[1mArcadia Biosciences, Inc.                    \u001b[0m\u001b[1m \u001b[0m \u001b[1m \u001b[0m\u001b[1m1469443\u001b[0m\u001b[1m \u001b[0m \u001b[1;38;5;39m \u001b[0m\u001b[1;38;5;39m2024-04-29 \u001b[0m\u001b[1;38;5;39m \u001b[0m \u001b[1m \u001b[0m\u001b[1m0000950170-24-049710\u001b[0m\u001b[1m \u001b[0m   │\n",
       "│   29  \u001b[38;5;71m \u001b[0m\u001b[38;5;71m10-K/A\u001b[0m\u001b[38;5;71m \u001b[0m  Arcadium Lithium plc                            1977303  \u001b[38;5;39m \u001b[0m\u001b[38;5;39m2024-04-29 \u001b[0m\u001b[38;5;39m \u001b[0m  0001140361-24-022707    │\n",
       "│  \u001b[1m \u001b[0m\u001b[1m30\u001b[0m\u001b[1m \u001b[0m \u001b[1;38;5;71m \u001b[0m\u001b[1;38;5;71m10-K/A\u001b[0m\u001b[1;38;5;71m \u001b[0m \u001b[1m \u001b[0m\u001b[1mArena Group Holdings, Inc.                   \u001b[0m\u001b[1m \u001b[0m \u001b[1m \u001b[0m\u001b[1m894871 \u001b[0m\u001b[1m \u001b[0m \u001b[1;38;5;39m \u001b[0m\u001b[1;38;5;39m2024-04-29 \u001b[0m\u001b[1;38;5;39m \u001b[0m \u001b[1m \u001b[0m\u001b[1m0001493152-24-016961\u001b[0m\u001b[1m \u001b[0m   │\n",
       "│   31  \u001b[38;5;71m \u001b[0m\u001b[38;5;71m10-K/A\u001b[0m\u001b[38;5;71m \u001b[0m  Augmedix, Inc.                                  1769804  \u001b[38;5;39m \u001b[0m\u001b[38;5;39m2024-04-29 \u001b[0m\u001b[38;5;39m \u001b[0m  0001628280-24-018974    │\n",
       "│  \u001b[1m \u001b[0m\u001b[1m32\u001b[0m\u001b[1m \u001b[0m \u001b[1;38;5;71m \u001b[0m\u001b[1;38;5;71m10-K/A\u001b[0m\u001b[1;38;5;71m \u001b[0m \u001b[1m \u001b[0m\u001b[1mAurinia Pharmaceuticals Inc.                 \u001b[0m\u001b[1m \u001b[0m \u001b[1m \u001b[0m\u001b[1m1600620\u001b[0m\u001b[1m \u001b[0m \u001b[1;38;5;39m \u001b[0m\u001b[1;38;5;39m2024-04-29 \u001b[0m\u001b[1;38;5;39m \u001b[0m \u001b[1m \u001b[0m\u001b[1m0001600620-24-000041\u001b[0m\u001b[1m \u001b[0m   │\n",
       "│   33  \u001b[38;5;71m \u001b[0m\u001b[38;5;71m10-K/A\u001b[0m\u001b[38;5;71m \u001b[0m  Axonics, Inc.                                   1603756  \u001b[38;5;39m \u001b[0m\u001b[38;5;39m2024-04-29 \u001b[0m\u001b[38;5;39m \u001b[0m  0001603756-24-000054    │\n",
       "│  \u001b[1m \u001b[0m\u001b[1m34\u001b[0m\u001b[1m \u001b[0m \u001b[1;38;5;71m \u001b[0m\u001b[1;38;5;71m10-K/A\u001b[0m\u001b[1;38;5;71m \u001b[0m \u001b[1m \u001b[0m\u001b[1mAzitra, Inc.                                 \u001b[0m\u001b[1m \u001b[0m \u001b[1m \u001b[0m\u001b[1m1701478\u001b[0m\u001b[1m \u001b[0m \u001b[1;38;5;39m \u001b[0m\u001b[1;38;5;39m2024-04-29 \u001b[0m\u001b[1;38;5;39m \u001b[0m \u001b[1m \u001b[0m\u001b[1m0001493152-24-016954\u001b[0m\u001b[1m \u001b[0m   │\n",
       "│   35  \u001b[38;5;71m \u001b[0m\u001b[38;5;71m10-K/A\u001b[0m\u001b[38;5;71m \u001b[0m  B. Riley Financial, Inc.                        1464790  \u001b[38;5;39m \u001b[0m\u001b[38;5;39m2024-04-29 \u001b[0m\u001b[38;5;39m \u001b[0m  0001213900-24-037190    │\n",
       "│  \u001b[1m \u001b[0m\u001b[1m36\u001b[0m\u001b[1m \u001b[0m \u001b[1;38;5;71m \u001b[0m\u001b[1;38;5;71m10-K/A\u001b[0m\u001b[1;38;5;71m \u001b[0m \u001b[1m \u001b[0m\u001b[1mBATTALION OIL CORP                           \u001b[0m\u001b[1m \u001b[0m \u001b[1m \u001b[0m\u001b[1m1282648\u001b[0m\u001b[1m \u001b[0m \u001b[1;38;5;39m \u001b[0m\u001b[1;38;5;39m2024-04-29 \u001b[0m\u001b[1;38;5;39m \u001b[0m \u001b[1m \u001b[0m\u001b[1m0001558370-24-006126\u001b[0m\u001b[1m \u001b[0m   │\n",
       "│   37  \u001b[38;5;71m \u001b[0m\u001b[38;5;71m10-K/A\u001b[0m\u001b[38;5;71m \u001b[0m  BLUE RIDGE BANKSHARES, INC.                     842717   \u001b[38;5;39m \u001b[0m\u001b[38;5;39m2024-04-29 \u001b[0m\u001b[38;5;39m \u001b[0m  0001193125-24-122209    │\n",
       "│  \u001b[1m \u001b[0m\u001b[1m38\u001b[0m\u001b[1m \u001b[0m \u001b[1;38;5;71m \u001b[0m\u001b[1;38;5;71m10-K/A\u001b[0m\u001b[1;38;5;71m \u001b[0m \u001b[1m \u001b[0m\u001b[1mBOSTON OMAHA Corp                            \u001b[0m\u001b[1m \u001b[0m \u001b[1m \u001b[0m\u001b[1m1494582\u001b[0m\u001b[1m \u001b[0m \u001b[1;38;5;39m \u001b[0m\u001b[1;38;5;39m2024-04-29 \u001b[0m\u001b[1;38;5;39m \u001b[0m \u001b[1m \u001b[0m\u001b[1m0001437749-24-013748\u001b[0m\u001b[1m \u001b[0m   │\n",
       "│   39  \u001b[38;5;71m \u001b[0m\u001b[38;5;71m10-K/A\u001b[0m\u001b[38;5;71m \u001b[0m  Beam Global                                     1398805  \u001b[38;5;39m \u001b[0m\u001b[38;5;39m2024-04-29 \u001b[0m\u001b[38;5;39m \u001b[0m  0001683168-24-002822    │\n",
       "│  \u001b[1m \u001b[0m\u001b[1m40\u001b[0m\u001b[1m \u001b[0m \u001b[1;38;5;71m \u001b[0m\u001b[1;38;5;71m10-K/A\u001b[0m\u001b[1;38;5;71m \u001b[0m \u001b[1m \u001b[0m\u001b[1mBright Green Corp                            \u001b[0m\u001b[1m \u001b[0m \u001b[1m \u001b[0m\u001b[1m1886799\u001b[0m\u001b[1m \u001b[0m \u001b[1;38;5;39m \u001b[0m\u001b[1;38;5;39m2024-04-29 \u001b[0m\u001b[1;38;5;39m \u001b[0m \u001b[1m \u001b[0m\u001b[1m0001493152-24-017043\u001b[0m\u001b[1m \u001b[0m   │\n",
       "│   41  \u001b[38;5;71m \u001b[0m\u001b[38;5;71m10-K/A\u001b[0m\u001b[38;5;71m \u001b[0m  CANADIAN PACIFIC KANSAS CITY LTD/CN             16875    \u001b[38;5;39m \u001b[0m\u001b[38;5;39m2024-04-29 \u001b[0m\u001b[38;5;39m \u001b[0m  0001193125-24-122184    │\n",
       "│  \u001b[1m \u001b[0m\u001b[1m42\u001b[0m\u001b[1m \u001b[0m \u001b[1;38;5;71m \u001b[0m\u001b[1;38;5;71m10-K/A\u001b[0m\u001b[1;38;5;71m \u001b[0m \u001b[1m \u001b[0m\u001b[1mCBAK Energy Technology, Inc.                 \u001b[0m\u001b[1m \u001b[0m \u001b[1m \u001b[0m\u001b[1m1117171\u001b[0m\u001b[1m \u001b[0m \u001b[1;38;5;39m \u001b[0m\u001b[1;38;5;39m2024-04-29 \u001b[0m\u001b[1;38;5;39m \u001b[0m \u001b[1m \u001b[0m\u001b[1m0001213900-24-036832\u001b[0m\u001b[1m \u001b[0m   │\n",
       "│   43  \u001b[38;5;71m \u001b[0m\u001b[38;5;71m10-K/A\u001b[0m\u001b[38;5;71m \u001b[0m  CEDAR FAIR L P                                  811532   \u001b[38;5;39m \u001b[0m\u001b[38;5;39m2024-04-29 \u001b[0m\u001b[38;5;39m \u001b[0m  0000811532-24-000071    │\n",
       "│  \u001b[1m \u001b[0m\u001b[1m44\u001b[0m\u001b[1m \u001b[0m \u001b[1;38;5;71m \u001b[0m\u001b[1;38;5;71m10-K/A\u001b[0m\u001b[1;38;5;71m \u001b[0m \u001b[1m \u001b[0m\u001b[1mCREATIVE MEDICAL TECHNOLOGY HOLDINGS, INC.   \u001b[0m\u001b[1m \u001b[0m \u001b[1m \u001b[0m\u001b[1m1187953\u001b[0m\u001b[1m \u001b[0m \u001b[1;38;5;39m \u001b[0m\u001b[1;38;5;39m2024-04-29 \u001b[0m\u001b[1;38;5;39m \u001b[0m \u001b[1m \u001b[0m\u001b[1m0001477932-24-002384\u001b[0m\u001b[1m \u001b[0m   │\n",
       "│   45  \u001b[38;5;71m \u001b[0m\u001b[38;5;71m10-K/A\u001b[0m\u001b[38;5;71m \u001b[0m  CalciMedica, Inc.                               1534133  \u001b[38;5;39m \u001b[0m\u001b[38;5;39m2024-04-29 \u001b[0m\u001b[38;5;39m \u001b[0m  0001193125-24-120151    │\n",
       "│  \u001b[1m \u001b[0m\u001b[1m46\u001b[0m\u001b[1m \u001b[0m \u001b[1;38;5;71m \u001b[0m\u001b[1;38;5;71m10-K/A\u001b[0m\u001b[1;38;5;71m \u001b[0m \u001b[1m \u001b[0m\u001b[1mCaliberCos Inc.                              \u001b[0m\u001b[1m \u001b[0m \u001b[1m \u001b[0m\u001b[1m1627282\u001b[0m\u001b[1m \u001b[0m \u001b[1;38;5;39m \u001b[0m\u001b[1;38;5;39m2024-04-29 \u001b[0m\u001b[1;38;5;39m \u001b[0m \u001b[1m \u001b[0m\u001b[1m0001627282-24-000043\u001b[0m\u001b[1m \u001b[0m   │\n",
       "│   47  \u001b[38;5;71m \u001b[0m\u001b[38;5;71m10-K/A\u001b[0m\u001b[38;5;71m \u001b[0m  CareMax, Inc.                                   1813914  \u001b[38;5;39m \u001b[0m\u001b[38;5;39m2024-04-29 \u001b[0m\u001b[38;5;39m \u001b[0m  0000950170-24-050024    │\n",
       "│  \u001b[1m \u001b[0m\u001b[1m48\u001b[0m\u001b[1m \u001b[0m \u001b[1;38;5;71m \u001b[0m\u001b[1;38;5;71m10-K/A\u001b[0m\u001b[1;38;5;71m \u001b[0m \u001b[1m \u001b[0m\u001b[1mCarmell Corp                                 \u001b[0m\u001b[1m \u001b[0m \u001b[1m \u001b[0m\u001b[1m1842939\u001b[0m\u001b[1m \u001b[0m \u001b[1;38;5;39m \u001b[0m\u001b[1;38;5;39m2024-04-29 \u001b[0m\u001b[1;38;5;39m \u001b[0m \u001b[1m \u001b[0m\u001b[1m0000950170-24-050040\u001b[0m\u001b[1m \u001b[0m   │\n",
       "│   49  \u001b[38;5;71m \u001b[0m\u001b[38;5;71m10-K/A\u001b[0m\u001b[38;5;71m \u001b[0m  Chicken Soup for the Soul Entertainment, Inc.   1679063  \u001b[38;5;39m \u001b[0m\u001b[38;5;39m2024-04-29 \u001b[0m\u001b[38;5;39m \u001b[0m  0001104659-24-054108    │\n",
       "│                                                                                                                 │\n",
       "│ Showing 50 of 1,682 filings                                                                                     │\n",
       "╰─────────────────────────────────────────────────────────────────────────────────────────────────────────────────╯"
      ]
     },
     "execution_count": 4,
     "metadata": {},
     "output_type": "execute_result"
    }
   ],
   "source": [
    "filings"
   ]
  },
  {
   "cell_type": "code",
   "execution_count": 6,
   "metadata": {},
   "outputs": [],
   "source": [
    "filing_metadata = []\n",
    "for filing in filings:\n",
    "    filing_info = filing.to_dict()\n",
    "    metadata = {k: v for k, v in filing_info.items() if k in ['accession_no', 'form', 'filing_date']}\n",
    "    filing_entity = filing.get_entity().to_dict()\n",
    "    for k, v in filing_entity.items():\n",
    "        if k in ['cik', 'name', 'display_name', 'tickers', 'exchanges', 'industry',' category']:\n",
    "            metadata[k] = v\n",
    "    filing_metadata.append(metadata)\n",
    "    with open(f\"../data/{metadata['accession_no']}.html\", \"w\") as f:\n",
    "        f.write(filing.html())"
   ]
  },
  {
   "cell_type": "code",
   "execution_count": 7,
   "metadata": {},
   "outputs": [],
   "source": [
    "import pandas as pd"
   ]
  },
  {
   "cell_type": "code",
   "execution_count": 8,
   "metadata": {},
   "outputs": [],
   "source": [
    "df_metadata = pd.DataFrame(filing_metadata)"
   ]
  },
  {
   "cell_type": "code",
   "execution_count": 9,
   "metadata": {},
   "outputs": [
    {
     "data": {
      "text/plain": [
       "(1682, 9)"
      ]
     },
     "execution_count": 9,
     "metadata": {},
     "output_type": "execute_result"
    }
   ],
   "source": [
    "df_metadata.shape"
   ]
  },
  {
   "cell_type": "code",
   "execution_count": 12,
   "metadata": {},
   "outputs": [
    {
     "data": {
      "text/plain": [
       "26"
      ]
     },
     "execution_count": 12,
     "metadata": {},
     "output_type": "execute_result"
    }
   ],
   "source": [
    "df_metadata.duplicated(subset='accession_no').sum()"
   ]
  },
  {
   "cell_type": "code",
   "execution_count": 22,
   "metadata": {},
   "outputs": [],
   "source": [
    "df_metadata.drop_duplicates(subset='accession_no', inplace=True)"
   ]
  },
  {
   "cell_type": "code",
   "execution_count": 23,
   "metadata": {},
   "outputs": [
    {
     "data": {
      "text/plain": [
       "(1656, 9)"
      ]
     },
     "execution_count": 23,
     "metadata": {},
     "output_type": "execute_result"
    }
   ],
   "source": [
    "df_metadata.shape"
   ]
  },
  {
   "cell_type": "code",
   "execution_count": 24,
   "metadata": {},
   "outputs": [],
   "source": [
    "df_metadata.to_parquet('../data/metadata.parquet', index=False)"
   ]
  }
 ],
 "metadata": {
  "kernelspec": {
   "display_name": "venv",
   "language": "python",
   "name": "python3"
  },
  "language_info": {
   "codemirror_mode": {
    "name": "ipython",
    "version": 3
   },
   "file_extension": ".py",
   "mimetype": "text/x-python",
   "name": "python",
   "nbconvert_exporter": "python",
   "pygments_lexer": "ipython3",
   "version": "3.11.9"
  }
 },
 "nbformat": 4,
 "nbformat_minor": 2
}
